{
  "cells": [
    {
      "cell_type": "code",
      "execution_count": 1,
      "metadata": {
        "id": "-88NKxXmEhpJ"
      },
      "outputs": [],
      "source": [
        "import pandas as pd"
      ]
    },
    {
      "cell_type": "code",
      "execution_count": 2,
      "metadata": {
        "colab": {
          "base_uri": "https://localhost:8080/",
          "height": 226
        },
        "id": "0Qmth1vLFNCo",
        "outputId": "e473b837-bc36-4fa6-9b07-e4f83fb6ea8f"
      },
      "outputs": [
        {
          "data": {
            "text/html": [
              "<div>\n",
              "<style scoped>\n",
              "    .dataframe tbody tr th:only-of-type {\n",
              "        vertical-align: middle;\n",
              "    }\n",
              "\n",
              "    .dataframe tbody tr th {\n",
              "        vertical-align: top;\n",
              "    }\n",
              "\n",
              "    .dataframe thead th {\n",
              "        text-align: right;\n",
              "    }\n",
              "</style>\n",
              "<table border=\"1\" class=\"dataframe\">\n",
              "  <thead>\n",
              "    <tr style=\"text-align: right;\">\n",
              "      <th></th>\n",
              "      <th>receita_cliente</th>\n",
              "      <th>anuidade_emprestimo</th>\n",
              "      <th>anos_casa_propria</th>\n",
              "      <th>telefone_trab</th>\n",
              "      <th>avaliacao_cidade</th>\n",
              "      <th>score_1</th>\n",
              "      <th>score_2</th>\n",
              "      <th>score_3</th>\n",
              "      <th>score_social</th>\n",
              "      <th>troca_telefone</th>\n",
              "      <th>inadimplente</th>\n",
              "    </tr>\n",
              "  </thead>\n",
              "  <tbody>\n",
              "    <tr>\n",
              "      <th>0</th>\n",
              "      <td>16855.246324</td>\n",
              "      <td>2997.000000</td>\n",
              "      <td>12.157324</td>\n",
              "      <td>0</td>\n",
              "      <td>2.0</td>\n",
              "      <td>0.501213</td>\n",
              "      <td>0.003109</td>\n",
              "      <td>0.513171</td>\n",
              "      <td>0.117428</td>\n",
              "      <td>243.0</td>\n",
              "      <td>1</td>\n",
              "    </tr>\n",
              "    <tr>\n",
              "      <th>1</th>\n",
              "      <td>13500.000000</td>\n",
              "      <td>2776.050000</td>\n",
              "      <td>12.157324</td>\n",
              "      <td>0</td>\n",
              "      <td>2.0</td>\n",
              "      <td>0.501213</td>\n",
              "      <td>0.269730</td>\n",
              "      <td>0.513171</td>\n",
              "      <td>0.097900</td>\n",
              "      <td>617.0</td>\n",
              "      <td>0</td>\n",
              "    </tr>\n",
              "    <tr>\n",
              "      <th>2</th>\n",
              "      <td>11250.000000</td>\n",
              "      <td>2722.188351</td>\n",
              "      <td>12.157324</td>\n",
              "      <td>0</td>\n",
              "      <td>3.0</td>\n",
              "      <td>0.701396</td>\n",
              "      <td>0.518625</td>\n",
              "      <td>0.700184</td>\n",
              "      <td>0.118600</td>\n",
              "      <td>9.0</td>\n",
              "      <td>0</td>\n",
              "    </tr>\n",
              "    <tr>\n",
              "      <th>3</th>\n",
              "      <td>27000.000000</td>\n",
              "      <td>6750.000000</td>\n",
              "      <td>3.000000</td>\n",
              "      <td>0</td>\n",
              "      <td>2.0</td>\n",
              "      <td>0.501213</td>\n",
              "      <td>0.649571</td>\n",
              "      <td>0.513171</td>\n",
              "      <td>0.047400</td>\n",
              "      <td>300.0</td>\n",
              "      <td>0</td>\n",
              "    </tr>\n",
              "    <tr>\n",
              "      <th>4</th>\n",
              "      <td>22500.000000</td>\n",
              "      <td>3097.800000</td>\n",
              "      <td>12.157324</td>\n",
              "      <td>0</td>\n",
              "      <td>2.0</td>\n",
              "      <td>0.440744</td>\n",
              "      <td>0.509677</td>\n",
              "      <td>0.513171</td>\n",
              "      <td>0.014400</td>\n",
              "      <td>2913.0</td>\n",
              "      <td>1</td>\n",
              "    </tr>\n",
              "  </tbody>\n",
              "</table>\n",
              "</div>"
            ],
            "text/plain": [
              "   receita_cliente  anuidade_emprestimo  anos_casa_propria  telefone_trab  \\\n",
              "0     16855.246324          2997.000000          12.157324              0   \n",
              "1     13500.000000          2776.050000          12.157324              0   \n",
              "2     11250.000000          2722.188351          12.157324              0   \n",
              "3     27000.000000          6750.000000           3.000000              0   \n",
              "4     22500.000000          3097.800000          12.157324              0   \n",
              "\n",
              "   avaliacao_cidade   score_1   score_2   score_3  score_social  \\\n",
              "0               2.0  0.501213  0.003109  0.513171      0.117428   \n",
              "1               2.0  0.501213  0.269730  0.513171      0.097900   \n",
              "2               3.0  0.701396  0.518625  0.700184      0.118600   \n",
              "3               2.0  0.501213  0.649571  0.513171      0.047400   \n",
              "4               2.0  0.440744  0.509677  0.513171      0.014400   \n",
              "\n",
              "   troca_telefone  inadimplente  \n",
              "0           243.0             1  \n",
              "1           617.0             0  \n",
              "2             9.0             0  \n",
              "3           300.0             0  \n",
              "4          2913.0             1  "
            ]
          },
          "execution_count": 2,
          "metadata": {},
          "output_type": "execute_result"
        }
      ],
      "source": [
        "dados = pd.read_csv('../dados/03-classificacao-inadimplencia.csv')\n",
        "dados.head()"
      ]
    },
    {
      "cell_type": "code",
      "execution_count": 3,
      "metadata": {
        "colab": {
          "base_uri": "https://localhost:8080/"
        },
        "id": "umQPPFTnFULw",
        "outputId": "636ad47f-6c3f-4e11-efb5-323289677cb8"
      },
      "outputs": [
        {
          "name": "stdout",
          "output_type": "stream",
          "text": [
            "<class 'pandas.core.frame.DataFrame'>\n",
            "RangeIndex: 14578 entries, 0 to 14577\n",
            "Data columns (total 11 columns):\n",
            " #   Column               Non-Null Count  Dtype  \n",
            "---  ------               --------------  -----  \n",
            " 0   receita_cliente      14578 non-null  float64\n",
            " 1   anuidade_emprestimo  14578 non-null  float64\n",
            " 2   anos_casa_propria    14578 non-null  float64\n",
            " 3   telefone_trab        14578 non-null  int64  \n",
            " 4   avaliacao_cidade     14578 non-null  float64\n",
            " 5   score_1              14578 non-null  float64\n",
            " 6   score_2              14578 non-null  float64\n",
            " 7   score_3              14578 non-null  float64\n",
            " 8   score_social         14578 non-null  float64\n",
            " 9   troca_telefone       14578 non-null  float64\n",
            " 10  inadimplente         14578 non-null  int64  \n",
            "dtypes: float64(9), int64(2)\n",
            "memory usage: 1.2 MB\n"
          ]
        }
      ],
      "source": [
        "dados.info()"
      ]
    },
    {
      "cell_type": "code",
      "execution_count": 4,
      "metadata": {
        "colab": {
          "base_uri": "https://localhost:8080/"
        },
        "id": "ZVm1Y15dFpcg",
        "outputId": "8346c44d-8e88-466d-b672-abcd162813ca"
      },
      "outputs": [
        {
          "data": {
            "text/plain": [
              "inadimplente\n",
              "0    67.65\n",
              "1    32.35\n",
              "Name: proportion, dtype: float64"
            ]
          },
          "execution_count": 4,
          "metadata": {},
          "output_type": "execute_result"
        }
      ],
      "source": [
        "round(dados['inadimplente'].value_counts(normalize=True)*100, 2)"
      ]
    },
    {
      "cell_type": "code",
      "execution_count": 5,
      "metadata": {
        "id": "IPynHGmkGLNr"
      },
      "outputs": [],
      "source": [
        "x = dados.drop('inadimplente', axis=1)\n",
        "y = dados['inadimplente']"
      ]
    },
    {
      "cell_type": "code",
      "execution_count": 6,
      "metadata": {
        "id": "4a-HcugIG1zF"
      },
      "outputs": [],
      "source": [
        "from sklearn.model_selection import train_test_split\n",
        "\n",
        "RANDOM_STATE = 42\n",
        "\n",
        "x_treino, x_teste, y_treino, y_teste = train_test_split(x, y, test_size=0.33, random_state=RANDOM_STATE, stratify=y)"
      ]
    },
    {
      "cell_type": "markdown",
      "metadata": {
        "id": "bUPMyVlXHIyI"
      },
      "source": [
        "### Decision tree classifier"
      ]
    },
    {
      "cell_type": "code",
      "execution_count": 7,
      "metadata": {
        "id": "7DGr58t6Myys"
      },
      "outputs": [],
      "source": [
        "from sklearn.tree import DecisionTreeClassifier"
      ]
    },
    {
      "cell_type": "code",
      "execution_count": 8,
      "metadata": {
        "colab": {
          "base_uri": "https://localhost:8080/",
          "height": 74
        },
        "id": "HUqm9WQKM4AP",
        "outputId": "82f27b17-f5fc-4671-fdc2-aa68b1fe09a0"
      },
      "outputs": [
        {
          "data": {
            "text/html": [
              "<style>#sk-container-id-1 {color: black;background-color: white;}#sk-container-id-1 pre{padding: 0;}#sk-container-id-1 div.sk-toggleable {background-color: white;}#sk-container-id-1 label.sk-toggleable__label {cursor: pointer;display: block;width: 100%;margin-bottom: 0;padding: 0.3em;box-sizing: border-box;text-align: center;}#sk-container-id-1 label.sk-toggleable__label-arrow:before {content: \"▸\";float: left;margin-right: 0.25em;color: #696969;}#sk-container-id-1 label.sk-toggleable__label-arrow:hover:before {color: black;}#sk-container-id-1 div.sk-estimator:hover label.sk-toggleable__label-arrow:before {color: black;}#sk-container-id-1 div.sk-toggleable__content {max-height: 0;max-width: 0;overflow: hidden;text-align: left;background-color: #f0f8ff;}#sk-container-id-1 div.sk-toggleable__content pre {margin: 0.2em;color: black;border-radius: 0.25em;background-color: #f0f8ff;}#sk-container-id-1 input.sk-toggleable__control:checked~div.sk-toggleable__content {max-height: 200px;max-width: 100%;overflow: auto;}#sk-container-id-1 input.sk-toggleable__control:checked~label.sk-toggleable__label-arrow:before {content: \"▾\";}#sk-container-id-1 div.sk-estimator input.sk-toggleable__control:checked~label.sk-toggleable__label {background-color: #d4ebff;}#sk-container-id-1 div.sk-label input.sk-toggleable__control:checked~label.sk-toggleable__label {background-color: #d4ebff;}#sk-container-id-1 input.sk-hidden--visually {border: 0;clip: rect(1px 1px 1px 1px);clip: rect(1px, 1px, 1px, 1px);height: 1px;margin: -1px;overflow: hidden;padding: 0;position: absolute;width: 1px;}#sk-container-id-1 div.sk-estimator {font-family: monospace;background-color: #f0f8ff;border: 1px dotted black;border-radius: 0.25em;box-sizing: border-box;margin-bottom: 0.5em;}#sk-container-id-1 div.sk-estimator:hover {background-color: #d4ebff;}#sk-container-id-1 div.sk-parallel-item::after {content: \"\";width: 100%;border-bottom: 1px solid gray;flex-grow: 1;}#sk-container-id-1 div.sk-label:hover label.sk-toggleable__label {background-color: #d4ebff;}#sk-container-id-1 div.sk-serial::before {content: \"\";position: absolute;border-left: 1px solid gray;box-sizing: border-box;top: 0;bottom: 0;left: 50%;z-index: 0;}#sk-container-id-1 div.sk-serial {display: flex;flex-direction: column;align-items: center;background-color: white;padding-right: 0.2em;padding-left: 0.2em;position: relative;}#sk-container-id-1 div.sk-item {position: relative;z-index: 1;}#sk-container-id-1 div.sk-parallel {display: flex;align-items: stretch;justify-content: center;background-color: white;position: relative;}#sk-container-id-1 div.sk-item::before, #sk-container-id-1 div.sk-parallel-item::before {content: \"\";position: absolute;border-left: 1px solid gray;box-sizing: border-box;top: 0;bottom: 0;left: 50%;z-index: -1;}#sk-container-id-1 div.sk-parallel-item {display: flex;flex-direction: column;z-index: 1;position: relative;background-color: white;}#sk-container-id-1 div.sk-parallel-item:first-child::after {align-self: flex-end;width: 50%;}#sk-container-id-1 div.sk-parallel-item:last-child::after {align-self: flex-start;width: 50%;}#sk-container-id-1 div.sk-parallel-item:only-child::after {width: 0;}#sk-container-id-1 div.sk-dashed-wrapped {border: 1px dashed gray;margin: 0 0.4em 0.5em 0.4em;box-sizing: border-box;padding-bottom: 0.4em;background-color: white;}#sk-container-id-1 div.sk-label label {font-family: monospace;font-weight: bold;display: inline-block;line-height: 1.2em;}#sk-container-id-1 div.sk-label-container {text-align: center;}#sk-container-id-1 div.sk-container {/* jupyter's `normalize.less` sets `[hidden] { display: none; }` but bootstrap.min.css set `[hidden] { display: none !important; }` so we also need the `!important` here to be able to override the default hidden behavior on the sphinx rendered scikit-learn.org. See: https://github.com/scikit-learn/scikit-learn/issues/21755 */display: inline-block !important;position: relative;}#sk-container-id-1 div.sk-text-repr-fallback {display: none;}</style><div id=\"sk-container-id-1\" class=\"sk-top-container\"><div class=\"sk-text-repr-fallback\"><pre>DecisionTreeClassifier(max_depth=3, random_state=42)</pre><b>In a Jupyter environment, please rerun this cell to show the HTML representation or trust the notebook. <br />On GitHub, the HTML representation is unable to render, please try loading this page with nbviewer.org.</b></div><div class=\"sk-container\" hidden><div class=\"sk-item\"><div class=\"sk-estimator sk-toggleable\"><input class=\"sk-toggleable__control sk-hidden--visually\" id=\"sk-estimator-id-1\" type=\"checkbox\" checked><label for=\"sk-estimator-id-1\" class=\"sk-toggleable__label sk-toggleable__label-arrow\">DecisionTreeClassifier</label><div class=\"sk-toggleable__content\"><pre>DecisionTreeClassifier(max_depth=3, random_state=42)</pre></div></div></div></div></div>"
            ],
            "text/plain": [
              "DecisionTreeClassifier(max_depth=3, random_state=42)"
            ]
          },
          "execution_count": 8,
          "metadata": {},
          "output_type": "execute_result"
        }
      ],
      "source": [
        "modelo_dt = DecisionTreeClassifier(max_depth=3, random_state=RANDOM_STATE)\n",
        "modelo_dt.fit(x_treino, y_treino)"
      ]
    },
    {
      "cell_type": "code",
      "execution_count": 9,
      "metadata": {
        "colab": {
          "base_uri": "https://localhost:8080/"
        },
        "id": "zC3WrbFgNtu8",
        "outputId": "aff26f6c-4e47-4987-890e-71bf00f175f9"
      },
      "outputs": [
        {
          "name": "stdout",
          "output_type": "stream",
          "text": [
            "recall do DT = 0.143\n"
          ]
        }
      ],
      "source": [
        "from sklearn.metrics import recall_score\n",
        "\n",
        "recall_dt = recall_score(y_teste, modelo_dt.predict(x_teste))\n",
        "print(f\"recall do DT = {recall_dt:.3f}\")"
      ]
    },
    {
      "cell_type": "markdown",
      "metadata": {
        "id": "CSccPvVIOwJO"
      },
      "source": [
        "### Regressão logística"
      ]
    },
    {
      "cell_type": "code",
      "execution_count": 10,
      "metadata": {
        "id": "y7smFwpdP91i"
      },
      "outputs": [],
      "source": [
        "from sklearn.linear_model import LogisticRegression\n",
        "from sklearn.pipeline import make_pipeline\n",
        "from sklearn.preprocessing import StandardScaler"
      ]
    },
    {
      "cell_type": "code",
      "execution_count": 11,
      "metadata": {
        "colab": {
          "base_uri": "https://localhost:8080/",
          "height": 124
        },
        "id": "JNRKRS6nQyeT",
        "outputId": "0f16118a-2b9a-400e-bd64-cd931db185b9"
      },
      "outputs": [
        {
          "data": {
            "text/html": [
              "<style>#sk-container-id-2 {color: black;background-color: white;}#sk-container-id-2 pre{padding: 0;}#sk-container-id-2 div.sk-toggleable {background-color: white;}#sk-container-id-2 label.sk-toggleable__label {cursor: pointer;display: block;width: 100%;margin-bottom: 0;padding: 0.3em;box-sizing: border-box;text-align: center;}#sk-container-id-2 label.sk-toggleable__label-arrow:before {content: \"▸\";float: left;margin-right: 0.25em;color: #696969;}#sk-container-id-2 label.sk-toggleable__label-arrow:hover:before {color: black;}#sk-container-id-2 div.sk-estimator:hover label.sk-toggleable__label-arrow:before {color: black;}#sk-container-id-2 div.sk-toggleable__content {max-height: 0;max-width: 0;overflow: hidden;text-align: left;background-color: #f0f8ff;}#sk-container-id-2 div.sk-toggleable__content pre {margin: 0.2em;color: black;border-radius: 0.25em;background-color: #f0f8ff;}#sk-container-id-2 input.sk-toggleable__control:checked~div.sk-toggleable__content {max-height: 200px;max-width: 100%;overflow: auto;}#sk-container-id-2 input.sk-toggleable__control:checked~label.sk-toggleable__label-arrow:before {content: \"▾\";}#sk-container-id-2 div.sk-estimator input.sk-toggleable__control:checked~label.sk-toggleable__label {background-color: #d4ebff;}#sk-container-id-2 div.sk-label input.sk-toggleable__control:checked~label.sk-toggleable__label {background-color: #d4ebff;}#sk-container-id-2 input.sk-hidden--visually {border: 0;clip: rect(1px 1px 1px 1px);clip: rect(1px, 1px, 1px, 1px);height: 1px;margin: -1px;overflow: hidden;padding: 0;position: absolute;width: 1px;}#sk-container-id-2 div.sk-estimator {font-family: monospace;background-color: #f0f8ff;border: 1px dotted black;border-radius: 0.25em;box-sizing: border-box;margin-bottom: 0.5em;}#sk-container-id-2 div.sk-estimator:hover {background-color: #d4ebff;}#sk-container-id-2 div.sk-parallel-item::after {content: \"\";width: 100%;border-bottom: 1px solid gray;flex-grow: 1;}#sk-container-id-2 div.sk-label:hover label.sk-toggleable__label {background-color: #d4ebff;}#sk-container-id-2 div.sk-serial::before {content: \"\";position: absolute;border-left: 1px solid gray;box-sizing: border-box;top: 0;bottom: 0;left: 50%;z-index: 0;}#sk-container-id-2 div.sk-serial {display: flex;flex-direction: column;align-items: center;background-color: white;padding-right: 0.2em;padding-left: 0.2em;position: relative;}#sk-container-id-2 div.sk-item {position: relative;z-index: 1;}#sk-container-id-2 div.sk-parallel {display: flex;align-items: stretch;justify-content: center;background-color: white;position: relative;}#sk-container-id-2 div.sk-item::before, #sk-container-id-2 div.sk-parallel-item::before {content: \"\";position: absolute;border-left: 1px solid gray;box-sizing: border-box;top: 0;bottom: 0;left: 50%;z-index: -1;}#sk-container-id-2 div.sk-parallel-item {display: flex;flex-direction: column;z-index: 1;position: relative;background-color: white;}#sk-container-id-2 div.sk-parallel-item:first-child::after {align-self: flex-end;width: 50%;}#sk-container-id-2 div.sk-parallel-item:last-child::after {align-self: flex-start;width: 50%;}#sk-container-id-2 div.sk-parallel-item:only-child::after {width: 0;}#sk-container-id-2 div.sk-dashed-wrapped {border: 1px dashed gray;margin: 0 0.4em 0.5em 0.4em;box-sizing: border-box;padding-bottom: 0.4em;background-color: white;}#sk-container-id-2 div.sk-label label {font-family: monospace;font-weight: bold;display: inline-block;line-height: 1.2em;}#sk-container-id-2 div.sk-label-container {text-align: center;}#sk-container-id-2 div.sk-container {/* jupyter's `normalize.less` sets `[hidden] { display: none; }` but bootstrap.min.css set `[hidden] { display: none !important; }` so we also need the `!important` here to be able to override the default hidden behavior on the sphinx rendered scikit-learn.org. See: https://github.com/scikit-learn/scikit-learn/issues/21755 */display: inline-block !important;position: relative;}#sk-container-id-2 div.sk-text-repr-fallback {display: none;}</style><div id=\"sk-container-id-2\" class=\"sk-top-container\"><div class=\"sk-text-repr-fallback\"><pre>Pipeline(steps=[(&#x27;standardscaler&#x27;, StandardScaler()),\n",
              "                (&#x27;logisticregression&#x27;, LogisticRegression())])</pre><b>In a Jupyter environment, please rerun this cell to show the HTML representation or trust the notebook. <br />On GitHub, the HTML representation is unable to render, please try loading this page with nbviewer.org.</b></div><div class=\"sk-container\" hidden><div class=\"sk-item sk-dashed-wrapped\"><div class=\"sk-label-container\"><div class=\"sk-label sk-toggleable\"><input class=\"sk-toggleable__control sk-hidden--visually\" id=\"sk-estimator-id-2\" type=\"checkbox\" ><label for=\"sk-estimator-id-2\" class=\"sk-toggleable__label sk-toggleable__label-arrow\">Pipeline</label><div class=\"sk-toggleable__content\"><pre>Pipeline(steps=[(&#x27;standardscaler&#x27;, StandardScaler()),\n",
              "                (&#x27;logisticregression&#x27;, LogisticRegression())])</pre></div></div></div><div class=\"sk-serial\"><div class=\"sk-item\"><div class=\"sk-estimator sk-toggleable\"><input class=\"sk-toggleable__control sk-hidden--visually\" id=\"sk-estimator-id-3\" type=\"checkbox\" ><label for=\"sk-estimator-id-3\" class=\"sk-toggleable__label sk-toggleable__label-arrow\">StandardScaler</label><div class=\"sk-toggleable__content\"><pre>StandardScaler()</pre></div></div></div><div class=\"sk-item\"><div class=\"sk-estimator sk-toggleable\"><input class=\"sk-toggleable__control sk-hidden--visually\" id=\"sk-estimator-id-4\" type=\"checkbox\" ><label for=\"sk-estimator-id-4\" class=\"sk-toggleable__label sk-toggleable__label-arrow\">LogisticRegression</label><div class=\"sk-toggleable__content\"><pre>LogisticRegression()</pre></div></div></div></div></div></div></div>"
            ],
            "text/plain": [
              "Pipeline(steps=[('standardscaler', StandardScaler()),\n",
              "                ('logisticregression', LogisticRegression())])"
            ]
          },
          "execution_count": 11,
          "metadata": {},
          "output_type": "execute_result"
        }
      ],
      "source": [
        "logistic_pipeline = make_pipeline(StandardScaler(), LogisticRegression())\n",
        "logistic_pipeline.fit(x_treino, y_treino)"
      ]
    },
    {
      "cell_type": "code",
      "execution_count": 12,
      "metadata": {
        "colab": {
          "base_uri": "https://localhost:8080/"
        },
        "id": "11OicU7-RKuW",
        "outputId": "5cad9488-904f-486e-bd4a-2b00b4fc94b7"
      },
      "outputs": [
        {
          "name": "stdout",
          "output_type": "stream",
          "text": [
            "recall do LR = 0.253\n"
          ]
        }
      ],
      "source": [
        "recall_lr = recall_score(y_teste, logistic_pipeline.predict(x_teste))\n",
        "print(f\"recall do LR = {recall_lr:.3f}\")"
      ]
    },
    {
      "cell_type": "markdown",
      "metadata": {
        "id": "hfh-2z7y9aNj"
      },
      "source": [
        "### DecisionTreeClassifier"
      ]
    },
    {
      "cell_type": "code",
      "execution_count": 13,
      "metadata": {
        "id": "rig8TJMw9daB"
      },
      "outputs": [],
      "source": [
        "from sklearn.model_selection import GridSearchCV"
      ]
    },
    {
      "cell_type": "code",
      "execution_count": 14,
      "metadata": {
        "id": "rfKOdfco9eRH"
      },
      "outputs": [],
      "source": [
        "import numpy as np\n",
        "\n",
        "param_grid_dt = {\n",
        "    'criterion':  ['gini', 'entropy'],\n",
        "    'max_depth': np.linspace(6, 12, 4, dtype=int),\n",
        "    'min_samples_split': np.linspace(5, 20, 4, dtype=int),\n",
        "    'min_samples_leaf': np.linspace(5, 20, 4, dtype=int),\n",
        "    'max_features': ['sqrt', 'log2'],\n",
        "    'splitter': ['best', 'random']\n",
        "}"
      ]
    },
    {
      "cell_type": "code",
      "execution_count": 15,
      "metadata": {
        "colab": {
          "base_uri": "https://localhost:8080/",
          "height": 116
        },
        "id": "WNxkgheH9fJo",
        "outputId": "9f346a4b-e60a-4647-e98b-b3b5b5e0a7ad"
      },
      "outputs": [
        {
          "data": {
            "text/html": [
              "<style>#sk-container-id-3 {color: black;background-color: white;}#sk-container-id-3 pre{padding: 0;}#sk-container-id-3 div.sk-toggleable {background-color: white;}#sk-container-id-3 label.sk-toggleable__label {cursor: pointer;display: block;width: 100%;margin-bottom: 0;padding: 0.3em;box-sizing: border-box;text-align: center;}#sk-container-id-3 label.sk-toggleable__label-arrow:before {content: \"▸\";float: left;margin-right: 0.25em;color: #696969;}#sk-container-id-3 label.sk-toggleable__label-arrow:hover:before {color: black;}#sk-container-id-3 div.sk-estimator:hover label.sk-toggleable__label-arrow:before {color: black;}#sk-container-id-3 div.sk-toggleable__content {max-height: 0;max-width: 0;overflow: hidden;text-align: left;background-color: #f0f8ff;}#sk-container-id-3 div.sk-toggleable__content pre {margin: 0.2em;color: black;border-radius: 0.25em;background-color: #f0f8ff;}#sk-container-id-3 input.sk-toggleable__control:checked~div.sk-toggleable__content {max-height: 200px;max-width: 100%;overflow: auto;}#sk-container-id-3 input.sk-toggleable__control:checked~label.sk-toggleable__label-arrow:before {content: \"▾\";}#sk-container-id-3 div.sk-estimator input.sk-toggleable__control:checked~label.sk-toggleable__label {background-color: #d4ebff;}#sk-container-id-3 div.sk-label input.sk-toggleable__control:checked~label.sk-toggleable__label {background-color: #d4ebff;}#sk-container-id-3 input.sk-hidden--visually {border: 0;clip: rect(1px 1px 1px 1px);clip: rect(1px, 1px, 1px, 1px);height: 1px;margin: -1px;overflow: hidden;padding: 0;position: absolute;width: 1px;}#sk-container-id-3 div.sk-estimator {font-family: monospace;background-color: #f0f8ff;border: 1px dotted black;border-radius: 0.25em;box-sizing: border-box;margin-bottom: 0.5em;}#sk-container-id-3 div.sk-estimator:hover {background-color: #d4ebff;}#sk-container-id-3 div.sk-parallel-item::after {content: \"\";width: 100%;border-bottom: 1px solid gray;flex-grow: 1;}#sk-container-id-3 div.sk-label:hover label.sk-toggleable__label {background-color: #d4ebff;}#sk-container-id-3 div.sk-serial::before {content: \"\";position: absolute;border-left: 1px solid gray;box-sizing: border-box;top: 0;bottom: 0;left: 50%;z-index: 0;}#sk-container-id-3 div.sk-serial {display: flex;flex-direction: column;align-items: center;background-color: white;padding-right: 0.2em;padding-left: 0.2em;position: relative;}#sk-container-id-3 div.sk-item {position: relative;z-index: 1;}#sk-container-id-3 div.sk-parallel {display: flex;align-items: stretch;justify-content: center;background-color: white;position: relative;}#sk-container-id-3 div.sk-item::before, #sk-container-id-3 div.sk-parallel-item::before {content: \"\";position: absolute;border-left: 1px solid gray;box-sizing: border-box;top: 0;bottom: 0;left: 50%;z-index: -1;}#sk-container-id-3 div.sk-parallel-item {display: flex;flex-direction: column;z-index: 1;position: relative;background-color: white;}#sk-container-id-3 div.sk-parallel-item:first-child::after {align-self: flex-end;width: 50%;}#sk-container-id-3 div.sk-parallel-item:last-child::after {align-self: flex-start;width: 50%;}#sk-container-id-3 div.sk-parallel-item:only-child::after {width: 0;}#sk-container-id-3 div.sk-dashed-wrapped {border: 1px dashed gray;margin: 0 0.4em 0.5em 0.4em;box-sizing: border-box;padding-bottom: 0.4em;background-color: white;}#sk-container-id-3 div.sk-label label {font-family: monospace;font-weight: bold;display: inline-block;line-height: 1.2em;}#sk-container-id-3 div.sk-label-container {text-align: center;}#sk-container-id-3 div.sk-container {/* jupyter's `normalize.less` sets `[hidden] { display: none; }` but bootstrap.min.css set `[hidden] { display: none !important; }` so we also need the `!important` here to be able to override the default hidden behavior on the sphinx rendered scikit-learn.org. See: https://github.com/scikit-learn/scikit-learn/issues/21755 */display: inline-block !important;position: relative;}#sk-container-id-3 div.sk-text-repr-fallback {display: none;}</style><div id=\"sk-container-id-3\" class=\"sk-top-container\"><div class=\"sk-text-repr-fallback\"><pre>GridSearchCV(cv=StratifiedKFold(n_splits=5, random_state=42, shuffle=True),\n",
              "             estimator=DecisionTreeClassifier(random_state=42), n_jobs=-1,\n",
              "             param_grid={&#x27;criterion&#x27;: [&#x27;gini&#x27;, &#x27;entropy&#x27;],\n",
              "                         &#x27;max_depth&#x27;: array([ 6,  8, 10, 12]),\n",
              "                         &#x27;max_features&#x27;: [&#x27;sqrt&#x27;, &#x27;log2&#x27;],\n",
              "                         &#x27;min_samples_leaf&#x27;: array([ 5, 10, 15, 20]),\n",
              "                         &#x27;min_samples_split&#x27;: array([ 5, 10, 15, 20]),\n",
              "                         &#x27;splitter&#x27;: [&#x27;best&#x27;, &#x27;random&#x27;]},\n",
              "             scoring=&#x27;recall&#x27;)</pre><b>In a Jupyter environment, please rerun this cell to show the HTML representation or trust the notebook. <br />On GitHub, the HTML representation is unable to render, please try loading this page with nbviewer.org.</b></div><div class=\"sk-container\" hidden><div class=\"sk-item sk-dashed-wrapped\"><div class=\"sk-label-container\"><div class=\"sk-label sk-toggleable\"><input class=\"sk-toggleable__control sk-hidden--visually\" id=\"sk-estimator-id-5\" type=\"checkbox\" ><label for=\"sk-estimator-id-5\" class=\"sk-toggleable__label sk-toggleable__label-arrow\">GridSearchCV</label><div class=\"sk-toggleable__content\"><pre>GridSearchCV(cv=StratifiedKFold(n_splits=5, random_state=42, shuffle=True),\n",
              "             estimator=DecisionTreeClassifier(random_state=42), n_jobs=-1,\n",
              "             param_grid={&#x27;criterion&#x27;: [&#x27;gini&#x27;, &#x27;entropy&#x27;],\n",
              "                         &#x27;max_depth&#x27;: array([ 6,  8, 10, 12]),\n",
              "                         &#x27;max_features&#x27;: [&#x27;sqrt&#x27;, &#x27;log2&#x27;],\n",
              "                         &#x27;min_samples_leaf&#x27;: array([ 5, 10, 15, 20]),\n",
              "                         &#x27;min_samples_split&#x27;: array([ 5, 10, 15, 20]),\n",
              "                         &#x27;splitter&#x27;: [&#x27;best&#x27;, &#x27;random&#x27;]},\n",
              "             scoring=&#x27;recall&#x27;)</pre></div></div></div><div class=\"sk-parallel\"><div class=\"sk-parallel-item\"><div class=\"sk-item\"><div class=\"sk-label-container\"><div class=\"sk-label sk-toggleable\"><input class=\"sk-toggleable__control sk-hidden--visually\" id=\"sk-estimator-id-6\" type=\"checkbox\" ><label for=\"sk-estimator-id-6\" class=\"sk-toggleable__label sk-toggleable__label-arrow\">estimator: DecisionTreeClassifier</label><div class=\"sk-toggleable__content\"><pre>DecisionTreeClassifier(random_state=42)</pre></div></div></div><div class=\"sk-serial\"><div class=\"sk-item\"><div class=\"sk-estimator sk-toggleable\"><input class=\"sk-toggleable__control sk-hidden--visually\" id=\"sk-estimator-id-7\" type=\"checkbox\" ><label for=\"sk-estimator-id-7\" class=\"sk-toggleable__label sk-toggleable__label-arrow\">DecisionTreeClassifier</label><div class=\"sk-toggleable__content\"><pre>DecisionTreeClassifier(random_state=42)</pre></div></div></div></div></div></div></div></div></div></div>"
            ],
            "text/plain": [
              "GridSearchCV(cv=StratifiedKFold(n_splits=5, random_state=42, shuffle=True),\n",
              "             estimator=DecisionTreeClassifier(random_state=42), n_jobs=-1,\n",
              "             param_grid={'criterion': ['gini', 'entropy'],\n",
              "                         'max_depth': array([ 6,  8, 10, 12]),\n",
              "                         'max_features': ['sqrt', 'log2'],\n",
              "                         'min_samples_leaf': array([ 5, 10, 15, 20]),\n",
              "                         'min_samples_split': array([ 5, 10, 15, 20]),\n",
              "                         'splitter': ['best', 'random']},\n",
              "             scoring='recall')"
            ]
          },
          "execution_count": 15,
          "metadata": {},
          "output_type": "execute_result"
        }
      ],
      "source": [
        "from sklearn.model_selection import StratifiedKFold\n",
        "\n",
        "cv = StratifiedKFold(shuffle=True, random_state=RANDOM_STATE)\n",
        "\n",
        "dt_grid_search = GridSearchCV(estimator=DecisionTreeClassifier(random_state=RANDOM_STATE),\n",
        "             param_grid=param_grid_dt,\n",
        "             scoring=\"recall\",\n",
        "             n_jobs=-1,\n",
        "             cv=cv)\n",
        "\n",
        "dt_grid_search.fit(x_treino, y_treino)"
      ]
    },
    {
      "cell_type": "markdown",
      "metadata": {
        "id": "gcK3FTwh9qSS"
      },
      "source": [
        "### Obtendo informações da busca em grade"
      ]
    },
    {
      "cell_type": "code",
      "execution_count": 16,
      "metadata": {
        "colab": {
          "base_uri": "https://localhost:8080/"
        },
        "id": "XA0a9iYRAm57",
        "outputId": "d57f5ed3-d6c7-4ae6-f7de-00af65e6f662"
      },
      "outputs": [
        {
          "data": {
            "text/plain": [
              "{'criterion': 'gini',\n",
              " 'max_depth': 12,\n",
              " 'max_features': 'sqrt',\n",
              " 'min_samples_leaf': 15,\n",
              " 'min_samples_split': 5,\n",
              " 'splitter': 'best'}"
            ]
          },
          "execution_count": 16,
          "metadata": {},
          "output_type": "execute_result"
        }
      ],
      "source": [
        "dt_grid_search.best_params_"
      ]
    },
    {
      "cell_type": "code",
      "execution_count": 17,
      "metadata": {
        "colab": {
          "base_uri": "https://localhost:8080/",
          "height": 371
        },
        "id": "qCnwrD5oBJMQ",
        "outputId": "5e7635ec-0ffe-49e2-f7cd-537ca4282af4"
      },
      "outputs": [
        {
          "data": {
            "text/html": [
              "<div>\n",
              "<style scoped>\n",
              "    .dataframe tbody tr th:only-of-type {\n",
              "        vertical-align: middle;\n",
              "    }\n",
              "\n",
              "    .dataframe tbody tr th {\n",
              "        vertical-align: top;\n",
              "    }\n",
              "\n",
              "    .dataframe thead th {\n",
              "        text-align: right;\n",
              "    }\n",
              "</style>\n",
              "<table border=\"1\" class=\"dataframe\">\n",
              "  <thead>\n",
              "    <tr style=\"text-align: right;\">\n",
              "      <th></th>\n",
              "      <th>mean_fit_time</th>\n",
              "      <th>std_fit_time</th>\n",
              "      <th>mean_score_time</th>\n",
              "      <th>std_score_time</th>\n",
              "      <th>param_criterion</th>\n",
              "      <th>param_max_depth</th>\n",
              "      <th>param_max_features</th>\n",
              "      <th>param_min_samples_leaf</th>\n",
              "      <th>param_min_samples_split</th>\n",
              "      <th>param_splitter</th>\n",
              "      <th>params</th>\n",
              "      <th>split0_test_score</th>\n",
              "      <th>split1_test_score</th>\n",
              "      <th>split2_test_score</th>\n",
              "      <th>split3_test_score</th>\n",
              "      <th>split4_test_score</th>\n",
              "      <th>mean_test_score</th>\n",
              "      <th>std_test_score</th>\n",
              "      <th>rank_test_score</th>\n",
              "    </tr>\n",
              "  </thead>\n",
              "  <tbody>\n",
              "    <tr>\n",
              "      <th>0</th>\n",
              "      <td>0.012918</td>\n",
              "      <td>0.002781</td>\n",
              "      <td>0.004665</td>\n",
              "      <td>0.001284</td>\n",
              "      <td>gini</td>\n",
              "      <td>6</td>\n",
              "      <td>sqrt</td>\n",
              "      <td>5</td>\n",
              "      <td>5</td>\n",
              "      <td>best</td>\n",
              "      <td>{'criterion': 'gini', 'max_depth': 6, 'max_fea...</td>\n",
              "      <td>0.213608</td>\n",
              "      <td>0.145570</td>\n",
              "      <td>0.205696</td>\n",
              "      <td>0.164557</td>\n",
              "      <td>0.200949</td>\n",
              "      <td>0.186076</td>\n",
              "      <td>0.026336</td>\n",
              "      <td>251</td>\n",
              "    </tr>\n",
              "    <tr>\n",
              "      <th>1</th>\n",
              "      <td>0.006460</td>\n",
              "      <td>0.000394</td>\n",
              "      <td>0.003956</td>\n",
              "      <td>0.000176</td>\n",
              "      <td>gini</td>\n",
              "      <td>6</td>\n",
              "      <td>sqrt</td>\n",
              "      <td>5</td>\n",
              "      <td>5</td>\n",
              "      <td>random</td>\n",
              "      <td>{'criterion': 'gini', 'max_depth': 6, 'max_fea...</td>\n",
              "      <td>0.193038</td>\n",
              "      <td>0.132911</td>\n",
              "      <td>0.132911</td>\n",
              "      <td>0.112342</td>\n",
              "      <td>0.161392</td>\n",
              "      <td>0.146519</td>\n",
              "      <td>0.028013</td>\n",
              "      <td>493</td>\n",
              "    </tr>\n",
              "    <tr>\n",
              "      <th>2</th>\n",
              "      <td>0.010396</td>\n",
              "      <td>0.000532</td>\n",
              "      <td>0.004071</td>\n",
              "      <td>0.000185</td>\n",
              "      <td>gini</td>\n",
              "      <td>6</td>\n",
              "      <td>sqrt</td>\n",
              "      <td>5</td>\n",
              "      <td>10</td>\n",
              "      <td>best</td>\n",
              "      <td>{'criterion': 'gini', 'max_depth': 6, 'max_fea...</td>\n",
              "      <td>0.213608</td>\n",
              "      <td>0.145570</td>\n",
              "      <td>0.205696</td>\n",
              "      <td>0.164557</td>\n",
              "      <td>0.200949</td>\n",
              "      <td>0.186076</td>\n",
              "      <td>0.026336</td>\n",
              "      <td>251</td>\n",
              "    </tr>\n",
              "  </tbody>\n",
              "</table>\n",
              "</div>"
            ],
            "text/plain": [
              "   mean_fit_time  std_fit_time  mean_score_time  std_score_time  \\\n",
              "0       0.012918      0.002781         0.004665        0.001284   \n",
              "1       0.006460      0.000394         0.003956        0.000176   \n",
              "2       0.010396      0.000532         0.004071        0.000185   \n",
              "\n",
              "  param_criterion param_max_depth param_max_features param_min_samples_leaf  \\\n",
              "0            gini               6               sqrt                      5   \n",
              "1            gini               6               sqrt                      5   \n",
              "2            gini               6               sqrt                      5   \n",
              "\n",
              "  param_min_samples_split param_splitter  \\\n",
              "0                       5           best   \n",
              "1                       5         random   \n",
              "2                      10           best   \n",
              "\n",
              "                                              params  split0_test_score  \\\n",
              "0  {'criterion': 'gini', 'max_depth': 6, 'max_fea...           0.213608   \n",
              "1  {'criterion': 'gini', 'max_depth': 6, 'max_fea...           0.193038   \n",
              "2  {'criterion': 'gini', 'max_depth': 6, 'max_fea...           0.213608   \n",
              "\n",
              "   split1_test_score  split2_test_score  split3_test_score  split4_test_score  \\\n",
              "0           0.145570           0.205696           0.164557           0.200949   \n",
              "1           0.132911           0.132911           0.112342           0.161392   \n",
              "2           0.145570           0.205696           0.164557           0.200949   \n",
              "\n",
              "   mean_test_score  std_test_score  rank_test_score  \n",
              "0         0.186076        0.026336              251  \n",
              "1         0.146519        0.028013              493  \n",
              "2         0.186076        0.026336              251  "
            ]
          },
          "execution_count": 17,
          "metadata": {},
          "output_type": "execute_result"
        }
      ],
      "source": [
        "df_cv_results_dt = pd.DataFrame(dt_grid_search.cv_results_)\n",
        "df_cv_results_dt.head(3)"
      ]
    },
    {
      "cell_type": "markdown",
      "metadata": {},
      "source": [
        "### Melhor resultado"
      ]
    },
    {
      "cell_type": "code",
      "execution_count": 18,
      "metadata": {
        "colab": {
          "base_uri": "https://localhost:8080/",
          "height": 170
        },
        "id": "djx6th3JBgMq",
        "outputId": "03f7b479-74ea-4c37-f33c-ed34a2404c32"
      },
      "outputs": [
        {
          "data": {
            "text/html": [
              "<div>\n",
              "<style scoped>\n",
              "    .dataframe tbody tr th:only-of-type {\n",
              "        vertical-align: middle;\n",
              "    }\n",
              "\n",
              "    .dataframe tbody tr th {\n",
              "        vertical-align: top;\n",
              "    }\n",
              "\n",
              "    .dataframe thead th {\n",
              "        text-align: right;\n",
              "    }\n",
              "</style>\n",
              "<table border=\"1\" class=\"dataframe\">\n",
              "  <thead>\n",
              "    <tr style=\"text-align: right;\">\n",
              "      <th></th>\n",
              "      <th>mean_fit_time</th>\n",
              "      <th>std_fit_time</th>\n",
              "      <th>mean_score_time</th>\n",
              "      <th>std_score_time</th>\n",
              "      <th>param_criterion</th>\n",
              "      <th>param_max_depth</th>\n",
              "      <th>param_max_features</th>\n",
              "      <th>param_min_samples_leaf</th>\n",
              "      <th>param_min_samples_split</th>\n",
              "      <th>param_splitter</th>\n",
              "      <th>params</th>\n",
              "      <th>split0_test_score</th>\n",
              "      <th>split1_test_score</th>\n",
              "      <th>split2_test_score</th>\n",
              "      <th>split3_test_score</th>\n",
              "      <th>split4_test_score</th>\n",
              "      <th>mean_test_score</th>\n",
              "      <th>std_test_score</th>\n",
              "      <th>rank_test_score</th>\n",
              "    </tr>\n",
              "  </thead>\n",
              "  <tbody>\n",
              "    <tr>\n",
              "      <th>208</th>\n",
              "      <td>0.013371</td>\n",
              "      <td>0.000237</td>\n",
              "      <td>0.003399</td>\n",
              "      <td>0.000092</td>\n",
              "      <td>gini</td>\n",
              "      <td>12</td>\n",
              "      <td>sqrt</td>\n",
              "      <td>15</td>\n",
              "      <td>5</td>\n",
              "      <td>best</td>\n",
              "      <td>{'criterion': 'gini', 'max_depth': 12, 'max_fe...</td>\n",
              "      <td>0.242089</td>\n",
              "      <td>0.324367</td>\n",
              "      <td>0.272152</td>\n",
              "      <td>0.245253</td>\n",
              "      <td>0.232595</td>\n",
              "      <td>0.263291</td>\n",
              "      <td>0.033244</td>\n",
              "      <td>1</td>\n",
              "    </tr>\n",
              "  </tbody>\n",
              "</table>\n",
              "</div>"
            ],
            "text/plain": [
              "     mean_fit_time  std_fit_time  mean_score_time  std_score_time  \\\n",
              "208       0.013371      0.000237         0.003399        0.000092   \n",
              "\n",
              "    param_criterion param_max_depth param_max_features param_min_samples_leaf  \\\n",
              "208            gini              12               sqrt                     15   \n",
              "\n",
              "    param_min_samples_split param_splitter  \\\n",
              "208                       5           best   \n",
              "\n",
              "                                                params  split0_test_score  \\\n",
              "208  {'criterion': 'gini', 'max_depth': 12, 'max_fe...           0.242089   \n",
              "\n",
              "     split1_test_score  split2_test_score  split3_test_score  \\\n",
              "208           0.324367           0.272152           0.245253   \n",
              "\n",
              "     split4_test_score  mean_test_score  std_test_score  rank_test_score  \n",
              "208           0.232595         0.263291        0.033244                1  "
            ]
          },
          "execution_count": 18,
          "metadata": {},
          "output_type": "execute_result"
        }
      ],
      "source": [
        "df_cv_results_dt.loc[[dt_grid_search.best_index_]]"
      ]
    },
    {
      "cell_type": "code",
      "execution_count": 19,
      "metadata": {
        "colab": {
          "base_uri": "https://localhost:8080/",
          "height": 564
        },
        "id": "c7tc2FH6CZpQ",
        "outputId": "5d8504b7-9c27-4da1-bdfc-bf52bbe7338c"
      },
      "outputs": [
        {
          "data": {
            "image/png": "[encoded data removed]",
            "text/plain": [
              "<Figure size 1000x600 with 1 Axes>"
            ]
          },
          "metadata": {},
          "output_type": "display_data"
        }
      ],
      "source": [
        "import matplotlib.pyplot as plt\n",
        "\n",
        "plt.figure(figsize=(10, 6))\n",
        "plt.scatter(df_cv_results_dt['param_max_depth'],df_cv_results_dt['mean_test_score'])\n",
        "\n",
        "plt.title('max_depth vs. mean_test_score')\n",
        "plt.xlabel('max_depth')\n",
        "plt.ylabel('recall')\n",
        "plt.show()"
      ]
    },
    {
      "cell_type": "code",
      "execution_count": 20,
      "metadata": {
        "colab": {
          "base_uri": "https://localhost:8080/",
          "height": 564
        },
        "id": "dFHF_y4bDTjp",
        "outputId": "917b8614-74a9-4e26-fcab-409ffaf25708"
      },
      "outputs": [
        {
          "data": {
            "image/png": "[encoded data removed]",
            "text/plain": [
              "<Figure size 1000x600 with 1 Axes>"
            ]
          },
          "metadata": {},
          "output_type": "display_data"
        }
      ],
      "source": [
        "plt.figure(figsize=(10, 6))\n",
        "plt.scatter(\n",
        "    df_cv_results_dt['param_min_samples_leaf'],\n",
        "    df_cv_results_dt['mean_test_score'],\n",
        ")\n",
        "\n",
        "plt.title('min_samples_leaf vs. mean_test_score')\n",
        "plt.xlabel('min_samples_leaf')\n",
        "plt.ylabel('recall')\n",
        "plt.show()"
      ]
    },
    {
      "cell_type": "markdown",
      "metadata": {
        "id": "59W-gayoRPUq"
      },
      "source": [
        "###  Busca em grade para o LogisticRegression"
      ]
    },
    {
      "cell_type": "code",
      "execution_count": 21,
      "metadata": {
        "id": "DvULb0qgWMxK"
      },
      "outputs": [],
      "source": [
        "max_iter = np.linspace(100, 300, 5, dtype=int)\n",
        "c = [0.001, 0.01, 0.1, 1, 10]\n",
        "\n",
        "param_grid_lr = [\n",
        "    {'logisticregression__solver' : ['newton-cg', 'lbfgs'],\n",
        "      'logisticregression__penalty' : ['l2'],\n",
        "      'logisticregression__max_iter' : max_iter,\n",
        "       'logisticregression__C' : c},\n",
        "    {'logisticregression__solver' : ['liblinear'],\n",
        "      'logisticregression__penalty' : ['l1', 'l2'],\n",
        "      'logisticregression__max_iter' : max_iter,\n",
        "      'logisticregression__C' : c},\n",
        "]"
      ]
    },
    {
      "cell_type": "code",
      "execution_count": 22,
      "metadata": {
        "colab": {
          "base_uri": "https://localhost:8080/",
          "height": 149
        },
        "id": "xt_pdd7uRUGI",
        "outputId": "938d1dc1-fe61-4b03-c1c9-e04aaafc013a"
      },
      "outputs": [
        {
          "data": {
            "text/html": [
              "<style>#sk-container-id-4 {color: black;background-color: white;}#sk-container-id-4 pre{padding: 0;}#sk-container-id-4 div.sk-toggleable {background-color: white;}#sk-container-id-4 label.sk-toggleable__label {cursor: pointer;display: block;width: 100%;margin-bottom: 0;padding: 0.3em;box-sizing: border-box;text-align: center;}#sk-container-id-4 label.sk-toggleable__label-arrow:before {content: \"▸\";float: left;margin-right: 0.25em;color: #696969;}#sk-container-id-4 label.sk-toggleable__label-arrow:hover:before {color: black;}#sk-container-id-4 div.sk-estimator:hover label.sk-toggleable__label-arrow:before {color: black;}#sk-container-id-4 div.sk-toggleable__content {max-height: 0;max-width: 0;overflow: hidden;text-align: left;background-color: #f0f8ff;}#sk-container-id-4 div.sk-toggleable__content pre {margin: 0.2em;color: black;border-radius: 0.25em;background-color: #f0f8ff;}#sk-container-id-4 input.sk-toggleable__control:checked~div.sk-toggleable__content {max-height: 200px;max-width: 100%;overflow: auto;}#sk-container-id-4 input.sk-toggleable__control:checked~label.sk-toggleable__label-arrow:before {content: \"▾\";}#sk-container-id-4 div.sk-estimator input.sk-toggleable__control:checked~label.sk-toggleable__label {background-color: #d4ebff;}#sk-container-id-4 div.sk-label input.sk-toggleable__control:checked~label.sk-toggleable__label {background-color: #d4ebff;}#sk-container-id-4 input.sk-hidden--visually {border: 0;clip: rect(1px 1px 1px 1px);clip: rect(1px, 1px, 1px, 1px);height: 1px;margin: -1px;overflow: hidden;padding: 0;position: absolute;width: 1px;}#sk-container-id-4 div.sk-estimator {font-family: monospace;background-color: #f0f8ff;border: 1px dotted black;border-radius: 0.25em;box-sizing: border-box;margin-bottom: 0.5em;}#sk-container-id-4 div.sk-estimator:hover {background-color: #d4ebff;}#sk-container-id-4 div.sk-parallel-item::after {content: \"\";width: 100%;border-bottom: 1px solid gray;flex-grow: 1;}#sk-container-id-4 div.sk-label:hover label.sk-toggleable__label {background-color: #d4ebff;}#sk-container-id-4 div.sk-serial::before {content: \"\";position: absolute;border-left: 1px solid gray;box-sizing: border-box;top: 0;bottom: 0;left: 50%;z-index: 0;}#sk-container-id-4 div.sk-serial {display: flex;flex-direction: column;align-items: center;background-color: white;padding-right: 0.2em;padding-left: 0.2em;position: relative;}#sk-container-id-4 div.sk-item {position: relative;z-index: 1;}#sk-container-id-4 div.sk-parallel {display: flex;align-items: stretch;justify-content: center;background-color: white;position: relative;}#sk-container-id-4 div.sk-item::before, #sk-container-id-4 div.sk-parallel-item::before {content: \"\";position: absolute;border-left: 1px solid gray;box-sizing: border-box;top: 0;bottom: 0;left: 50%;z-index: -1;}#sk-container-id-4 div.sk-parallel-item {display: flex;flex-direction: column;z-index: 1;position: relative;background-color: white;}#sk-container-id-4 div.sk-parallel-item:first-child::after {align-self: flex-end;width: 50%;}#sk-container-id-4 div.sk-parallel-item:last-child::after {align-self: flex-start;width: 50%;}#sk-container-id-4 div.sk-parallel-item:only-child::after {width: 0;}#sk-container-id-4 div.sk-dashed-wrapped {border: 1px dashed gray;margin: 0 0.4em 0.5em 0.4em;box-sizing: border-box;padding-bottom: 0.4em;background-color: white;}#sk-container-id-4 div.sk-label label {font-family: monospace;font-weight: bold;display: inline-block;line-height: 1.2em;}#sk-container-id-4 div.sk-label-container {text-align: center;}#sk-container-id-4 div.sk-container {/* jupyter's `normalize.less` sets `[hidden] { display: none; }` but bootstrap.min.css set `[hidden] { display: none !important; }` so we also need the `!important` here to be able to override the default hidden behavior on the sphinx rendered scikit-learn.org. See: https://github.com/scikit-learn/scikit-learn/issues/21755 */display: inline-block !important;position: relative;}#sk-container-id-4 div.sk-text-repr-fallback {display: none;}</style><div id=\"sk-container-id-4\" class=\"sk-top-container\"><div class=\"sk-text-repr-fallback\"><pre>GridSearchCV(cv=StratifiedKFold(n_splits=5, random_state=42, shuffle=True),\n",
              "             estimator=Pipeline(steps=[(&#x27;standardscaler&#x27;, StandardScaler()),\n",
              "                                       (&#x27;logisticregression&#x27;,\n",
              "                                        LogisticRegression())]),\n",
              "             n_jobs=-1,\n",
              "             param_grid=[{&#x27;logisticregression__C&#x27;: [0.001, 0.01, 0.1, 1, 10],\n",
              "                          &#x27;logisticregression__max_iter&#x27;: array([100, 150, 200, 250, 300]),\n",
              "                          &#x27;logisticregression__penalty&#x27;: [&#x27;l2&#x27;],\n",
              "                          &#x27;logisticregression__solver&#x27;: [&#x27;newton-cg&#x27;, &#x27;lbfgs&#x27;]},\n",
              "                         {&#x27;logisticregression__C&#x27;: [0.001, 0.01, 0.1, 1, 10],\n",
              "                          &#x27;logisticregression__max_iter&#x27;: array([100, 150, 200, 250, 300]),\n",
              "                          &#x27;logisticregression__penalty&#x27;: [&#x27;l1&#x27;, &#x27;l2&#x27;],\n",
              "                          &#x27;logisticregression__solver&#x27;: [&#x27;liblinear&#x27;]}],\n",
              "             scoring=&#x27;recall&#x27;)</pre><b>In a Jupyter environment, please rerun this cell to show the HTML representation or trust the notebook. <br />On GitHub, the HTML representation is unable to render, please try loading this page with nbviewer.org.</b></div><div class=\"sk-container\" hidden><div class=\"sk-item sk-dashed-wrapped\"><div class=\"sk-label-container\"><div class=\"sk-label sk-toggleable\"><input class=\"sk-toggleable__control sk-hidden--visually\" id=\"sk-estimator-id-8\" type=\"checkbox\" ><label for=\"sk-estimator-id-8\" class=\"sk-toggleable__label sk-toggleable__label-arrow\">GridSearchCV</label><div class=\"sk-toggleable__content\"><pre>GridSearchCV(cv=StratifiedKFold(n_splits=5, random_state=42, shuffle=True),\n",
              "             estimator=Pipeline(steps=[(&#x27;standardscaler&#x27;, StandardScaler()),\n",
              "                                       (&#x27;logisticregression&#x27;,\n",
              "                                        LogisticRegression())]),\n",
              "             n_jobs=-1,\n",
              "             param_grid=[{&#x27;logisticregression__C&#x27;: [0.001, 0.01, 0.1, 1, 10],\n",
              "                          &#x27;logisticregression__max_iter&#x27;: array([100, 150, 200, 250, 300]),\n",
              "                          &#x27;logisticregression__penalty&#x27;: [&#x27;l2&#x27;],\n",
              "                          &#x27;logisticregression__solver&#x27;: [&#x27;newton-cg&#x27;, &#x27;lbfgs&#x27;]},\n",
              "                         {&#x27;logisticregression__C&#x27;: [0.001, 0.01, 0.1, 1, 10],\n",
              "                          &#x27;logisticregression__max_iter&#x27;: array([100, 150, 200, 250, 300]),\n",
              "                          &#x27;logisticregression__penalty&#x27;: [&#x27;l1&#x27;, &#x27;l2&#x27;],\n",
              "                          &#x27;logisticregression__solver&#x27;: [&#x27;liblinear&#x27;]}],\n",
              "             scoring=&#x27;recall&#x27;)</pre></div></div></div><div class=\"sk-parallel\"><div class=\"sk-parallel-item\"><div class=\"sk-item\"><div class=\"sk-label-container\"><div class=\"sk-label sk-toggleable\"><input class=\"sk-toggleable__control sk-hidden--visually\" id=\"sk-estimator-id-9\" type=\"checkbox\" ><label for=\"sk-estimator-id-9\" class=\"sk-toggleable__label sk-toggleable__label-arrow\">estimator: Pipeline</label><div class=\"sk-toggleable__content\"><pre>Pipeline(steps=[(&#x27;standardscaler&#x27;, StandardScaler()),\n",
              "                (&#x27;logisticregression&#x27;, LogisticRegression())])</pre></div></div></div><div class=\"sk-serial\"><div class=\"sk-item\"><div class=\"sk-serial\"><div class=\"sk-item\"><div class=\"sk-estimator sk-toggleable\"><input class=\"sk-toggleable__control sk-hidden--visually\" id=\"sk-estimator-id-10\" type=\"checkbox\" ><label for=\"sk-estimator-id-10\" class=\"sk-toggleable__label sk-toggleable__label-arrow\">StandardScaler</label><div class=\"sk-toggleable__content\"><pre>StandardScaler()</pre></div></div></div><div class=\"sk-item\"><div class=\"sk-estimator sk-toggleable\"><input class=\"sk-toggleable__control sk-hidden--visually\" id=\"sk-estimator-id-11\" type=\"checkbox\" ><label for=\"sk-estimator-id-11\" class=\"sk-toggleable__label sk-toggleable__label-arrow\">LogisticRegression</label><div class=\"sk-toggleable__content\"><pre>LogisticRegression()</pre></div></div></div></div></div></div></div></div></div></div></div></div>"
            ],
            "text/plain": [
              "GridSearchCV(cv=StratifiedKFold(n_splits=5, random_state=42, shuffle=True),\n",
              "             estimator=Pipeline(steps=[('standardscaler', StandardScaler()),\n",
              "                                       ('logisticregression',\n",
              "                                        LogisticRegression())]),\n",
              "             n_jobs=-1,\n",
              "             param_grid=[{'logisticregression__C': [0.001, 0.01, 0.1, 1, 10],\n",
              "                          'logisticregression__max_iter': array([100, 150, 200, 250, 300]),\n",
              "                          'logisticregression__penalty': ['l2'],\n",
              "                          'logisticregression__solver': ['newton-cg', 'lbfgs']},\n",
              "                         {'logisticregression__C': [0.001, 0.01, 0.1, 1, 10],\n",
              "                          'logisticregression__max_iter': array([100, 150, 200, 250, 300]),\n",
              "                          'logisticregression__penalty': ['l1', 'l2'],\n",
              "                          'logisticregression__solver': ['liblinear']}],\n",
              "             scoring='recall')"
            ]
          },
          "execution_count": 22,
          "metadata": {},
          "output_type": "execute_result"
        }
      ],
      "source": [
        "lr_grid_search = GridSearchCV(estimator=make_pipeline(StandardScaler(), LogisticRegression()),\n",
        "             param_grid=param_grid_lr,\n",
        "             scoring=\"recall\",\n",
        "             n_jobs=-1,\n",
        "             cv=cv)\n",
        "\n",
        "lr_grid_search.fit(x_treino, y_treino)"
      ]
    },
    {
      "cell_type": "code",
      "execution_count": 23,
      "metadata": {
        "colab": {
          "base_uri": "https://localhost:8080/"
        },
        "id": "2NxihEI3XeuV",
        "outputId": "a282ffe2-0465-4c22-809a-ba2243cbc17c"
      },
      "outputs": [
        {
          "data": {
            "text/plain": [
              "{'logisticregression__C': 0.001,\n",
              " 'logisticregression__max_iter': 100,\n",
              " 'logisticregression__penalty': 'l2',\n",
              " 'logisticregression__solver': 'liblinear'}"
            ]
          },
          "execution_count": 23,
          "metadata": {},
          "output_type": "execute_result"
        }
      ],
      "source": [
        "lr_grid_search.best_params_"
      ]
    },
    {
      "cell_type": "code",
      "execution_count": 24,
      "metadata": {
        "colab": {
          "base_uri": "https://localhost:8080/",
          "height": 215
        },
        "id": "0OhJX3TGXx1P",
        "outputId": "93b46789-183a-4709-e8e1-b6ebf2a2bbf1"
      },
      "outputs": [
        {
          "data": {
            "text/html": [
              "<div>\n",
              "<style scoped>\n",
              "    .dataframe tbody tr th:only-of-type {\n",
              "        vertical-align: middle;\n",
              "    }\n",
              "\n",
              "    .dataframe tbody tr th {\n",
              "        vertical-align: top;\n",
              "    }\n",
              "\n",
              "    .dataframe thead th {\n",
              "        text-align: right;\n",
              "    }\n",
              "</style>\n",
              "<table border=\"1\" class=\"dataframe\">\n",
              "  <thead>\n",
              "    <tr style=\"text-align: right;\">\n",
              "      <th></th>\n",
              "      <th>mean_fit_time</th>\n",
              "      <th>std_fit_time</th>\n",
              "      <th>mean_score_time</th>\n",
              "      <th>std_score_time</th>\n",
              "      <th>param_logisticregression__C</th>\n",
              "      <th>param_logisticregression__max_iter</th>\n",
              "      <th>param_logisticregression__penalty</th>\n",
              "      <th>param_logisticregression__solver</th>\n",
              "      <th>params</th>\n",
              "      <th>split0_test_score</th>\n",
              "      <th>split1_test_score</th>\n",
              "      <th>split2_test_score</th>\n",
              "      <th>split3_test_score</th>\n",
              "      <th>split4_test_score</th>\n",
              "      <th>mean_test_score</th>\n",
              "      <th>std_test_score</th>\n",
              "      <th>rank_test_score</th>\n",
              "    </tr>\n",
              "  </thead>\n",
              "  <tbody>\n",
              "    <tr>\n",
              "      <th>0</th>\n",
              "      <td>0.042121</td>\n",
              "      <td>0.002542</td>\n",
              "      <td>0.004015</td>\n",
              "      <td>0.000466</td>\n",
              "      <td>0.001</td>\n",
              "      <td>100</td>\n",
              "      <td>l2</td>\n",
              "      <td>newton-cg</td>\n",
              "      <td>{'logisticregression__C': 0.001, 'logisticregr...</td>\n",
              "      <td>0.102848</td>\n",
              "      <td>0.101266</td>\n",
              "      <td>0.115506</td>\n",
              "      <td>0.088608</td>\n",
              "      <td>0.079114</td>\n",
              "      <td>0.097468</td>\n",
              "      <td>0.012523</td>\n",
              "      <td>86</td>\n",
              "    </tr>\n",
              "    <tr>\n",
              "      <th>1</th>\n",
              "      <td>0.019860</td>\n",
              "      <td>0.002288</td>\n",
              "      <td>0.003806</td>\n",
              "      <td>0.000200</td>\n",
              "      <td>0.001</td>\n",
              "      <td>100</td>\n",
              "      <td>l2</td>\n",
              "      <td>lbfgs</td>\n",
              "      <td>{'logisticregression__C': 0.001, 'logisticregr...</td>\n",
              "      <td>0.102848</td>\n",
              "      <td>0.101266</td>\n",
              "      <td>0.115506</td>\n",
              "      <td>0.088608</td>\n",
              "      <td>0.079114</td>\n",
              "      <td>0.097468</td>\n",
              "      <td>0.012523</td>\n",
              "      <td>86</td>\n",
              "    </tr>\n",
              "    <tr>\n",
              "      <th>2</th>\n",
              "      <td>0.027901</td>\n",
              "      <td>0.000584</td>\n",
              "      <td>0.004226</td>\n",
              "      <td>0.000932</td>\n",
              "      <td>0.001</td>\n",
              "      <td>150</td>\n",
              "      <td>l2</td>\n",
              "      <td>newton-cg</td>\n",
              "      <td>{'logisticregression__C': 0.001, 'logisticregr...</td>\n",
              "      <td>0.102848</td>\n",
              "      <td>0.101266</td>\n",
              "      <td>0.115506</td>\n",
              "      <td>0.088608</td>\n",
              "      <td>0.079114</td>\n",
              "      <td>0.097468</td>\n",
              "      <td>0.012523</td>\n",
              "      <td>86</td>\n",
              "    </tr>\n",
              "  </tbody>\n",
              "</table>\n",
              "</div>"
            ],
            "text/plain": [
              "   mean_fit_time  std_fit_time  mean_score_time  std_score_time  \\\n",
              "0       0.042121      0.002542         0.004015        0.000466   \n",
              "1       0.019860      0.002288         0.003806        0.000200   \n",
              "2       0.027901      0.000584         0.004226        0.000932   \n",
              "\n",
              "  param_logisticregression__C param_logisticregression__max_iter  \\\n",
              "0                       0.001                                100   \n",
              "1                       0.001                                100   \n",
              "2                       0.001                                150   \n",
              "\n",
              "  param_logisticregression__penalty param_logisticregression__solver  \\\n",
              "0                                l2                        newton-cg   \n",
              "1                                l2                            lbfgs   \n",
              "2                                l2                        newton-cg   \n",
              "\n",
              "                                              params  split0_test_score  \\\n",
              "0  {'logisticregression__C': 0.001, 'logisticregr...           0.102848   \n",
              "1  {'logisticregression__C': 0.001, 'logisticregr...           0.102848   \n",
              "2  {'logisticregression__C': 0.001, 'logisticregr...           0.102848   \n",
              "\n",
              "   split1_test_score  split2_test_score  split3_test_score  split4_test_score  \\\n",
              "0           0.101266           0.115506           0.088608           0.079114   \n",
              "1           0.101266           0.115506           0.088608           0.079114   \n",
              "2           0.101266           0.115506           0.088608           0.079114   \n",
              "\n",
              "   mean_test_score  std_test_score  rank_test_score  \n",
              "0         0.097468        0.012523               86  \n",
              "1         0.097468        0.012523               86  \n",
              "2         0.097468        0.012523               86  "
            ]
          },
          "execution_count": 24,
          "metadata": {},
          "output_type": "execute_result"
        }
      ],
      "source": [
        "df_cv_results_lr = pd.DataFrame(lr_grid_search.cv_results_)\n",
        "df_cv_results_lr.head(3)"
      ]
    },
    {
      "cell_type": "markdown",
      "metadata": {},
      "source": [
        "### Melhore resultado"
      ]
    },
    {
      "cell_type": "code",
      "execution_count": 25,
      "metadata": {
        "colab": {
          "base_uri": "https://localhost:8080/",
          "height": 118
        },
        "id": "Cnm1wzNxYBZT",
        "outputId": "6c7a401b-899c-448f-bbcd-bf9d55641963"
      },
      "outputs": [
        {
          "data": {
            "text/html": [
              "<div>\n",
              "<style scoped>\n",
              "    .dataframe tbody tr th:only-of-type {\n",
              "        vertical-align: middle;\n",
              "    }\n",
              "\n",
              "    .dataframe tbody tr th {\n",
              "        vertical-align: top;\n",
              "    }\n",
              "\n",
              "    .dataframe thead th {\n",
              "        text-align: right;\n",
              "    }\n",
              "</style>\n",
              "<table border=\"1\" class=\"dataframe\">\n",
              "  <thead>\n",
              "    <tr style=\"text-align: right;\">\n",
              "      <th></th>\n",
              "      <th>mean_fit_time</th>\n",
              "      <th>std_fit_time</th>\n",
              "      <th>mean_score_time</th>\n",
              "      <th>std_score_time</th>\n",
              "      <th>param_logisticregression__C</th>\n",
              "      <th>param_logisticregression__max_iter</th>\n",
              "      <th>param_logisticregression__penalty</th>\n",
              "      <th>param_logisticregression__solver</th>\n",
              "      <th>params</th>\n",
              "      <th>split0_test_score</th>\n",
              "      <th>split1_test_score</th>\n",
              "      <th>split2_test_score</th>\n",
              "      <th>split3_test_score</th>\n",
              "      <th>split4_test_score</th>\n",
              "      <th>mean_test_score</th>\n",
              "      <th>std_test_score</th>\n",
              "      <th>rank_test_score</th>\n",
              "    </tr>\n",
              "  </thead>\n",
              "  <tbody>\n",
              "    <tr>\n",
              "      <th>51</th>\n",
              "      <td>0.022504</td>\n",
              "      <td>0.002429</td>\n",
              "      <td>0.00401</td>\n",
              "      <td>0.00014</td>\n",
              "      <td>0.001</td>\n",
              "      <td>100</td>\n",
              "      <td>l2</td>\n",
              "      <td>liblinear</td>\n",
              "      <td>{'logisticregression__C': 0.001, 'logisticregr...</td>\n",
              "      <td>0.251582</td>\n",
              "      <td>0.254747</td>\n",
              "      <td>0.265823</td>\n",
              "      <td>0.248418</td>\n",
              "      <td>0.235759</td>\n",
              "      <td>0.251266</td>\n",
              "      <td>0.009723</td>\n",
              "      <td>1</td>\n",
              "    </tr>\n",
              "  </tbody>\n",
              "</table>\n",
              "</div>"
            ],
            "text/plain": [
              "    mean_fit_time  std_fit_time  mean_score_time  std_score_time  \\\n",
              "51       0.022504      0.002429          0.00401         0.00014   \n",
              "\n",
              "   param_logisticregression__C param_logisticregression__max_iter  \\\n",
              "51                       0.001                                100   \n",
              "\n",
              "   param_logisticregression__penalty param_logisticregression__solver  \\\n",
              "51                                l2                        liblinear   \n",
              "\n",
              "                                               params  split0_test_score  \\\n",
              "51  {'logisticregression__C': 0.001, 'logisticregr...           0.251582   \n",
              "\n",
              "    split1_test_score  split2_test_score  split3_test_score  \\\n",
              "51           0.254747           0.265823           0.248418   \n",
              "\n",
              "    split4_test_score  mean_test_score  std_test_score  rank_test_score  \n",
              "51           0.235759         0.251266        0.009723                1  "
            ]
          },
          "execution_count": 25,
          "metadata": {},
          "output_type": "execute_result"
        }
      ],
      "source": [
        "df_cv_results_lr.loc[[lr_grid_search.best_index_]]"
      ]
    },
    {
      "cell_type": "code",
      "execution_count": 26,
      "metadata": {
        "colab": {
          "base_uri": "https://localhost:8080/",
          "height": 564
        },
        "id": "qWiIX73sYS4O",
        "outputId": "4dc5793f-d06a-447a-dfed-f2fbdab9eae9"
      },
      "outputs": [
        {
          "data": {
            "image/png": "[encoded data removed]",
            "text/plain": [
              "<Figure size 1000x600 with 1 Axes>"
            ]
          },
          "metadata": {},
          "output_type": "display_data"
        }
      ],
      "source": [
        "plt.figure(figsize=(10, 6))\n",
        "plt.scatter(\n",
        "    df_cv_results_lr['param_logisticregression__max_iter'],\n",
        "    df_cv_results_lr['mean_test_score'],\n",
        ")\n",
        "\n",
        "plt.title('max_iter vs. mean_test_score')\n",
        "plt.xlabel('max_iter')\n",
        "plt.ylabel('recall')\n",
        "plt.show()"
      ]
    },
    {
      "cell_type": "markdown",
      "metadata": {
        "id": "uQcy16EkKHR2"
      },
      "source": [
        "## Validação cruzada aninhada"
      ]
    },
    {
      "cell_type": "markdown",
      "metadata": {
        "id": "WfQUEHiUKRWu"
      },
      "source": [
        "### Decision Tree Classifier"
      ]
    },
    {
      "cell_type": "code",
      "execution_count": 27,
      "metadata": {
        "id": "TwaKka2paotv"
      },
      "outputs": [],
      "source": [
        "inner_cv = StratifiedKFold(shuffle=True, random_state=RANDOM_STATE)\n",
        "\n",
        "outer_cv = StratifiedKFold(n_splits=3, shuffle=True, random_state=RANDOM_STATE)"
      ]
    },
    {
      "cell_type": "code",
      "execution_count": 28,
      "metadata": {
        "id": "2L4vOc27kB7k"
      },
      "outputs": [],
      "source": [
        "from sklearn.model_selection import cross_val_score\n",
        "\n",
        "dt_nested_gs = GridSearchCV(estimator=DecisionTreeClassifier(random_state=RANDOM_STATE),\n",
        "             param_grid=param_grid_dt,\n",
        "             scoring=\"recall\",\n",
        "             n_jobs=-1,\n",
        "             cv=inner_cv)\n",
        "\n",
        "dt_nested_scores = cross_val_score(dt_nested_gs, x_treino, y_treino, cv=outer_cv)"
      ]
    },
    {
      "cell_type": "code",
      "execution_count": 29,
      "metadata": {
        "colab": {
          "base_uri": "https://localhost:8080/"
        },
        "id": "VCRLP5LslGsF",
        "outputId": "529e5b1e-daaf-4c70-e650-190611fd51b8"
      },
      "outputs": [
        {
          "name": "stdout",
          "output_type": "stream",
          "text": [
            "resultado de cada iteração do cv externo: [0.23646724 0.24762808 0.20512821]\n",
            "média: 0.2297411750289676\n"
          ]
        }
      ],
      "source": [
        "print(f'resultado de cada iteração do cv externo: {dt_nested_scores}')\n",
        "print(f'média: {dt_nested_scores.mean()}')"
      ]
    },
    {
      "cell_type": "markdown",
      "metadata": {
        "id": "_XCAKz3LRf4_"
      },
      "source": [
        "## Busca aleatória"
      ]
    },
    {
      "cell_type": "markdown",
      "metadata": {
        "id": "uWKOpN_4RjPC"
      },
      "source": [
        "### Decision Tree Classifier"
      ]
    },
    {
      "cell_type": "code",
      "execution_count": 30,
      "metadata": {
        "id": "4Q33aEXimnXb"
      },
      "outputs": [],
      "source": [
        "from sklearn.model_selection import RandomizedSearchCV"
      ]
    },
    {
      "cell_type": "code",
      "execution_count": 31,
      "metadata": {
        "id": "LbkJBlZens0z"
      },
      "outputs": [],
      "source": [
        "rs_dt = RandomizedSearchCV(estimator=DecisionTreeClassifier(random_state=RANDOM_STATE),\n",
        "                   param_distributions=param_grid_dt,\n",
        "                   n_iter=100,\n",
        "                   scoring='recall',\n",
        "                   n_jobs=-1,\n",
        "                   cv=inner_cv,\n",
        "                   random_state=RANDOM_STATE)\n",
        "\n",
        "rs_dt_nested_scores = cross_val_score(rs_dt, x_treino, y_treino, cv=outer_cv)"
      ]
    },
    {
      "cell_type": "code",
      "execution_count": 32,
      "metadata": {
        "colab": {
          "base_uri": "https://localhost:8080/"
        },
        "id": "hoJt3vzmoqcq",
        "outputId": "8382b14b-15b8-414f-d471-2b421ea87a4b"
      },
      "outputs": [
        {
          "name": "stdout",
          "output_type": "stream",
          "text": [
            "resultado de cada iteração do cv externo: [0.23646724 0.18975332 0.21272555]\n",
            "média: 0.21298203440307595\n"
          ]
        }
      ],
      "source": [
        "print(f'resultado de cada iteração do cv externo: {rs_dt_nested_scores}')\n",
        "print(f'média: {rs_dt_nested_scores.mean()}')"
      ]
    },
    {
      "cell_type": "code",
      "execution_count": 33,
      "metadata": {
        "colab": {
          "base_uri": "https://localhost:8080/"
        },
        "id": "C0dYfTkvoy9x",
        "outputId": "57fe937e-7c91-41fa-a094-710c2e8acc55"
      },
      "outputs": [
        {
          "data": {
            "text/plain": [
              "{'splitter': 'best',\n",
              " 'min_samples_split': 5,\n",
              " 'min_samples_leaf': 15,\n",
              " 'max_features': 'sqrt',\n",
              " 'max_depth': 12,\n",
              " 'criterion': 'gini'}"
            ]
          },
          "execution_count": 33,
          "metadata": {},
          "output_type": "execute_result"
        }
      ],
      "source": [
        "rs_dt.fit(x_treino, y_treino)\n",
        "rs_dt.best_params_"
      ]
    },
    {
      "cell_type": "markdown",
      "metadata": {
        "id": "l8KvnYXptXj8"
      },
      "source": [
        "### Regressão logística"
      ]
    },
    {
      "cell_type": "code",
      "execution_count": 34,
      "metadata": {
        "colab": {
          "base_uri": "https://localhost:8080/"
        },
        "id": "ShpXLlWtvOkq",
        "outputId": "98dc6d6a-a76d-46a1-eb76-df1701442aa7"
      },
      "outputs": [
        {
          "name": "stdout",
          "output_type": "stream",
          "text": [
            "resultado de cada iteração do cv externo: [0.24691358 0.27703985 0.2374169 ]\n",
            "média: 0.2537901108426093\n"
          ]
        }
      ],
      "source": [
        "rs_lr = RandomizedSearchCV(estimator=make_pipeline(StandardScaler(), LogisticRegression()),\n",
        "                   param_distributions=param_grid_lr,\n",
        "                   n_iter=50,\n",
        "                   scoring='recall',\n",
        "                   n_jobs=-1,\n",
        "                   cv=inner_cv,\n",
        "                   random_state=RANDOM_STATE)\n",
        "\n",
        "rs_lr_nested_scores = cross_val_score(rs_lr, x_treino, y_treino, cv=outer_cv)\n",
        "\n",
        "print(f'resultado de cada iteração do cv externo: {rs_lr_nested_scores}')\n",
        "print(f'média: {rs_lr_nested_scores.mean()}')"
      ]
    },
    {
      "cell_type": "code",
      "execution_count": 35,
      "metadata": {
        "colab": {
          "base_uri": "https://localhost:8080/"
        },
        "id": "ecviVFNvwrZY",
        "outputId": "f6ef48fb-997b-4927-ba02-a7ee2b6b6a2b"
      },
      "outputs": [
        {
          "data": {
            "text/plain": [
              "{'logisticregression__solver': 'liblinear',\n",
              " 'logisticregression__penalty': 'l2',\n",
              " 'logisticregression__max_iter': 150,\n",
              " 'logisticregression__C': 0.001}"
            ]
          },
          "execution_count": 35,
          "metadata": {},
          "output_type": "execute_result"
        }
      ],
      "source": [
        "rs_lr.fit(x_treino, y_treino)\n",
        "rs_lr.best_params_"
      ]
    },
    {
      "cell_type": "markdown",
      "metadata": {
        "id": "ZaLzZ85gcAnY"
      },
      "source": [
        "## Otimização Bayesiana"
      ]
    },
    {
      "cell_type": "markdown",
      "metadata": {},
      "source": [
        "!pip install scikit-optimize"
      ]
    },
    {
      "cell_type": "markdown",
      "metadata": {
        "id": "GaIQiu8XcE5y"
      },
      "source": [
        "### Decision Tree  Classifier"
      ]
    },
    {
      "cell_type": "code",
      "execution_count": 37,
      "metadata": {
        "id": "zNGBKns1mSSW"
      },
      "outputs": [],
      "source": [
        "from skopt.space import Real, Integer, Categorical\n",
        "\n",
        "space_dt = {\n",
        "    'criterion': Categorical(['gini', 'entropy']),\n",
        "    'max_depth': Integer(6, 12), # valor inteiro em 6 e 12 \n",
        "    'min_samples_split': Integer(5, 20),\n",
        "    'min_samples_leaf': Integer(5, 20),\n",
        "    'max_features': Categorical(['sqrt', 'log2']),\n",
        "    'splitter': Categorical(['best', 'random'])\n",
        "}\n"
      ]
    },
    {
      "cell_type": "code",
      "execution_count": 38,
      "metadata": {
        "id": "KO0aJZSGnCrH"
      },
      "outputs": [],
      "source": [
        "from skopt import BayesSearchCV"
      ]
    },
    {
      "cell_type": "code",
      "execution_count": 39,
      "metadata": {
        "colab": {
          "base_uri": "https://localhost:8080/"
        },
        "id": "VThae9WYnKiQ",
        "outputId": "3397e49f-4cb6-4ec6-cf7c-a82d1ade68f7"
      },
      "outputs": [
        {
          "name": "stderr",
          "output_type": "stream",
          "text": [
            "/home/rafael/anaconda3/lib/python3.11/site-packages/skopt/optimizer/optimizer.py:517: UserWarning: The objective has been evaluated at point ['gini', 11, 'log2', 20, 5, 'best'] before, using random point ['entropy', 11, 'log2', 16, 16, 'best']\n",
            "  warnings.warn(\n",
            "/home/rafael/anaconda3/lib/python3.11/site-packages/skopt/optimizer/optimizer.py:517: UserWarning: The objective has been evaluated at point ['entropy', 12, 'log2', 20, 5, 'best'] before, using random point ['gini', 6, 'log2', 8, 15, 'best']\n",
            "  warnings.warn(\n",
            "/home/rafael/anaconda3/lib/python3.11/site-packages/skopt/optimizer/optimizer.py:517: UserWarning: The objective has been evaluated at point ['gini', 12, 'log2', 20, 5, 'best'] before, using random point ['entropy', 11, 'log2', 16, 17, 'best']\n",
            "  warnings.warn(\n",
            "/home/rafael/anaconda3/lib/python3.11/site-packages/skopt/optimizer/optimizer.py:517: UserWarning: The objective has been evaluated at point ['gini', 12, 'log2', 5, 20, 'best'] before, using random point ['gini', 10, 'log2', 17, 18, 'best']\n",
            "  warnings.warn(\n",
            "/home/rafael/anaconda3/lib/python3.11/site-packages/skopt/optimizer/optimizer.py:517: UserWarning: The objective has been evaluated at point ['gini', 12, 'log2', 5, 6, 'best'] before, using random point ['gini', 11, 'log2', 12, 13, 'best']\n",
            "  warnings.warn(\n",
            "/home/rafael/anaconda3/lib/python3.11/site-packages/skopt/optimizer/optimizer.py:517: UserWarning: The objective has been evaluated at point ['entropy', 12, 'sqrt', 5, 20, 'best'] before, using random point ['entropy', 7, 'log2', 12, 9, 'best']\n",
            "  warnings.warn(\n",
            "/home/rafael/anaconda3/lib/python3.11/site-packages/skopt/optimizer/optimizer.py:517: UserWarning: The objective has been evaluated at point ['entropy', 12, 'sqrt', 5, 20, 'best'] before, using random point ['entropy', 9, 'sqrt', 15, 14, 'random']\n",
            "  warnings.warn(\n"
          ]
        }
      ],
      "source": [
        "opt_dt = BayesSearchCV(estimator=DecisionTreeClassifier(random_state=RANDOM_STATE),\n",
        "              search_spaces = space_dt,\n",
        "              n_iter=50,\n",
        "              scoring='recall',\n",
        "              n_jobs=-1,\n",
        "              cv=inner_cv,\n",
        "              random_state=RANDOM_STATE)\n",
        "\n",
        "bs_dt_nested_scores = cross_val_score(opt_dt, x_treino, y_treino, cv=outer_cv)"
      ]
    },
    {
      "cell_type": "code",
      "execution_count": 40,
      "metadata": {
        "colab": {
          "base_uri": "https://localhost:8080/"
        },
        "id": "tdXTeGkJn3Dr",
        "outputId": "21145c2f-3cad-420d-efb7-43a6bcf08e13"
      },
      "outputs": [
        {
          "name": "stdout",
          "output_type": "stream",
          "text": [
            "resultado de cada iteração do cv externo: [0.23931624 0.31973435 0.21272555]\n",
            "média: 0.2572587102420541\n"
          ]
        }
      ],
      "source": [
        "print(f'resultado de cada iteração do cv externo: {bs_dt_nested_scores}')\n",
        "print(f'média: {bs_dt_nested_scores.mean()}')"
      ]
    },
    {
      "cell_type": "code",
      "execution_count": 41,
      "metadata": {
        "colab": {
          "base_uri": "https://localhost:8080/"
        },
        "id": "H5yEFTGfp0k6",
        "outputId": "0c0c937a-697e-4036-c7ca-23a53a2d6db6"
      },
      "outputs": [
        {
          "data": {
            "text/plain": [
              "OrderedDict([('criterion', 'gini'),\n",
              "             ('max_depth', 12),\n",
              "             ('max_features', 'log2'),\n",
              "             ('min_samples_leaf', 15),\n",
              "             ('min_samples_split', 5),\n",
              "             ('splitter', 'best')])"
            ]
          },
          "execution_count": 41,
          "metadata": {},
          "output_type": "execute_result"
        }
      ],
      "source": [
        "opt_dt.fit(x_treino, y_treino)\n",
        "opt_dt.best_params_"
      ]
    },
    {
      "cell_type": "markdown",
      "metadata": {
        "id": "EI9zBj2yuf1O"
      },
      "source": [
        "### Regressão logística"
      ]
    },
    {
      "cell_type": "code",
      "execution_count": 42,
      "metadata": {
        "id": "3qLfPrsxug46"
      },
      "outputs": [],
      "source": [
        "max_iter = Integer(100, 300)\n",
        "c = Categorical([0.001, 0.01, 0.1, 1, 10])\n",
        "\n",
        "space_lr = [\n",
        "    {\n",
        "        'logisticregression__solver' : Categorical(['newton-cg', 'lbfgs']),\n",
        "        'logisticregression__penalty' : Categorical(['l2']),\n",
        "        'logisticregression__max_iter' : max_iter,\n",
        "        'logisticregression__C' : c\n",
        "    },\n",
        "    {\n",
        "        'logisticregression__solver' : Categorical(['liblinear']),\n",
        "        'logisticregression__penalty' : Categorical(['l1', 'l2']),\n",
        "        'logisticregression__max_iter' : max_iter,\n",
        "        'logisticregression__C' : c\n",
        "    },\n",
        "]\n"
      ]
    },
    {
      "cell_type": "code",
      "execution_count": 43,
      "metadata": {
        "colab": {
          "base_uri": "https://localhost:8080/"
        },
        "id": "LOqxNsBWvKRl",
        "outputId": "345a064c-fc34-4837-cc05-329ab909252d"
      },
      "outputs": [
        {
          "name": "stderr",
          "output_type": "stream",
          "text": [
            "/home/rafael/anaconda3/lib/python3.11/site-packages/skopt/optimizer/optimizer.py:517: UserWarning: The objective has been evaluated at point [0.1, 148, 'l2', 'newton-cg'] before, using random point [0.01, 220, 'l2', 'lbfgs']\n",
            "  warnings.warn(\n",
            "/home/rafael/anaconda3/lib/python3.11/site-packages/skopt/optimizer/optimizer.py:517: UserWarning: The objective has been evaluated at point [0.001, 300, 'l2', 'liblinear'] before, using random point [0.001, 224, 'l1', 'liblinear']\n",
            "  warnings.warn(\n",
            "/home/rafael/anaconda3/lib/python3.11/site-packages/skopt/optimizer/optimizer.py:517: UserWarning: The objective has been evaluated at point [0.1, 148, 'l2', 'newton-cg'] before, using random point [0.01, 220, 'l2', 'lbfgs']\n",
            "  warnings.warn(\n",
            "/home/rafael/anaconda3/lib/python3.11/site-packages/skopt/optimizer/optimizer.py:517: UserWarning: The objective has been evaluated at point [0.001, 100, 'l2', 'liblinear'] before, using random point [0.001, 224, 'l1', 'liblinear']\n",
            "  warnings.warn(\n"
          ]
        }
      ],
      "source": [
        "opt_lr = BayesSearchCV(estimator=make_pipeline(StandardScaler(), LogisticRegression()),\n",
        "              search_spaces = space_lr,\n",
        "              n_iter=50,\n",
        "              scoring='recall',\n",
        "              n_jobs=-1,\n",
        "              cv=inner_cv,\n",
        "              random_state=RANDOM_STATE)\n",
        "\n",
        "bs_lr_nested_scores = cross_val_score(opt_lr, x_treino, y_treino, cv=outer_cv)"
      ]
    },
    {
      "cell_type": "code",
      "execution_count": 44,
      "metadata": {
        "colab": {
          "base_uri": "https://localhost:8080/"
        },
        "id": "5mtmKdjNvjke",
        "outputId": "ff79918e-0151-40d2-9d3c-bd47188e9240"
      },
      "outputs": [
        {
          "name": "stdout",
          "output_type": "stream",
          "text": [
            "resultado de cada iteração do cv externo: [0.24691358 0.27703985 0.2374169 ]\n",
            "média: 0.2537901108426093\n"
          ]
        }
      ],
      "source": [
        "print(f'resultado de cada iteração do cv externo: {bs_lr_nested_scores}')\n",
        "print(f'média: {bs_lr_nested_scores.mean()}')"
      ]
    },
    {
      "cell_type": "code",
      "execution_count": 45,
      "metadata": {
        "colab": {
          "base_uri": "https://localhost:8080/"
        },
        "id": "xVY7F6kMyaaN",
        "outputId": "46e15a1f-e124-446a-e6fb-fe4836b4a966"
      },
      "outputs": [
        {
          "name": "stderr",
          "output_type": "stream",
          "text": [
            "/home/rafael/anaconda3/lib/python3.11/site-packages/skopt/optimizer/optimizer.py:517: UserWarning: The objective has been evaluated at point [0.001, 300, 'l2', 'liblinear'] before, using random point [0.001, 224, 'l1', 'liblinear']\n",
            "  warnings.warn(\n",
            "/home/rafael/anaconda3/lib/python3.11/site-packages/skopt/optimizer/optimizer.py:517: UserWarning: The objective has been evaluated at point [0.001, 189, 'l1', 'liblinear'] before, using random point [10, 262, 'l1', 'liblinear']\n",
            "  warnings.warn(\n"
          ]
        },
        {
          "data": {
            "text/plain": [
              "OrderedDict([('logisticregression__C', 0.001),\n",
              "             ('logisticregression__max_iter', 150),\n",
              "             ('logisticregression__penalty', 'l2'),\n",
              "             ('logisticregression__solver', 'liblinear')])"
            ]
          },
          "execution_count": 45,
          "metadata": {},
          "output_type": "execute_result"
        }
      ],
      "source": [
        "opt_lr.fit(x_treino, y_treino)\n",
        "opt_lr.best_params_"
      ]
    },
    {
      "cell_type": "code",
      "execution_count": 46,
      "metadata": {
        "colab": {
          "base_uri": "https://localhost:8080/"
        },
        "id": "eNnPftJE0GXH",
        "outputId": "29199570-a4df-49ab-fd2a-6c2f82a0afb2"
      },
      "outputs": [
        {
          "data": {
            "text/plain": [
              "array([0, 1, 0, ..., 0, 0, 0])"
            ]
          },
          "execution_count": 46,
          "metadata": {},
          "output_type": "execute_result"
        }
      ],
      "source": [
        "opt_lr.predict(x_teste)"
      ]
    }
  ],
  "metadata": {
    "colab": {
      "authorship_tag": "ABX9TyP+yYyHofT/9dwOjAh2Q36P",
      "include_colab_link": true,
      "provenance": []
    },
    "kernelspec": {
      "display_name": "Python 3",
      "name": "python3"
    },
    "language_info": {
      "codemirror_mode": {
        "name": "ipython",
        "version": 3
      },
      "file_extension": ".py",
      "mimetype": "text/x-python",
      "name": "python",
      "nbconvert_exporter": "python",
      "pygments_lexer": "ipython3",
      "version": "3.11.7"
    }
  },
  "nbformat": 4,
  "nbformat_minor": 0
}
