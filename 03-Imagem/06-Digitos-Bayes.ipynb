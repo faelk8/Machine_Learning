{
 "cells": [
  {
   "cell_type": "code",
   "execution_count": 4,
   "metadata": {},
   "outputs": [
    {
     "name": "stdout",
     "output_type": "stream",
     "text": [
      "              precision    recall  f1-score   support\n",
      "\n",
      "           0       0.99      0.99      0.99       178\n",
      "           1       0.83      0.85      0.84       182\n",
      "           2       0.98      0.64      0.77       177\n",
      "           3       0.94      0.79      0.86       183\n",
      "           4       0.98      0.84      0.90       181\n",
      "           5       0.91      0.93      0.92       182\n",
      "           6       0.96      0.99      0.98       181\n",
      "           7       0.72      0.99      0.83       179\n",
      "           8       0.58      0.86      0.69       174\n",
      "           9       0.94      0.71      0.81       180\n",
      "\n",
      "    accuracy                           0.86      1797\n",
      "   macro avg       0.88      0.86      0.86      1797\n",
      "weighted avg       0.89      0.86      0.86      1797\n",
      "\n",
      "[[176   0   0   0   1   0   0   1   0   0]\n",
      " [  0 154   0   0   0   0   3   5  14   6]\n",
      " [  0  13 113   0   0   1   1   0  49   0]\n",
      " [  0   2   2 145   0   6   0   7  20   1]\n",
      " [  1   1   0   0 152   1   2  21   3   0]\n",
      " [  0   0   0   3   0 169   1   6   2   1]\n",
      " [  0   1   0   0   0   1 179   0   0   0]\n",
      " [  0   0   0   0   1   1   0 177   0   0]\n",
      " [  0   8   0   1   0   3   0  12 150   0]\n",
      " [  1   6   0   5   1   3   0  17  20 127]]\n"
     ]
    }
   ],
   "source": [
    "from sklearn import datasets\n",
    "from sklearn import metrics\n",
    "from sklearn.naive_bayes import GaussianNB\n",
    "\n",
    "data = datasets.load_digits()\n",
    "\n",
    "bayes = GaussianNB()\n",
    "\n",
    "modelo = bayes.fit(data.data, data.target)\n",
    "\n",
    "obs = data.target\n",
    "pre = modelo.predict(data.data)\n",
    "\n",
    "print(metrics.classification_report(obs,pre))\n",
    "print(metrics.confusion_matrix(obs,pre))"
   ]
  },
  {
   "cell_type": "code",
   "execution_count": 5,
   "metadata": {},
   "outputs": [
    {
     "name": "stdout",
     "output_type": "stream",
     "text": [
      "              precision    recall  f1-score   support\n",
      "\n",
      "           0       0.99      0.98      0.99       178\n",
      "           1       0.87      0.75      0.81       182\n",
      "           2       0.90      0.90      0.90       177\n",
      "           3       0.99      0.87      0.93       183\n",
      "           4       0.96      0.96      0.96       181\n",
      "           5       0.97      0.86      0.91       182\n",
      "           6       0.98      0.97      0.98       181\n",
      "           7       0.89      0.99      0.94       179\n",
      "           8       0.78      0.89      0.83       174\n",
      "           9       0.76      0.88      0.82       180\n",
      "\n",
      "    accuracy                           0.91      1797\n",
      "   macro avg       0.91      0.91      0.91      1797\n",
      "weighted avg       0.91      0.91      0.91      1797\n",
      "\n",
      "[[175   0   0   0   3   0   0   0   0   0]\n",
      " [  0 137  14   0   0   1   2   0  13  15]\n",
      " [  0   7 160   0   0   0   0   0   8   2]\n",
      " [  0   0   2 159   0   2   0   5   8   7]\n",
      " [  1   0   0   0 173   0   0   4   3   0]\n",
      " [  0   0   0   0   1 157   1   1   2  20]\n",
      " [  0   2   0   0   1   1 176   0   1   0]\n",
      " [  0   0   0   0   0   0   0 178   1   0]\n",
      " [  0  11   1   0   1   0   1   1 154   5]\n",
      " [  0   1   0   1   1   1   0  11   7 158]]\n"
     ]
    }
   ],
   "source": [
    "from sklearn.naive_bayes import MultinomialNB\n",
    "\n",
    "bayes = MultinomialNB()\n",
    "\n",
    "modelo = bayes.fit(data.data, data.target)\n",
    "\n",
    "obs = data.target\n",
    "pre = modelo.predict(data.data)\n",
    "\n",
    "print(metrics.classification_report(obs,pre))\n",
    "print(metrics.confusion_matrix(obs,pre))"
   ]
  },
  {
   "cell_type": "code",
   "execution_count": 6,
   "metadata": {},
   "outputs": [
    {
     "name": "stdout",
     "output_type": "stream",
     "text": [
      "              precision    recall  f1-score   support\n",
      "\n",
      "           0       0.98      0.98      0.98       178\n",
      "           1       0.76      0.62      0.68       182\n",
      "           2       0.86      0.86      0.86       177\n",
      "           3       0.91      0.86      0.88       183\n",
      "           4       0.91      0.95      0.93       181\n",
      "           5       0.93      0.82      0.87       182\n",
      "           6       0.97      0.94      0.96       181\n",
      "           7       0.88      0.98      0.93       179\n",
      "           8       0.70      0.82      0.75       174\n",
      "           9       0.76      0.81      0.78       180\n",
      "\n",
      "    accuracy                           0.86      1797\n",
      "   macro avg       0.87      0.86      0.86      1797\n",
      "weighted avg       0.87      0.86      0.86      1797\n",
      "\n",
      "[[175   1   0   0   2   0   0   0   0   0]\n",
      " [  0 112  21   0   3   1   1   1  32  11]\n",
      " [  0   6 153   6   0   0   0   1  11   0]\n",
      " [  1   1   3 157   0   2   0   3   7   9]\n",
      " [  0   1   0   0 172   0   0   7   1   0]\n",
      " [  2   3   0   2   1 149   2   0   3  20]\n",
      " [  0   5   0   0   2   2 171   0   1   0]\n",
      " [  0   0   0   0   3   0   0 175   1   0]\n",
      " [  0  13   1   4   0   3   2   2 142   7]\n",
      " [  0   6   0   3   7   3   0   9   6 146]]\n"
     ]
    }
   ],
   "source": [
    "from sklearn.naive_bayes import BernoulliNB\n",
    "\n",
    "bayes = BernoulliNB()\n",
    "\n",
    "modelo = bayes.fit(data.data, data.target)\n",
    "\n",
    "obs = data.target\n",
    "pre = modelo.predict(data.data)\n",
    "\n",
    "print(metrics.classification_report(obs,pre))\n",
    "print(metrics.confusion_matrix(obs,pre))"
   ]
  }
 ],
 "metadata": {
  "kernelspec": {
   "display_name": "Python 3",
   "language": "python",
   "name": "python3"
  },
  "language_info": {
   "codemirror_mode": {
    "name": "ipython",
    "version": 3
   },
   "file_extension": ".py",
   "mimetype": "text/x-python",
   "name": "python",
   "nbconvert_exporter": "python",
   "pygments_lexer": "ipython3",
   "version": "3.6.12"
  }
 },
 "nbformat": 4,
 "nbformat_minor": 4
}
