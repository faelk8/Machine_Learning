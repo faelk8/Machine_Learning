{
 "cells": [
  {
   "cell_type": "code",
   "execution_count": 1,
   "metadata": {},
   "outputs": [],
   "source": [
    "import numpy as np\n",
    "\n",
    "import matplotlib.pyplot as plt\n",
    "\n",
    "import sklearn.datasets\n",
    "import sklearn.model_selection\n",
    "from sklearn.decomposition import TruncatedSVD\n",
    "from sklearn.model_selection import train_test_split, KFold, GridSearchCV\n",
    "from sklearn.neighbors import KNeighborsClassifier\n",
    "from sklearn.metrics import accuracy_score"
   ]
  },
  {
   "cell_type": "code",
   "execution_count": 2,
   "metadata": {},
   "outputs": [],
   "source": [
    "data = datasets.load_digits()"
   ]
  },
  {
   "cell_type": "code",
   "execution_count": 3,
   "metadata": {},
   "outputs": [
    {
     "data": {
      "text/plain": [
       "<Figure size 432x288 with 0 Axes>"
      ]
     },
     "metadata": {},
     "output_type": "display_data"
    },
    {
     "data": {
      "image/png": "[encoded data removed]",
      "text/plain": [
       "<Figure size 288x288 with 1 Axes>"
      ]
     },
     "metadata": {
      "needs_background": "light"
     },
     "output_type": "display_data"
    }
   ],
   "source": [
    "plt.gray()\n",
    "plt.matshow(data.images[3])\n",
    "plt.show()"
   ]
  },
  {
   "cell_type": "code",
   "execution_count": 4,
   "metadata": {},
   "outputs": [],
   "source": [
    "x = data.data\n",
    "y = data.target"
   ]
  },
  {
   "cell_type": "code",
   "execution_count": 5,
   "metadata": {},
   "outputs": [],
   "source": [
    "x_train, x_test, y_train, y_test = train_test_split(x, y, test_size=0.2)"
   ]
  },
  {
   "cell_type": "code",
   "execution_count": 6,
   "metadata": {},
   "outputs": [],
   "source": [
    "# Função para achar o melhor valor de K\n",
    "def encontra_K(x, y,clf,cv) :\n",
    "    k = KFold(n_splits=cv)\n",
    "    valores = []\n",
    "    for i,j in k.split(x):\n",
    "        teste = x[j]\n",
    "        label = y[j]\n",
    "        valores.append(accuracy_score(label,clf.predict(teste)))\n",
    "    return valores"
   ]
  },
  {
   "cell_type": "code",
   "execution_count": 7,
   "metadata": {},
   "outputs": [],
   "source": [
    "k = np.arange(20) + 1\n",
    "parametros = {'n_neighbors':k}"
   ]
  },
  {
   "cell_type": "code",
   "execution_count": 8,
   "metadata": {},
   "outputs": [],
   "source": [
    "modelo = KNeighborsClassifier()\n",
    "modelo = GridSearchCV(modelo, parametros, cv=10)"
   ]
  },
  {
   "cell_type": "code",
   "execution_count": 9,
   "metadata": {},
   "outputs": [],
   "source": [
    "acc = []\n",
    "params = []\n",
    "dimensao = [1,2,3,4,5,6,7,8,9,10]"
   ]
  },
  {
   "cell_type": "code",
   "execution_count": 10,
   "metadata": {},
   "outputs": [],
   "source": [
    "# Executando o modelo\n",
    "for d in dimensao:\n",
    "    svd = TruncatedSVD(n_components = d)       \n",
    "    if d < 11:\n",
    "        x_treino = svd.fit_transform(x_train)\n",
    "        x_teste = svd.transform(x_test)\n",
    "    else:\n",
    "        X_nl = X_treino\n",
    "        X_nl1 = X_teste\n",
    "        \n",
    "    modelo.fit(x_treino, y_train)\n",
    "    \n",
    "    acc.append(encontra_K(x_teste, y_test, clf = modelo, cv = 10))\n",
    "    params.append(modelo.best_params_['n_neighbors'])"
   ]
  },
  {
   "cell_type": "code",
   "execution_count": 11,
   "metadata": {},
   "outputs": [
    {
     "data": {
      "text/plain": [
       "[[0.16666666666666666,\n",
       "  0.16666666666666666,\n",
       "  0.08333333333333333,\n",
       "  0.08333333333333333,\n",
       "  0.1111111111111111,\n",
       "  0.08333333333333333,\n",
       "  0.1388888888888889,\n",
       "  0.1111111111111111,\n",
       "  0.05555555555555555,\n",
       "  0.1111111111111111],\n",
       " [0.4722222222222222,\n",
       "  0.4166666666666667,\n",
       "  0.5,\n",
       "  0.3333333333333333,\n",
       "  0.4722222222222222,\n",
       "  0.3055555555555556,\n",
       "  0.3055555555555556,\n",
       "  0.3611111111111111,\n",
       "  0.2777777777777778,\n",
       "  0.4166666666666667],\n",
       " [0.75,\n",
       "  0.6944444444444444,\n",
       "  0.7222222222222222,\n",
       "  0.6666666666666666,\n",
       "  0.75,\n",
       "  0.6388888888888888,\n",
       "  0.6944444444444444,\n",
       "  0.6944444444444444,\n",
       "  0.6666666666666666,\n",
       "  0.7222222222222222],\n",
       " [0.6666666666666666,\n",
       "  0.8611111111111112,\n",
       "  0.8333333333333334,\n",
       "  0.75,\n",
       "  0.8611111111111112,\n",
       "  0.7222222222222222,\n",
       "  0.75,\n",
       "  0.6944444444444444,\n",
       "  0.7222222222222222,\n",
       "  0.8333333333333334],\n",
       " [0.8333333333333334,\n",
       "  0.8888888888888888,\n",
       "  0.8333333333333334,\n",
       "  0.75,\n",
       "  0.8888888888888888,\n",
       "  0.8888888888888888,\n",
       "  0.8611111111111112,\n",
       "  0.7777777777777778,\n",
       "  0.7777777777777778,\n",
       "  0.8611111111111112],\n",
       " [0.9166666666666666,\n",
       "  0.9444444444444444,\n",
       "  0.9166666666666666,\n",
       "  0.9166666666666666,\n",
       "  1.0,\n",
       "  0.8888888888888888,\n",
       "  0.8888888888888888,\n",
       "  0.8888888888888888,\n",
       "  0.8333333333333334,\n",
       "  0.8888888888888888],\n",
       " [0.8333333333333334,\n",
       "  0.9444444444444444,\n",
       "  0.8611111111111112,\n",
       "  0.8888888888888888,\n",
       "  0.9722222222222222,\n",
       "  0.8888888888888888,\n",
       "  0.8611111111111112,\n",
       "  0.9444444444444444,\n",
       "  0.8888888888888888,\n",
       "  0.9444444444444444],\n",
       " [0.8888888888888888,\n",
       "  0.9722222222222222,\n",
       "  0.9166666666666666,\n",
       "  0.9444444444444444,\n",
       "  1.0,\n",
       "  0.9722222222222222,\n",
       "  0.8888888888888888,\n",
       "  1.0,\n",
       "  0.9444444444444444,\n",
       "  0.9722222222222222],\n",
       " [0.9444444444444444,\n",
       "  0.9722222222222222,\n",
       "  0.9444444444444444,\n",
       "  0.9166666666666666,\n",
       "  1.0,\n",
       "  0.9444444444444444,\n",
       "  0.9722222222222222,\n",
       "  0.9722222222222222,\n",
       "  0.9444444444444444,\n",
       "  0.9722222222222222],\n",
       " [0.9166666666666666,\n",
       "  0.9722222222222222,\n",
       "  0.9722222222222222,\n",
       "  0.9722222222222222,\n",
       "  1.0,\n",
       "  0.9444444444444444,\n",
       "  1.0,\n",
       "  1.0,\n",
       "  0.9722222222222222,\n",
       "  0.9722222222222222]]"
      ]
     },
     "execution_count": 11,
     "metadata": {},
     "output_type": "execute_result"
    }
   ],
   "source": [
    "acc"
   ]
  },
  {
   "cell_type": "code",
   "execution_count": 12,
   "metadata": {},
   "outputs": [
    {
     "data": {
      "text/plain": [
       "{'n_neighbors': 1}"
      ]
     },
     "execution_count": 12,
     "metadata": {},
     "output_type": "execute_result"
    }
   ],
   "source": [
    "modelo.best_params_"
   ]
  },
  {
   "cell_type": "code",
   "execution_count": 13,
   "metadata": {},
   "outputs": [
    {
     "data": {
      "text/plain": [
       "[[0.027777777777777776,\n",
       "  0.1111111111111111,\n",
       "  0.1111111111111111,\n",
       "  0.08333333333333333,\n",
       "  0.027777777777777776,\n",
       "  0.1111111111111111,\n",
       "  0.1111111111111111,\n",
       "  0.08333333333333333,\n",
       "  0.05555555555555555,\n",
       "  0.08333333333333333],\n",
       " [0.1111111111111111,\n",
       "  0.027777777777777776,\n",
       "  0.08333333333333333,\n",
       "  0.1111111111111111,\n",
       "  0.1388888888888889,\n",
       "  0.027777777777777776,\n",
       "  0.05555555555555555,\n",
       "  0.08333333333333333,\n",
       "  0.05555555555555555,\n",
       "  0.19444444444444445],\n",
       " [0.1111111111111111,\n",
       "  0.027777777777777776,\n",
       "  0.08333333333333333,\n",
       "  0.1111111111111111,\n",
       "  0.1388888888888889,\n",
       "  0.027777777777777776,\n",
       "  0.05555555555555555,\n",
       "  0.08333333333333333,\n",
       "  0.05555555555555555,\n",
       "  0.19444444444444445],\n",
       " [0.1111111111111111,\n",
       "  0.027777777777777776,\n",
       "  0.08333333333333333,\n",
       "  0.1111111111111111,\n",
       "  0.1388888888888889,\n",
       "  0.027777777777777776,\n",
       "  0.05555555555555555,\n",
       "  0.08333333333333333,\n",
       "  0.05555555555555555,\n",
       "  0.19444444444444445],\n",
       " [0.08333333333333333,\n",
       "  0.08333333333333333,\n",
       "  0.08333333333333333,\n",
       "  0.027777777777777776,\n",
       "  0.08333333333333333,\n",
       "  0.25,\n",
       "  0.08333333333333333,\n",
       "  0.2222222222222222,\n",
       "  0.16666666666666666,\n",
       "  0.08333333333333333],\n",
       " [0.1111111111111111,\n",
       "  0.027777777777777776,\n",
       "  0.08333333333333333,\n",
       "  0.1111111111111111,\n",
       "  0.1388888888888889,\n",
       "  0.027777777777777776,\n",
       "  0.05555555555555555,\n",
       "  0.08333333333333333,\n",
       "  0.05555555555555555,\n",
       "  0.19444444444444445],\n",
       " [0.1111111111111111,\n",
       "  0.027777777777777776,\n",
       "  0.08333333333333333,\n",
       "  0.1111111111111111,\n",
       "  0.1388888888888889,\n",
       "  0.027777777777777776,\n",
       "  0.05555555555555555,\n",
       "  0.08333333333333333,\n",
       "  0.05555555555555555,\n",
       "  0.19444444444444445],\n",
       " [0.1111111111111111,\n",
       "  0.027777777777777776,\n",
       "  0.08333333333333333,\n",
       "  0.1111111111111111,\n",
       "  0.1388888888888889,\n",
       "  0.027777777777777776,\n",
       "  0.05555555555555555,\n",
       "  0.08333333333333333,\n",
       "  0.05555555555555555,\n",
       "  0.19444444444444445],\n",
       " [0.1111111111111111,\n",
       "  0.027777777777777776,\n",
       "  0.08333333333333333,\n",
       "  0.1111111111111111,\n",
       "  0.1388888888888889,\n",
       "  0.027777777777777776,\n",
       "  0.05555555555555555,\n",
       "  0.08333333333333333,\n",
       "  0.05555555555555555,\n",
       "  0.19444444444444445],\n",
       " [0.1111111111111111,\n",
       "  0.027777777777777776,\n",
       "  0.08333333333333333,\n",
       "  0.1111111111111111,\n",
       "  0.1388888888888889,\n",
       "  0.027777777777777776,\n",
       "  0.05555555555555555,\n",
       "  0.08333333333333333,\n",
       "  0.05555555555555555,\n",
       "  0.19444444444444445]]"
      ]
     },
     "execution_count": 13,
     "metadata": {},
     "output_type": "execute_result"
    }
   ],
   "source": [
    "# Alterando parâmentros\n",
    "modelo2 = KNeighborsClassifier(metric='hamming')\n",
    "modelo2 = GridSearchCV(modelo2, parametros, cv=10)\n",
    "\n",
    "acc2 = []\n",
    "params2 = []\n",
    "\n",
    "for d in dimensao:\n",
    "    svd = TruncatedSVD(n_components = d)       \n",
    "    if d < 11:\n",
    "        x_treino = svd.fit_transform(x_train)\n",
    "        x_teste = svd.transform(x_test)\n",
    "    else:\n",
    "        X_nl = x_train\n",
    "        X_nl1 = x_test\n",
    "        \n",
    "    modelo2.fit(x_treino, y_train)\n",
    "    \n",
    "    acc2.append(encontra_K(x_teste, y_test, clf = modelo2, cv = 10))\n",
    "    params2.append(modelo2.best_params_['n_neighbors'])\n",
    "    \n",
    "acc2"
   ]
  },
  {
   "cell_type": "code",
   "execution_count": 14,
   "metadata": {},
   "outputs": [
    {
     "data": {
      "text/plain": [
       "{'n_neighbors': 2}"
      ]
     },
     "execution_count": 14,
     "metadata": {},
     "output_type": "execute_result"
    }
   ],
   "source": [
    "modelo2.best_params_"
   ]
  }
 ],
 "metadata": {
  "kernelspec": {
   "display_name": "Python 3",
   "language": "python",
   "name": "python3"
  },
  "language_info": {
   "codemirror_mode": {
    "name": "ipython",
    "version": 3
   },
   "file_extension": ".py",
   "mimetype": "text/x-python",
   "name": "python",
   "nbconvert_exporter": "python",
   "pygments_lexer": "ipython3",
   "version": "3.6.12"
  }
 },
 "nbformat": 4,
 "nbformat_minor": 4
}
