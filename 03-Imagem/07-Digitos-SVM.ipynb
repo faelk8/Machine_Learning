{
 "cells": [
  {
   "cell_type": "code",
   "execution_count": 1,
   "metadata": {},
   "outputs": [],
   "source": [
    "from sklearn import datasets, metrics, svm\n",
    "from sklearn.model_selection import train_test_split"
   ]
  },
  {
   "cell_type": "code",
   "execution_count": 2,
   "metadata": {},
   "outputs": [
    {
     "name": "stdout",
     "output_type": "stream",
     "text": [
      "              precision    recall  f1-score   support\n",
      "\n",
      "           0       1.00      1.00      1.00        37\n",
      "           1       0.94      0.97      0.96        34\n",
      "           2       0.97      1.00      0.98        28\n",
      "           3       1.00      0.98      0.99        42\n",
      "           4       1.00      1.00      1.00        33\n",
      "           5       0.98      0.98      0.98        44\n",
      "           6       1.00      0.97      0.98        31\n",
      "           7       0.97      1.00      0.99        33\n",
      "           8       0.97      0.89      0.93        36\n",
      "           9       0.93      0.98      0.95        42\n",
      "\n",
      "    accuracy                           0.97       360\n",
      "   macro avg       0.98      0.98      0.98       360\n",
      "weighted avg       0.98      0.97      0.97       360\n",
      "\n",
      "[[37  0  0  0  0  0  0  0  0  0]\n",
      " [ 0 33  0  0  0  0  0  0  1  0]\n",
      " [ 0  0 28  0  0  0  0  0  0  0]\n",
      " [ 0  0  0 41  0  0  0  0  0  1]\n",
      " [ 0  0  0  0 33  0  0  0  0  0]\n",
      " [ 0  0  0  0  0 43  0  0  0  1]\n",
      " [ 0  1  0  0  0  0 30  0  0  0]\n",
      " [ 0  0  0  0  0  0  0 33  0  0]\n",
      " [ 0  1  1  0  0  1  0  0 32  1]\n",
      " [ 0  0  0  0  0  0  0  1  0 41]]\n"
     ]
    }
   ],
   "source": [
    "data = datasets.load_digits()\n",
    "\n",
    "x_train, x_test, y_train, y_test = train_test_split(data.data, data.target, test_size=0.2)\n",
    "\n",
    "modelo = svm.SVC(kernel='linear').fit(x_train, y_train)\n",
    "\n",
    "pre = modelo.predict(x_test)\n",
    "\n",
    "print(metrics.classification_report(y_test,pre))\n",
    "print(metrics.confusion_matrix(y_test,pre))"
   ]
  },
  {
   "cell_type": "code",
   "execution_count": 3,
   "metadata": {},
   "outputs": [
    {
     "name": "stdout",
     "output_type": "stream",
     "text": [
      "              precision    recall  f1-score   support\n",
      "\n",
      "           0       1.00      1.00      1.00        37\n",
      "           1       0.94      1.00      0.97        34\n",
      "           2       1.00      1.00      1.00        28\n",
      "           3       1.00      1.00      1.00        42\n",
      "           4       1.00      1.00      1.00        33\n",
      "           5       1.00      0.98      0.99        44\n",
      "           6       1.00      1.00      1.00        31\n",
      "           7       0.97      1.00      0.99        33\n",
      "           8       1.00      0.92      0.96        36\n",
      "           9       0.95      0.98      0.96        42\n",
      "\n",
      "    accuracy                           0.99       360\n",
      "   macro avg       0.99      0.99      0.99       360\n",
      "weighted avg       0.99      0.99      0.99       360\n",
      "\n",
      "[[37  0  0  0  0  0  0  0  0  0]\n",
      " [ 0 34  0  0  0  0  0  0  0  0]\n",
      " [ 0  0 28  0  0  0  0  0  0  0]\n",
      " [ 0  0  0 42  0  0  0  0  0  0]\n",
      " [ 0  0  0  0 33  0  0  0  0  0]\n",
      " [ 0  0  0  0  0 43  0  0  0  1]\n",
      " [ 0  0  0  0  0  0 31  0  0  0]\n",
      " [ 0  0  0  0  0  0  0 33  0  0]\n",
      " [ 0  2  0  0  0  0  0  0 33  1]\n",
      " [ 0  0  0  0  0  0  0  1  0 41]]\n"
     ]
    }
   ],
   "source": [
    "modelo = svm.SVC(kernel='rbf').fit(x_train, y_train)\n",
    "\n",
    "pre = modelo.predict(x_test)\n",
    "\n",
    "print(metrics.classification_report(y_test,pre))\n",
    "print(metrics.confusion_matrix(y_test,pre))"
   ]
  }
 ],
 "metadata": {
  "kernelspec": {
   "display_name": "Python 3",
   "language": "python",
   "name": "python3"
  },
  "language_info": {
   "codemirror_mode": {
    "name": "ipython",
    "version": 3
   },
   "file_extension": ".py",
   "mimetype": "text/x-python",
   "name": "python",
   "nbconvert_exporter": "python",
   "pygments_lexer": "ipython3",
   "version": "3.6.12"
  }
 },
 "nbformat": 4,
 "nbformat_minor": 4
}
