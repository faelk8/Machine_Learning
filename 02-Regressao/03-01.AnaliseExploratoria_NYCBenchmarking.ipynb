{
 "cells": [
  {
   "cell_type": "markdown",
   "metadata": {},
   "source": [
    "# Conjunto de dados NYC Benchmarking\n",
    "\n",
    "### Objetivo prever Energy Star Score"
   ]
  },
  {
   "cell_type": "code",
   "execution_count": 59,
   "metadata": {},
   "outputs": [],
   "source": [
    "from pandas import read_csv, concat, get_dummies, DataFrame\n",
    "import numpy as np\n",
    "\n",
    "import matplotlib.pyplot as plt\n",
    "import seaborn as sns\n",
    "\n",
    "from sklearn.model_selection import train_test_split\n",
    "from sklearn.preprocessing import MinMaxScaler\n",
    "from sklearn.impute import SimpleImputer\n",
    "from sklearn.metrics import mean_squared_error\n",
    "from sklearn.svm import SVR\n",
    "from sklearn.linear_model import LinearRegression\n",
    "from sklearn.ensemble import RandomForestRegressor, GradientBoostingRegressor\n",
    "from sklearn.neighbors import KNeighborsRegressor\n",
    "from sklearn.model_selection import RandomizedSearchCV, GridSearchCV\n",
    "\n",
    "import warnings\n",
    "warnings.filterwarnings('ignore')"
   ]
  },
  {
   "cell_type": "code",
   "execution_count": 2,
   "metadata": {},
   "outputs": [
    {
     "data": {
      "text/html": [
       "<div>\n",
       "<style scoped>\n",
       "    .dataframe tbody tr th:only-of-type {\n",
       "        vertical-align: middle;\n",
       "    }\n",
       "\n",
       "    .dataframe tbody tr th {\n",
       "        vertical-align: top;\n",
       "    }\n",
       "\n",
       "    .dataframe thead th {\n",
       "        text-align: right;\n",
       "    }\n",
       "</style>\n",
       "<table border=\"1\" class=\"dataframe\">\n",
       "  <thead>\n",
       "    <tr style=\"text-align: right;\">\n",
       "      <th></th>\n",
       "      <th>Order</th>\n",
       "      <th>Property Id</th>\n",
       "      <th>Property Name</th>\n",
       "      <th>Parent Property Id</th>\n",
       "      <th>Parent Property Name</th>\n",
       "      <th>BBL - 10 digits</th>\n",
       "      <th>NYC Borough, Block and Lot (BBL) self-reported</th>\n",
       "      <th>NYC Building Identification Number (BIN)</th>\n",
       "      <th>Address 1 (self-reported)</th>\n",
       "      <th>Address 2</th>\n",
       "      <th>...</th>\n",
       "      <th>Source EUI (kBtu/ft²)</th>\n",
       "      <th>Release Date</th>\n",
       "      <th>Water Required?</th>\n",
       "      <th>DOF Benchmarking Submission Status</th>\n",
       "      <th>Latitude</th>\n",
       "      <th>Longitude</th>\n",
       "      <th>Community Board</th>\n",
       "      <th>Council District</th>\n",
       "      <th>Census Tract</th>\n",
       "      <th>NTA</th>\n",
       "    </tr>\n",
       "  </thead>\n",
       "  <tbody>\n",
       "    <tr>\n",
       "      <th>0</th>\n",
       "      <td>1</td>\n",
       "      <td>13286</td>\n",
       "      <td>201/205</td>\n",
       "      <td>13286</td>\n",
       "      <td>201/205</td>\n",
       "      <td>1013160001</td>\n",
       "      <td>1013160001</td>\n",
       "      <td>1037549</td>\n",
       "      <td>201/205  East  42nd  st.</td>\n",
       "      <td>Not Available</td>\n",
       "      <td>...</td>\n",
       "      <td>619.4</td>\n",
       "      <td>05/01/2017 05:32:03 PM</td>\n",
       "      <td>No</td>\n",
       "      <td>In Compliance</td>\n",
       "      <td>40.750791</td>\n",
       "      <td>-73.973963</td>\n",
       "      <td>6.0</td>\n",
       "      <td>4.0</td>\n",
       "      <td>88.0</td>\n",
       "      <td>Turtle Bay-East Midtown                       ...</td>\n",
       "    </tr>\n",
       "    <tr>\n",
       "      <th>1</th>\n",
       "      <td>2</td>\n",
       "      <td>28400</td>\n",
       "      <td>NYP Columbia (West Campus)</td>\n",
       "      <td>28400</td>\n",
       "      <td>NYP Columbia (West Campus)</td>\n",
       "      <td>1021380040</td>\n",
       "      <td>1-02138-0040</td>\n",
       "      <td>1084198; 1084387;1084385; 1084386; 1084388; 10...</td>\n",
       "      <td>622 168th Street</td>\n",
       "      <td>Not Available</td>\n",
       "      <td>...</td>\n",
       "      <td>404.3</td>\n",
       "      <td>04/27/2017 11:23:27 AM</td>\n",
       "      <td>No</td>\n",
       "      <td>In Compliance</td>\n",
       "      <td>40.841402</td>\n",
       "      <td>-73.942568</td>\n",
       "      <td>12.0</td>\n",
       "      <td>10.0</td>\n",
       "      <td>251.0</td>\n",
       "      <td>Washington Heights South                      ...</td>\n",
       "    </tr>\n",
       "    <tr>\n",
       "      <th>2</th>\n",
       "      <td>3</td>\n",
       "      <td>4778226</td>\n",
       "      <td>MSCHoNY North</td>\n",
       "      <td>28400</td>\n",
       "      <td>NYP Columbia (West Campus)</td>\n",
       "      <td>1021380030</td>\n",
       "      <td>1-02138-0030</td>\n",
       "      <td>1063380</td>\n",
       "      <td>3975 Broadway</td>\n",
       "      <td>Not Available</td>\n",
       "      <td>...</td>\n",
       "      <td>Not Available</td>\n",
       "      <td>04/27/2017 11:23:27 AM</td>\n",
       "      <td>No</td>\n",
       "      <td>In Compliance</td>\n",
       "      <td>40.840427</td>\n",
       "      <td>-73.940249</td>\n",
       "      <td>12.0</td>\n",
       "      <td>10.0</td>\n",
       "      <td>251.0</td>\n",
       "      <td>Washington Heights South                      ...</td>\n",
       "    </tr>\n",
       "    <tr>\n",
       "      <th>3</th>\n",
       "      <td>4</td>\n",
       "      <td>4778267</td>\n",
       "      <td>Herbert Irving Pavilion &amp; Millstein Hospital</td>\n",
       "      <td>28400</td>\n",
       "      <td>NYP Columbia (West Campus)</td>\n",
       "      <td>1021390001</td>\n",
       "      <td>1-02139-0001</td>\n",
       "      <td>1087281; 1076746</td>\n",
       "      <td>161 Fort Washington Ave</td>\n",
       "      <td>177 Fort Washington Ave</td>\n",
       "      <td>...</td>\n",
       "      <td>Not Available</td>\n",
       "      <td>04/27/2017 11:23:27 AM</td>\n",
       "      <td>No</td>\n",
       "      <td>In Compliance</td>\n",
       "      <td>40.840746</td>\n",
       "      <td>-73.942854</td>\n",
       "      <td>12.0</td>\n",
       "      <td>10.0</td>\n",
       "      <td>255.0</td>\n",
       "      <td>Washington Heights South                      ...</td>\n",
       "    </tr>\n",
       "    <tr>\n",
       "      <th>4</th>\n",
       "      <td>5</td>\n",
       "      <td>4778288</td>\n",
       "      <td>Neuro Institute</td>\n",
       "      <td>28400</td>\n",
       "      <td>NYP Columbia (West Campus)</td>\n",
       "      <td>1021390085</td>\n",
       "      <td>1-02139-0085</td>\n",
       "      <td>1063403</td>\n",
       "      <td>710 West 168th Street</td>\n",
       "      <td>Not Available</td>\n",
       "      <td>...</td>\n",
       "      <td>Not Available</td>\n",
       "      <td>04/27/2017 11:23:27 AM</td>\n",
       "      <td>No</td>\n",
       "      <td>In Compliance</td>\n",
       "      <td>40.841559</td>\n",
       "      <td>-73.942528</td>\n",
       "      <td>12.0</td>\n",
       "      <td>10.0</td>\n",
       "      <td>255.0</td>\n",
       "      <td>Washington Heights South                      ...</td>\n",
       "    </tr>\n",
       "  </tbody>\n",
       "</table>\n",
       "<p>5 rows × 60 columns</p>\n",
       "</div>"
      ],
      "text/plain": [
       "   Order  Property Id                                 Property Name  \\\n",
       "0      1        13286                                       201/205   \n",
       "1      2        28400                    NYP Columbia (West Campus)   \n",
       "2      3      4778226                                 MSCHoNY North   \n",
       "3      4      4778267  Herbert Irving Pavilion & Millstein Hospital   \n",
       "4      5      4778288                               Neuro Institute   \n",
       "\n",
       "  Parent Property Id        Parent Property Name BBL - 10 digits  \\\n",
       "0              13286                     201/205      1013160001   \n",
       "1              28400  NYP Columbia (West Campus)      1021380040   \n",
       "2              28400  NYP Columbia (West Campus)      1021380030   \n",
       "3              28400  NYP Columbia (West Campus)      1021390001   \n",
       "4              28400  NYP Columbia (West Campus)      1021390085   \n",
       "\n",
       "  NYC Borough, Block and Lot (BBL) self-reported  \\\n",
       "0                                     1013160001   \n",
       "1                                   1-02138-0040   \n",
       "2                                   1-02138-0030   \n",
       "3                                   1-02139-0001   \n",
       "4                                   1-02139-0085   \n",
       "\n",
       "            NYC Building Identification Number (BIN)  \\\n",
       "0                                            1037549   \n",
       "1  1084198; 1084387;1084385; 1084386; 1084388; 10...   \n",
       "2                                            1063380   \n",
       "3                                   1087281; 1076746   \n",
       "4                                            1063403   \n",
       "\n",
       "  Address 1 (self-reported)                Address 2  ...  \\\n",
       "0  201/205  East  42nd  st.            Not Available  ...   \n",
       "1          622 168th Street            Not Available  ...   \n",
       "2             3975 Broadway            Not Available  ...   \n",
       "3   161 Fort Washington Ave  177 Fort Washington Ave  ...   \n",
       "4     710 West 168th Street            Not Available  ...   \n",
       "\n",
       "  Source EUI (kBtu/ft²)            Release Date Water Required?  \\\n",
       "0                 619.4  05/01/2017 05:32:03 PM              No   \n",
       "1                 404.3  04/27/2017 11:23:27 AM              No   \n",
       "2         Not Available  04/27/2017 11:23:27 AM              No   \n",
       "3         Not Available  04/27/2017 11:23:27 AM              No   \n",
       "4         Not Available  04/27/2017 11:23:27 AM              No   \n",
       "\n",
       "  DOF Benchmarking Submission Status   Latitude  Longitude Community Board  \\\n",
       "0                      In Compliance  40.750791 -73.973963             6.0   \n",
       "1                      In Compliance  40.841402 -73.942568            12.0   \n",
       "2                      In Compliance  40.840427 -73.940249            12.0   \n",
       "3                      In Compliance  40.840746 -73.942854            12.0   \n",
       "4                      In Compliance  40.841559 -73.942528            12.0   \n",
       "\n",
       "  Council District Census Tract  \\\n",
       "0              4.0         88.0   \n",
       "1             10.0        251.0   \n",
       "2             10.0        251.0   \n",
       "3             10.0        255.0   \n",
       "4             10.0        255.0   \n",
       "\n",
       "                                                 NTA  \n",
       "0  Turtle Bay-East Midtown                       ...  \n",
       "1  Washington Heights South                      ...  \n",
       "2  Washington Heights South                      ...  \n",
       "3  Washington Heights South                      ...  \n",
       "4  Washington Heights South                      ...  \n",
       "\n",
       "[5 rows x 60 columns]"
      ]
     },
     "execution_count": 2,
     "metadata": {},
     "output_type": "execute_result"
    }
   ],
   "source": [
    "data = read_csv('01-dados/03-dataset.csv')\n",
    "data.head()"
   ]
  },
  {
   "cell_type": "code",
   "execution_count": 3,
   "metadata": {},
   "outputs": [
    {
     "name": "stdout",
     "output_type": "stream",
     "text": [
      "<class 'pandas.core.frame.DataFrame'>\n",
      "RangeIndex: 11746 entries, 0 to 11745\n",
      "Data columns (total 60 columns):\n",
      " #   Column                                                      Non-Null Count  Dtype  \n",
      "---  ------                                                      --------------  -----  \n",
      " 0   Order                                                       11746 non-null  int64  \n",
      " 1   Property Id                                                 11746 non-null  int64  \n",
      " 2   Property Name                                               11746 non-null  object \n",
      " 3   Parent Property Id                                          11746 non-null  object \n",
      " 4   Parent Property Name                                        11746 non-null  object \n",
      " 5   BBL - 10 digits                                             11735 non-null  object \n",
      " 6   NYC Borough, Block and Lot (BBL) self-reported              11746 non-null  object \n",
      " 7   NYC Building Identification Number (BIN)                    11746 non-null  object \n",
      " 8   Address 1 (self-reported)                                   11746 non-null  object \n",
      " 9   Address 2                                                   11746 non-null  object \n",
      " 10  Postal Code                                                 11746 non-null  object \n",
      " 11  Street Number                                               11622 non-null  object \n",
      " 12  Street Name                                                 11624 non-null  object \n",
      " 13  Borough                                                     11628 non-null  object \n",
      " 14  DOF Gross Floor Area                                        11628 non-null  float64\n",
      " 15  Primary Property Type - Self Selected                       11746 non-null  object \n",
      " 16  List of All Property Use Types at Property                  11746 non-null  object \n",
      " 17  Largest Property Use Type                                   11746 non-null  object \n",
      " 18  Largest Property Use Type - Gross Floor Area (ft²)          11746 non-null  object \n",
      " 19  2nd Largest Property Use Type                               11746 non-null  object \n",
      " 20  2nd Largest Property Use - Gross Floor Area (ft²)           11746 non-null  object \n",
      " 21  3rd Largest Property Use Type                               11746 non-null  object \n",
      " 22  3rd Largest Property Use Type - Gross Floor Area (ft²)      11746 non-null  object \n",
      " 23  Year Built                                                  11746 non-null  int64  \n",
      " 24  Number of Buildings - Self-reported                         11746 non-null  int64  \n",
      " 25  Occupancy                                                   11746 non-null  int64  \n",
      " 26  Metered Areas (Energy)                                      11746 non-null  object \n",
      " 27  Metered Areas  (Water)                                      11746 non-null  object \n",
      " 28  ENERGY STAR Score                                           11746 non-null  object \n",
      " 29  Site EUI (kBtu/ft²)                                         11746 non-null  object \n",
      " 30  Weather Normalized Site EUI (kBtu/ft²)                      11746 non-null  object \n",
      " 31  Weather Normalized Site Electricity Intensity (kWh/ft²)     11746 non-null  object \n",
      " 32  Weather Normalized Site Natural Gas Intensity (therms/ft²)  11746 non-null  object \n",
      " 33  Weather Normalized Source EUI (kBtu/ft²)                    11746 non-null  object \n",
      " 34  Fuel Oil #1 Use (kBtu)                                      11746 non-null  object \n",
      " 35  Fuel Oil #2 Use (kBtu)                                      11746 non-null  object \n",
      " 36  Fuel Oil #4 Use (kBtu)                                      11746 non-null  object \n",
      " 37  Fuel Oil #5 & 6 Use (kBtu)                                  11746 non-null  object \n",
      " 38  Diesel #2 Use (kBtu)                                        11746 non-null  object \n",
      " 39  District Steam Use (kBtu)                                   11746 non-null  object \n",
      " 40  Natural Gas Use (kBtu)                                      11746 non-null  object \n",
      " 41  Weather Normalized Site Natural Gas Use (therms)            11746 non-null  object \n",
      " 42  Electricity Use - Grid Purchase (kBtu)                      11746 non-null  object \n",
      " 43  Weather Normalized Site Electricity (kWh)                   11746 non-null  object \n",
      " 44  Total GHG Emissions (Metric Tons CO2e)                      11746 non-null  object \n",
      " 45  Direct GHG Emissions (Metric Tons CO2e)                     11746 non-null  object \n",
      " 46  Indirect GHG Emissions (Metric Tons CO2e)                   11746 non-null  object \n",
      " 47  Property GFA - Self-Reported (ft²)                          11746 non-null  int64  \n",
      " 48  Water Use (All Water Sources) (kgal)                        11746 non-null  object \n",
      " 49  Water Intensity (All Water Sources) (gal/ft²)               11746 non-null  object \n",
      " 50  Source EUI (kBtu/ft²)                                       11746 non-null  object \n",
      " 51  Release Date                                                11746 non-null  object \n",
      " 52  Water Required?                                             11628 non-null  object \n",
      " 53  DOF Benchmarking Submission Status                          11716 non-null  object \n",
      " 54  Latitude                                                    9483 non-null   float64\n",
      " 55  Longitude                                                   9483 non-null   float64\n",
      " 56  Community Board                                             9483 non-null   float64\n",
      " 57  Council District                                            9483 non-null   float64\n",
      " 58  Census Tract                                                9483 non-null   float64\n",
      " 59  NTA                                                         9483 non-null   object \n",
      "dtypes: float64(6), int64(6), object(48)\n",
      "memory usage: 5.4+ MB\n"
     ]
    }
   ],
   "source": [
    "data.info()"
   ]
  },
  {
   "cell_type": "markdown",
   "metadata": {},
   "source": [
    "### Convertendo os dados para o tipo correto "
   ]
  },
  {
   "cell_type": "code",
   "execution_count": 4,
   "metadata": {},
   "outputs": [],
   "source": [
    "data = data.replace({'Not Available': np.nan})\n",
    "\n",
    "for coluna in list(data.columns):\n",
    "    if ('ft²' in coluna or 'kBtu' in coluna or 'Metric Tons C02e' in coluna or 'kWh' in coluna or\n",
    "        'therms' in coluna or 'gal' in coluna or 'Score' in coluna):\n",
    "        data[coluna] = data[coluna].astype(float)"
   ]
  },
  {
   "cell_type": "code",
   "execution_count": 5,
   "metadata": {},
   "outputs": [
    {
     "data": {
      "text/html": [
       "<div>\n",
       "<style scoped>\n",
       "    .dataframe tbody tr th:only-of-type {\n",
       "        vertical-align: middle;\n",
       "    }\n",
       "\n",
       "    .dataframe tbody tr th {\n",
       "        vertical-align: top;\n",
       "    }\n",
       "\n",
       "    .dataframe thead th {\n",
       "        text-align: right;\n",
       "    }\n",
       "</style>\n",
       "<table border=\"1\" class=\"dataframe\">\n",
       "  <thead>\n",
       "    <tr style=\"text-align: right;\">\n",
       "      <th></th>\n",
       "      <th>Order</th>\n",
       "      <th>Property Id</th>\n",
       "      <th>DOF Gross Floor Area</th>\n",
       "      <th>Largest Property Use Type - Gross Floor Area (ft²)</th>\n",
       "      <th>2nd Largest Property Use - Gross Floor Area (ft²)</th>\n",
       "      <th>3rd Largest Property Use Type - Gross Floor Area (ft²)</th>\n",
       "      <th>Year Built</th>\n",
       "      <th>Number of Buildings - Self-reported</th>\n",
       "      <th>Occupancy</th>\n",
       "      <th>ENERGY STAR Score</th>\n",
       "      <th>...</th>\n",
       "      <th>Weather Normalized Site Electricity (kWh)</th>\n",
       "      <th>Property GFA - Self-Reported (ft²)</th>\n",
       "      <th>Water Use (All Water Sources) (kgal)</th>\n",
       "      <th>Water Intensity (All Water Sources) (gal/ft²)</th>\n",
       "      <th>Source EUI (kBtu/ft²)</th>\n",
       "      <th>Latitude</th>\n",
       "      <th>Longitude</th>\n",
       "      <th>Community Board</th>\n",
       "      <th>Council District</th>\n",
       "      <th>Census Tract</th>\n",
       "    </tr>\n",
       "  </thead>\n",
       "  <tbody>\n",
       "    <tr>\n",
       "      <th>count</th>\n",
       "      <td>11746.000000</td>\n",
       "      <td>1.174600e+04</td>\n",
       "      <td>1.162800e+04</td>\n",
       "      <td>1.174400e+04</td>\n",
       "      <td>3741.000000</td>\n",
       "      <td>1484.000000</td>\n",
       "      <td>11746.000000</td>\n",
       "      <td>11746.000000</td>\n",
       "      <td>11746.000000</td>\n",
       "      <td>9642.000000</td>\n",
       "      <td>...</td>\n",
       "      <td>1.096000e+04</td>\n",
       "      <td>1.174600e+04</td>\n",
       "      <td>7.762000e+03</td>\n",
       "      <td>7762.000000</td>\n",
       "      <td>11583.000000</td>\n",
       "      <td>9483.000000</td>\n",
       "      <td>9483.000000</td>\n",
       "      <td>9483.000000</td>\n",
       "      <td>9483.000000</td>\n",
       "      <td>9483.000000</td>\n",
       "    </tr>\n",
       "    <tr>\n",
       "      <th>mean</th>\n",
       "      <td>7185.759578</td>\n",
       "      <td>3.642958e+06</td>\n",
       "      <td>1.732695e+05</td>\n",
       "      <td>1.605524e+05</td>\n",
       "      <td>22778.682010</td>\n",
       "      <td>12016.825270</td>\n",
       "      <td>1948.738379</td>\n",
       "      <td>1.289971</td>\n",
       "      <td>98.762557</td>\n",
       "      <td>59.854594</td>\n",
       "      <td>...</td>\n",
       "      <td>1.768752e+06</td>\n",
       "      <td>1.673739e+05</td>\n",
       "      <td>1.591798e+04</td>\n",
       "      <td>136.172432</td>\n",
       "      <td>385.908029</td>\n",
       "      <td>40.754379</td>\n",
       "      <td>-73.957057</td>\n",
       "      <td>7.140673</td>\n",
       "      <td>15.771275</td>\n",
       "      <td>4977.596647</td>\n",
       "    </tr>\n",
       "    <tr>\n",
       "      <th>std</th>\n",
       "      <td>4323.859984</td>\n",
       "      <td>1.049070e+06</td>\n",
       "      <td>3.367055e+05</td>\n",
       "      <td>3.095746e+05</td>\n",
       "      <td>55094.441422</td>\n",
       "      <td>27959.755486</td>\n",
       "      <td>30.576386</td>\n",
       "      <td>4.017484</td>\n",
       "      <td>7.501603</td>\n",
       "      <td>29.993586</td>\n",
       "      <td>...</td>\n",
       "      <td>9.389154e+06</td>\n",
       "      <td>3.189238e+05</td>\n",
       "      <td>1.529524e+05</td>\n",
       "      <td>1730.726938</td>\n",
       "      <td>9312.736225</td>\n",
       "      <td>0.080120</td>\n",
       "      <td>0.046337</td>\n",
       "      <td>3.954129</td>\n",
       "      <td>15.674375</td>\n",
       "      <td>13520.422990</td>\n",
       "    </tr>\n",
       "    <tr>\n",
       "      <th>min</th>\n",
       "      <td>1.000000</td>\n",
       "      <td>7.365000e+03</td>\n",
       "      <td>5.002800e+04</td>\n",
       "      <td>5.400000e+01</td>\n",
       "      <td>0.000000</td>\n",
       "      <td>0.000000</td>\n",
       "      <td>1600.000000</td>\n",
       "      <td>0.000000</td>\n",
       "      <td>0.000000</td>\n",
       "      <td>1.000000</td>\n",
       "      <td>...</td>\n",
       "      <td>0.000000e+00</td>\n",
       "      <td>0.000000e+00</td>\n",
       "      <td>0.000000e+00</td>\n",
       "      <td>0.000000</td>\n",
       "      <td>0.000000</td>\n",
       "      <td>40.516065</td>\n",
       "      <td>-74.243582</td>\n",
       "      <td>1.000000</td>\n",
       "      <td>1.000000</td>\n",
       "      <td>1.000000</td>\n",
       "    </tr>\n",
       "    <tr>\n",
       "      <th>25%</th>\n",
       "      <td>3428.250000</td>\n",
       "      <td>2.747222e+06</td>\n",
       "      <td>6.524000e+04</td>\n",
       "      <td>6.520100e+04</td>\n",
       "      <td>4000.000000</td>\n",
       "      <td>1720.750000</td>\n",
       "      <td>1927.000000</td>\n",
       "      <td>1.000000</td>\n",
       "      <td>100.000000</td>\n",
       "      <td>37.000000</td>\n",
       "      <td>...</td>\n",
       "      <td>3.019974e+05</td>\n",
       "      <td>6.699400e+04</td>\n",
       "      <td>2.595400e+03</td>\n",
       "      <td>27.150000</td>\n",
       "      <td>99.400000</td>\n",
       "      <td>40.707226</td>\n",
       "      <td>-73.984662</td>\n",
       "      <td>4.000000</td>\n",
       "      <td>4.000000</td>\n",
       "      <td>100.000000</td>\n",
       "    </tr>\n",
       "    <tr>\n",
       "      <th>50%</th>\n",
       "      <td>6986.500000</td>\n",
       "      <td>3.236404e+06</td>\n",
       "      <td>9.313850e+04</td>\n",
       "      <td>9.132400e+04</td>\n",
       "      <td>8654.000000</td>\n",
       "      <td>5000.000000</td>\n",
       "      <td>1941.000000</td>\n",
       "      <td>1.000000</td>\n",
       "      <td>100.000000</td>\n",
       "      <td>65.000000</td>\n",
       "      <td>...</td>\n",
       "      <td>5.416312e+05</td>\n",
       "      <td>9.408000e+04</td>\n",
       "      <td>4.692500e+03</td>\n",
       "      <td>45.095000</td>\n",
       "      <td>124.900000</td>\n",
       "      <td>40.759130</td>\n",
       "      <td>-73.962810</td>\n",
       "      <td>7.000000</td>\n",
       "      <td>9.000000</td>\n",
       "      <td>201.000000</td>\n",
       "    </tr>\n",
       "    <tr>\n",
       "      <th>75%</th>\n",
       "      <td>11054.500000</td>\n",
       "      <td>4.409092e+06</td>\n",
       "      <td>1.596140e+05</td>\n",
       "      <td>1.532550e+05</td>\n",
       "      <td>20000.000000</td>\n",
       "      <td>12000.000000</td>\n",
       "      <td>1966.000000</td>\n",
       "      <td>1.000000</td>\n",
       "      <td>100.000000</td>\n",
       "      <td>85.000000</td>\n",
       "      <td>...</td>\n",
       "      <td>1.284677e+06</td>\n",
       "      <td>1.584140e+05</td>\n",
       "      <td>8.031875e+03</td>\n",
       "      <td>70.805000</td>\n",
       "      <td>162.750000</td>\n",
       "      <td>40.817623</td>\n",
       "      <td>-73.932443</td>\n",
       "      <td>9.000000</td>\n",
       "      <td>33.000000</td>\n",
       "      <td>531.500000</td>\n",
       "    </tr>\n",
       "    <tr>\n",
       "      <th>max</th>\n",
       "      <td>14993.000000</td>\n",
       "      <td>5.991312e+06</td>\n",
       "      <td>1.354011e+07</td>\n",
       "      <td>1.421712e+07</td>\n",
       "      <td>962428.000000</td>\n",
       "      <td>591640.000000</td>\n",
       "      <td>2019.000000</td>\n",
       "      <td>161.000000</td>\n",
       "      <td>100.000000</td>\n",
       "      <td>100.000000</td>\n",
       "      <td>...</td>\n",
       "      <td>4.958273e+08</td>\n",
       "      <td>1.421712e+07</td>\n",
       "      <td>6.594604e+06</td>\n",
       "      <td>96305.690000</td>\n",
       "      <td>912801.100000</td>\n",
       "      <td>40.912869</td>\n",
       "      <td>-73.715543</td>\n",
       "      <td>56.000000</td>\n",
       "      <td>51.000000</td>\n",
       "      <td>155101.000000</td>\n",
       "    </tr>\n",
       "  </tbody>\n",
       "</table>\n",
       "<p>8 rows × 34 columns</p>\n",
       "</div>"
      ],
      "text/plain": [
       "              Order   Property Id  DOF Gross Floor Area  \\\n",
       "count  11746.000000  1.174600e+04          1.162800e+04   \n",
       "mean    7185.759578  3.642958e+06          1.732695e+05   \n",
       "std     4323.859984  1.049070e+06          3.367055e+05   \n",
       "min        1.000000  7.365000e+03          5.002800e+04   \n",
       "25%     3428.250000  2.747222e+06          6.524000e+04   \n",
       "50%     6986.500000  3.236404e+06          9.313850e+04   \n",
       "75%    11054.500000  4.409092e+06          1.596140e+05   \n",
       "max    14993.000000  5.991312e+06          1.354011e+07   \n",
       "\n",
       "       Largest Property Use Type - Gross Floor Area (ft²)  \\\n",
       "count                                       1.174400e+04    \n",
       "mean                                        1.605524e+05    \n",
       "std                                         3.095746e+05    \n",
       "min                                         5.400000e+01    \n",
       "25%                                         6.520100e+04    \n",
       "50%                                         9.132400e+04    \n",
       "75%                                         1.532550e+05    \n",
       "max                                         1.421712e+07    \n",
       "\n",
       "       2nd Largest Property Use - Gross Floor Area (ft²)  \\\n",
       "count                                        3741.000000   \n",
       "mean                                        22778.682010   \n",
       "std                                         55094.441422   \n",
       "min                                             0.000000   \n",
       "25%                                          4000.000000   \n",
       "50%                                          8654.000000   \n",
       "75%                                         20000.000000   \n",
       "max                                        962428.000000   \n",
       "\n",
       "       3rd Largest Property Use Type - Gross Floor Area (ft²)    Year Built  \\\n",
       "count                                        1484.000000       11746.000000   \n",
       "mean                                        12016.825270        1948.738379   \n",
       "std                                         27959.755486          30.576386   \n",
       "min                                             0.000000        1600.000000   \n",
       "25%                                          1720.750000        1927.000000   \n",
       "50%                                          5000.000000        1941.000000   \n",
       "75%                                         12000.000000        1966.000000   \n",
       "max                                        591640.000000        2019.000000   \n",
       "\n",
       "       Number of Buildings - Self-reported     Occupancy  ENERGY STAR Score  \\\n",
       "count                         11746.000000  11746.000000        9642.000000   \n",
       "mean                              1.289971     98.762557          59.854594   \n",
       "std                               4.017484      7.501603          29.993586   \n",
       "min                               0.000000      0.000000           1.000000   \n",
       "25%                               1.000000    100.000000          37.000000   \n",
       "50%                               1.000000    100.000000          65.000000   \n",
       "75%                               1.000000    100.000000          85.000000   \n",
       "max                             161.000000    100.000000         100.000000   \n",
       "\n",
       "       ...  Weather Normalized Site Electricity (kWh)  \\\n",
       "count  ...                               1.096000e+04   \n",
       "mean   ...                               1.768752e+06   \n",
       "std    ...                               9.389154e+06   \n",
       "min    ...                               0.000000e+00   \n",
       "25%    ...                               3.019974e+05   \n",
       "50%    ...                               5.416312e+05   \n",
       "75%    ...                               1.284677e+06   \n",
       "max    ...                               4.958273e+08   \n",
       "\n",
       "       Property GFA - Self-Reported (ft²)  \\\n",
       "count                        1.174600e+04   \n",
       "mean                         1.673739e+05   \n",
       "std                          3.189238e+05   \n",
       "min                          0.000000e+00   \n",
       "25%                          6.699400e+04   \n",
       "50%                          9.408000e+04   \n",
       "75%                          1.584140e+05   \n",
       "max                          1.421712e+07   \n",
       "\n",
       "       Water Use (All Water Sources) (kgal)  \\\n",
       "count                          7.762000e+03   \n",
       "mean                           1.591798e+04   \n",
       "std                            1.529524e+05   \n",
       "min                            0.000000e+00   \n",
       "25%                            2.595400e+03   \n",
       "50%                            4.692500e+03   \n",
       "75%                            8.031875e+03   \n",
       "max                            6.594604e+06   \n",
       "\n",
       "       Water Intensity (All Water Sources) (gal/ft²)  Source EUI (kBtu/ft²)  \\\n",
       "count                                    7762.000000           11583.000000   \n",
       "mean                                      136.172432             385.908029   \n",
       "std                                      1730.726938            9312.736225   \n",
       "min                                         0.000000               0.000000   \n",
       "25%                                        27.150000              99.400000   \n",
       "50%                                        45.095000             124.900000   \n",
       "75%                                        70.805000             162.750000   \n",
       "max                                     96305.690000          912801.100000   \n",
       "\n",
       "          Latitude    Longitude  Community Board  Council District  \\\n",
       "count  9483.000000  9483.000000      9483.000000       9483.000000   \n",
       "mean     40.754379   -73.957057         7.140673         15.771275   \n",
       "std       0.080120     0.046337         3.954129         15.674375   \n",
       "min      40.516065   -74.243582         1.000000          1.000000   \n",
       "25%      40.707226   -73.984662         4.000000          4.000000   \n",
       "50%      40.759130   -73.962810         7.000000          9.000000   \n",
       "75%      40.817623   -73.932443         9.000000         33.000000   \n",
       "max      40.912869   -73.715543        56.000000         51.000000   \n",
       "\n",
       "        Census Tract  \n",
       "count    9483.000000  \n",
       "mean     4977.596647  \n",
       "std     13520.422990  \n",
       "min         1.000000  \n",
       "25%       100.000000  \n",
       "50%       201.000000  \n",
       "75%       531.500000  \n",
       "max    155101.000000  \n",
       "\n",
       "[8 rows x 34 columns]"
      ]
     },
     "execution_count": 5,
     "metadata": {},
     "output_type": "execute_result"
    }
   ],
   "source": [
    "data.describe()"
   ]
  },
  {
   "cell_type": "code",
   "execution_count": 6,
   "metadata": {},
   "outputs": [
    {
     "data": {
      "text/plain": [
       "Fuel Oil #1 Use (kBtu)                                        99.923378\n",
       "Diesel #2 Use (kBtu)                                          99.863783\n",
       "Address 2                                                     98.237698\n",
       "Fuel Oil #5 & 6 Use (kBtu)                                    94.942959\n",
       "District Steam Use (kBtu)                                     92.031330\n",
       "Fuel Oil #4 Use (kBtu)                                        88.753618\n",
       "3rd Largest Property Use Type - Gross Floor Area (ft²)        87.365912\n",
       "3rd Largest Property Use Type                                 87.365912\n",
       "Fuel Oil #2 Use (kBtu)                                        78.026562\n",
       "2nd Largest Property Use Type                                 68.150860\n",
       "2nd Largest Property Use - Gross Floor Area (ft²)             68.150860\n",
       "Metered Areas  (Water)                                        39.238890\n",
       "Water Intensity (All Water Sources) (gal/ft²)                 33.917930\n",
       "Water Use (All Water Sources) (kgal)                          33.917930\n",
       "Latitude                                                      19.266133\n",
       "Census Tract                                                  19.266133\n",
       "Longitude                                                     19.266133\n",
       "Community Board                                               19.266133\n",
       "Council District                                              19.266133\n",
       "NTA                                                           19.266133\n",
       "ENERGY STAR Score                                             17.912481\n",
       "Weather Normalized Site Natural Gas Intensity (therms/ft²)    16.712072\n",
       "Weather Normalized Site Natural Gas Use (therms)              16.703559\n",
       "Weather Normalized Site EUI (kBtu/ft²)                        12.472331\n",
       "Weather Normalized Source EUI (kBtu/ft²)                      12.472331\n",
       "Natural Gas Use (kBtu)                                        12.276520\n",
       "Weather Normalized Site Electricity Intensity (kWh/ft²)        6.700153\n",
       "Weather Normalized Site Electricity (kWh)                      6.691640\n",
       "Electricity Use - Grid Purchase (kBtu)                         2.077303\n",
       "Site EUI (kBtu/ft²)                                            1.387706\n",
       "Source EUI (kBtu/ft²)                                          1.387706\n",
       "NYC Building Identification Number (BIN)                       1.379193\n",
       "Street Number                                                  1.055679\n",
       "Street Name                                                    1.038651\n",
       "DOF Gross Floor Area                                           1.004597\n",
       "Borough                                                        1.004597\n",
       "Water Required?                                                1.004597\n",
       "Direct GHG Emissions (Metric Tons CO2e)                        0.706624\n",
       "Total GHG Emissions (Metric Tons CO2e)                         0.630002\n",
       "Indirect GHG Emissions (Metric Tons CO2e)                      0.553380\n",
       "Metered Areas (Energy)                                         0.485272\n",
       "DOF Benchmarking Submission Status                             0.255406\n",
       "BBL - 10 digits                                                0.093649\n",
       "NYC Borough, Block and Lot (BBL) self-reported                 0.093649\n",
       "Largest Property Use Type - Gross Floor Area (ft²)             0.017027\n",
       "Largest Property Use Type                                      0.017027\n",
       "Release Date                                                   0.000000\n",
       "Property Id                                                    0.000000\n",
       "Property Name                                                  0.000000\n",
       "Parent Property Id                                             0.000000\n",
       "Parent Property Name                                           0.000000\n",
       "Postal Code                                                    0.000000\n",
       "Address 1 (self-reported)                                      0.000000\n",
       "Property GFA - Self-Reported (ft²)                             0.000000\n",
       "Occupancy                                                      0.000000\n",
       "Number of Buildings - Self-reported                            0.000000\n",
       "Year Built                                                     0.000000\n",
       "Primary Property Type - Self Selected                          0.000000\n",
       "List of All Property Use Types at Property                     0.000000\n",
       "Order                                                          0.000000\n",
       "dtype: float64"
      ]
     },
     "execution_count": 6,
     "metadata": {},
     "output_type": "execute_result"
    }
   ],
   "source": [
    "(data.isnull().sum()/len(data)*100).sort_values(ascending=False)"
   ]
  },
  {
   "cell_type": "code",
   "execution_count": 7,
   "metadata": {},
   "outputs": [],
   "source": [
    "def ausentes(data):\n",
    "    vl = data.isnull().sum()\n",
    "    per = 100 * data.isnull().sum() / len(data)\n",
    "    tab = concat([vl, per], axis=1)\n",
    "    df = tab.rename(columns={0:'Valores Ausentes', 1:'% do Valor'})\n",
    "    df = df[df.iloc[:,1] != 0].sort_values('% do Valor', ascending=False).round(1)\n",
    "    return df"
   ]
  },
  {
   "cell_type": "code",
   "execution_count": 8,
   "metadata": {},
   "outputs": [
    {
     "data": {
      "text/html": [
       "<div>\n",
       "<style scoped>\n",
       "    .dataframe tbody tr th:only-of-type {\n",
       "        vertical-align: middle;\n",
       "    }\n",
       "\n",
       "    .dataframe tbody tr th {\n",
       "        vertical-align: top;\n",
       "    }\n",
       "\n",
       "    .dataframe thead th {\n",
       "        text-align: right;\n",
       "    }\n",
       "</style>\n",
       "<table border=\"1\" class=\"dataframe\">\n",
       "  <thead>\n",
       "    <tr style=\"text-align: right;\">\n",
       "      <th></th>\n",
       "      <th>Valores Ausentes</th>\n",
       "      <th>% do Valor</th>\n",
       "    </tr>\n",
       "  </thead>\n",
       "  <tbody>\n",
       "    <tr>\n",
       "      <th>Fuel Oil #1 Use (kBtu)</th>\n",
       "      <td>11737</td>\n",
       "      <td>99.9</td>\n",
       "    </tr>\n",
       "    <tr>\n",
       "      <th>Diesel #2 Use (kBtu)</th>\n",
       "      <td>11730</td>\n",
       "      <td>99.9</td>\n",
       "    </tr>\n",
       "    <tr>\n",
       "      <th>Address 2</th>\n",
       "      <td>11539</td>\n",
       "      <td>98.2</td>\n",
       "    </tr>\n",
       "    <tr>\n",
       "      <th>Fuel Oil #5 &amp; 6 Use (kBtu)</th>\n",
       "      <td>11152</td>\n",
       "      <td>94.9</td>\n",
       "    </tr>\n",
       "    <tr>\n",
       "      <th>District Steam Use (kBtu)</th>\n",
       "      <td>10810</td>\n",
       "      <td>92.0</td>\n",
       "    </tr>\n",
       "    <tr>\n",
       "      <th>Fuel Oil #4 Use (kBtu)</th>\n",
       "      <td>10425</td>\n",
       "      <td>88.8</td>\n",
       "    </tr>\n",
       "    <tr>\n",
       "      <th>3rd Largest Property Use Type - Gross Floor Area (ft²)</th>\n",
       "      <td>10262</td>\n",
       "      <td>87.4</td>\n",
       "    </tr>\n",
       "    <tr>\n",
       "      <th>3rd Largest Property Use Type</th>\n",
       "      <td>10262</td>\n",
       "      <td>87.4</td>\n",
       "    </tr>\n",
       "    <tr>\n",
       "      <th>Fuel Oil #2 Use (kBtu)</th>\n",
       "      <td>9165</td>\n",
       "      <td>78.0</td>\n",
       "    </tr>\n",
       "    <tr>\n",
       "      <th>2nd Largest Property Use Type</th>\n",
       "      <td>8005</td>\n",
       "      <td>68.2</td>\n",
       "    </tr>\n",
       "    <tr>\n",
       "      <th>2nd Largest Property Use - Gross Floor Area (ft²)</th>\n",
       "      <td>8005</td>\n",
       "      <td>68.2</td>\n",
       "    </tr>\n",
       "    <tr>\n",
       "      <th>Metered Areas  (Water)</th>\n",
       "      <td>4609</td>\n",
       "      <td>39.2</td>\n",
       "    </tr>\n",
       "    <tr>\n",
       "      <th>Water Intensity (All Water Sources) (gal/ft²)</th>\n",
       "      <td>3984</td>\n",
       "      <td>33.9</td>\n",
       "    </tr>\n",
       "    <tr>\n",
       "      <th>Water Use (All Water Sources) (kgal)</th>\n",
       "      <td>3984</td>\n",
       "      <td>33.9</td>\n",
       "    </tr>\n",
       "    <tr>\n",
       "      <th>Latitude</th>\n",
       "      <td>2263</td>\n",
       "      <td>19.3</td>\n",
       "    </tr>\n",
       "    <tr>\n",
       "      <th>Longitude</th>\n",
       "      <td>2263</td>\n",
       "      <td>19.3</td>\n",
       "    </tr>\n",
       "    <tr>\n",
       "      <th>Community Board</th>\n",
       "      <td>2263</td>\n",
       "      <td>19.3</td>\n",
       "    </tr>\n",
       "    <tr>\n",
       "      <th>Council District</th>\n",
       "      <td>2263</td>\n",
       "      <td>19.3</td>\n",
       "    </tr>\n",
       "    <tr>\n",
       "      <th>Census Tract</th>\n",
       "      <td>2263</td>\n",
       "      <td>19.3</td>\n",
       "    </tr>\n",
       "    <tr>\n",
       "      <th>NTA</th>\n",
       "      <td>2263</td>\n",
       "      <td>19.3</td>\n",
       "    </tr>\n",
       "    <tr>\n",
       "      <th>ENERGY STAR Score</th>\n",
       "      <td>2104</td>\n",
       "      <td>17.9</td>\n",
       "    </tr>\n",
       "    <tr>\n",
       "      <th>Weather Normalized Site Natural Gas Intensity (therms/ft²)</th>\n",
       "      <td>1963</td>\n",
       "      <td>16.7</td>\n",
       "    </tr>\n",
       "    <tr>\n",
       "      <th>Weather Normalized Site Natural Gas Use (therms)</th>\n",
       "      <td>1962</td>\n",
       "      <td>16.7</td>\n",
       "    </tr>\n",
       "    <tr>\n",
       "      <th>Weather Normalized Source EUI (kBtu/ft²)</th>\n",
       "      <td>1465</td>\n",
       "      <td>12.5</td>\n",
       "    </tr>\n",
       "    <tr>\n",
       "      <th>Weather Normalized Site EUI (kBtu/ft²)</th>\n",
       "      <td>1465</td>\n",
       "      <td>12.5</td>\n",
       "    </tr>\n",
       "    <tr>\n",
       "      <th>Natural Gas Use (kBtu)</th>\n",
       "      <td>1442</td>\n",
       "      <td>12.3</td>\n",
       "    </tr>\n",
       "    <tr>\n",
       "      <th>Weather Normalized Site Electricity Intensity (kWh/ft²)</th>\n",
       "      <td>787</td>\n",
       "      <td>6.7</td>\n",
       "    </tr>\n",
       "    <tr>\n",
       "      <th>Weather Normalized Site Electricity (kWh)</th>\n",
       "      <td>786</td>\n",
       "      <td>6.7</td>\n",
       "    </tr>\n",
       "    <tr>\n",
       "      <th>Electricity Use - Grid Purchase (kBtu)</th>\n",
       "      <td>244</td>\n",
       "      <td>2.1</td>\n",
       "    </tr>\n",
       "    <tr>\n",
       "      <th>Site EUI (kBtu/ft²)</th>\n",
       "      <td>163</td>\n",
       "      <td>1.4</td>\n",
       "    </tr>\n",
       "    <tr>\n",
       "      <th>Source EUI (kBtu/ft²)</th>\n",
       "      <td>163</td>\n",
       "      <td>1.4</td>\n",
       "    </tr>\n",
       "    <tr>\n",
       "      <th>NYC Building Identification Number (BIN)</th>\n",
       "      <td>162</td>\n",
       "      <td>1.4</td>\n",
       "    </tr>\n",
       "    <tr>\n",
       "      <th>Street Number</th>\n",
       "      <td>124</td>\n",
       "      <td>1.1</td>\n",
       "    </tr>\n",
       "    <tr>\n",
       "      <th>Street Name</th>\n",
       "      <td>122</td>\n",
       "      <td>1.0</td>\n",
       "    </tr>\n",
       "    <tr>\n",
       "      <th>Borough</th>\n",
       "      <td>118</td>\n",
       "      <td>1.0</td>\n",
       "    </tr>\n",
       "    <tr>\n",
       "      <th>DOF Gross Floor Area</th>\n",
       "      <td>118</td>\n",
       "      <td>1.0</td>\n",
       "    </tr>\n",
       "    <tr>\n",
       "      <th>Water Required?</th>\n",
       "      <td>118</td>\n",
       "      <td>1.0</td>\n",
       "    </tr>\n",
       "    <tr>\n",
       "      <th>Direct GHG Emissions (Metric Tons CO2e)</th>\n",
       "      <td>83</td>\n",
       "      <td>0.7</td>\n",
       "    </tr>\n",
       "    <tr>\n",
       "      <th>Total GHG Emissions (Metric Tons CO2e)</th>\n",
       "      <td>74</td>\n",
       "      <td>0.6</td>\n",
       "    </tr>\n",
       "    <tr>\n",
       "      <th>Indirect GHG Emissions (Metric Tons CO2e)</th>\n",
       "      <td>65</td>\n",
       "      <td>0.6</td>\n",
       "    </tr>\n",
       "    <tr>\n",
       "      <th>Metered Areas (Energy)</th>\n",
       "      <td>57</td>\n",
       "      <td>0.5</td>\n",
       "    </tr>\n",
       "    <tr>\n",
       "      <th>DOF Benchmarking Submission Status</th>\n",
       "      <td>30</td>\n",
       "      <td>0.3</td>\n",
       "    </tr>\n",
       "    <tr>\n",
       "      <th>NYC Borough, Block and Lot (BBL) self-reported</th>\n",
       "      <td>11</td>\n",
       "      <td>0.1</td>\n",
       "    </tr>\n",
       "    <tr>\n",
       "      <th>BBL - 10 digits</th>\n",
       "      <td>11</td>\n",
       "      <td>0.1</td>\n",
       "    </tr>\n",
       "    <tr>\n",
       "      <th>Largest Property Use Type</th>\n",
       "      <td>2</td>\n",
       "      <td>0.0</td>\n",
       "    </tr>\n",
       "    <tr>\n",
       "      <th>Largest Property Use Type - Gross Floor Area (ft²)</th>\n",
       "      <td>2</td>\n",
       "      <td>0.0</td>\n",
       "    </tr>\n",
       "  </tbody>\n",
       "</table>\n",
       "</div>"
      ],
      "text/plain": [
       "                                                    Valores Ausentes  \\\n",
       "Fuel Oil #1 Use (kBtu)                                         11737   \n",
       "Diesel #2 Use (kBtu)                                           11730   \n",
       "Address 2                                                      11539   \n",
       "Fuel Oil #5 & 6 Use (kBtu)                                     11152   \n",
       "District Steam Use (kBtu)                                      10810   \n",
       "Fuel Oil #4 Use (kBtu)                                         10425   \n",
       "3rd Largest Property Use Type - Gross Floor Are...             10262   \n",
       "3rd Largest Property Use Type                                  10262   \n",
       "Fuel Oil #2 Use (kBtu)                                          9165   \n",
       "2nd Largest Property Use Type                                   8005   \n",
       "2nd Largest Property Use - Gross Floor Area (ft²)               8005   \n",
       "Metered Areas  (Water)                                          4609   \n",
       "Water Intensity (All Water Sources) (gal/ft²)                   3984   \n",
       "Water Use (All Water Sources) (kgal)                            3984   \n",
       "Latitude                                                        2263   \n",
       "Longitude                                                       2263   \n",
       "Community Board                                                 2263   \n",
       "Council District                                                2263   \n",
       "Census Tract                                                    2263   \n",
       "NTA                                                             2263   \n",
       "ENERGY STAR Score                                               2104   \n",
       "Weather Normalized Site Natural Gas Intensity (...              1963   \n",
       "Weather Normalized Site Natural Gas Use (therms)                1962   \n",
       "Weather Normalized Source EUI (kBtu/ft²)                        1465   \n",
       "Weather Normalized Site EUI (kBtu/ft²)                          1465   \n",
       "Natural Gas Use (kBtu)                                          1442   \n",
       "Weather Normalized Site Electricity Intensity (...               787   \n",
       "Weather Normalized Site Electricity (kWh)                        786   \n",
       "Electricity Use - Grid Purchase (kBtu)                           244   \n",
       "Site EUI (kBtu/ft²)                                              163   \n",
       "Source EUI (kBtu/ft²)                                            163   \n",
       "NYC Building Identification Number (BIN)                         162   \n",
       "Street Number                                                    124   \n",
       "Street Name                                                      122   \n",
       "Borough                                                          118   \n",
       "DOF Gross Floor Area                                             118   \n",
       "Water Required?                                                  118   \n",
       "Direct GHG Emissions (Metric Tons CO2e)                           83   \n",
       "Total GHG Emissions (Metric Tons CO2e)                            74   \n",
       "Indirect GHG Emissions (Metric Tons CO2e)                         65   \n",
       "Metered Areas (Energy)                                            57   \n",
       "DOF Benchmarking Submission Status                                30   \n",
       "NYC Borough, Block and Lot (BBL) self-reported                    11   \n",
       "BBL - 10 digits                                                   11   \n",
       "Largest Property Use Type                                          2   \n",
       "Largest Property Use Type - Gross Floor Area (ft²)                 2   \n",
       "\n",
       "                                                    % do Valor  \n",
       "Fuel Oil #1 Use (kBtu)                                    99.9  \n",
       "Diesel #2 Use (kBtu)                                      99.9  \n",
       "Address 2                                                 98.2  \n",
       "Fuel Oil #5 & 6 Use (kBtu)                                94.9  \n",
       "District Steam Use (kBtu)                                 92.0  \n",
       "Fuel Oil #4 Use (kBtu)                                    88.8  \n",
       "3rd Largest Property Use Type - Gross Floor Are...        87.4  \n",
       "3rd Largest Property Use Type                             87.4  \n",
       "Fuel Oil #2 Use (kBtu)                                    78.0  \n",
       "2nd Largest Property Use Type                             68.2  \n",
       "2nd Largest Property Use - Gross Floor Area (ft²)         68.2  \n",
       "Metered Areas  (Water)                                    39.2  \n",
       "Water Intensity (All Water Sources) (gal/ft²)             33.9  \n",
       "Water Use (All Water Sources) (kgal)                      33.9  \n",
       "Latitude                                                  19.3  \n",
       "Longitude                                                 19.3  \n",
       "Community Board                                           19.3  \n",
       "Council District                                          19.3  \n",
       "Census Tract                                              19.3  \n",
       "NTA                                                       19.3  \n",
       "ENERGY STAR Score                                         17.9  \n",
       "Weather Normalized Site Natural Gas Intensity (...        16.7  \n",
       "Weather Normalized Site Natural Gas Use (therms)          16.7  \n",
       "Weather Normalized Source EUI (kBtu/ft²)                  12.5  \n",
       "Weather Normalized Site EUI (kBtu/ft²)                    12.5  \n",
       "Natural Gas Use (kBtu)                                    12.3  \n",
       "Weather Normalized Site Electricity Intensity (...         6.7  \n",
       "Weather Normalized Site Electricity (kWh)                  6.7  \n",
       "Electricity Use - Grid Purchase (kBtu)                     2.1  \n",
       "Site EUI (kBtu/ft²)                                        1.4  \n",
       "Source EUI (kBtu/ft²)                                      1.4  \n",
       "NYC Building Identification Number (BIN)                   1.4  \n",
       "Street Number                                              1.1  \n",
       "Street Name                                                1.0  \n",
       "Borough                                                    1.0  \n",
       "DOF Gross Floor Area                                       1.0  \n",
       "Water Required?                                            1.0  \n",
       "Direct GHG Emissions (Metric Tons CO2e)                    0.7  \n",
       "Total GHG Emissions (Metric Tons CO2e)                     0.6  \n",
       "Indirect GHG Emissions (Metric Tons CO2e)                  0.6  \n",
       "Metered Areas (Energy)                                     0.5  \n",
       "DOF Benchmarking Submission Status                         0.3  \n",
       "NYC Borough, Block and Lot (BBL) self-reported             0.1  \n",
       "BBL - 10 digits                                            0.1  \n",
       "Largest Property Use Type                                  0.0  \n",
       "Largest Property Use Type - Gross Floor Area (ft²)         0.0  "
      ]
     },
     "execution_count": 8,
     "metadata": {},
     "output_type": "execute_result"
    }
   ],
   "source": [
    "ausentes(data)"
   ]
  },
  {
   "cell_type": "code",
   "execution_count": 9,
   "metadata": {},
   "outputs": [
    {
     "name": "stdout",
     "output_type": "stream",
     "text": [
      "Colunas que deve remover 11.\n"
     ]
    }
   ],
   "source": [
    "# Pegando o nome das colunas\n",
    "aus = ausentes(data)\n",
    "col_name = list(aus[aus['% do Valor'] > 50].index)\n",
    "print('Colunas que deve remover %d.' % len(col_name))"
   ]
  },
  {
   "cell_type": "code",
   "execution_count": 10,
   "metadata": {},
   "outputs": [],
   "source": [
    "data = data.drop(columns=list(col_name))"
   ]
  },
  {
   "cell_type": "code",
   "execution_count": 11,
   "metadata": {},
   "outputs": [
    {
     "data": {
      "text/plain": [
       "Text(0.5, 1.0, 'Distribuição de Energia')"
      ]
     },
     "execution_count": 11,
     "metadata": {},
     "output_type": "execute_result"
    },
    {
     "data": {
      "image/png": "[encoded data removed]",
      "text/plain": [
       "<Figure size 1152x576 with 1 Axes>"
      ]
     },
     "metadata": {
      "needs_background": "light"
     },
     "output_type": "display_data"
    }
   ],
   "source": [
    "data = data.rename(columns = {'ENERGY STAR Score':'score'})\n",
    "\n",
    "plt.subplots(figsize=(16,8))\n",
    "plt.style.use('fivethirtyeight')\n",
    "plt.hist(data['score'].dropna(), bins=100, edgecolor='k')\n",
    "plt.xlabel('Score')\n",
    "plt.ylabel('Número de Construções')\n",
    "plt.title('Distribuição de Energia')"
   ]
  },
  {
   "cell_type": "code",
   "execution_count": 12,
   "metadata": {},
   "outputs": [
    {
     "data": {
      "text/plain": [
       "Text(0.5, 1.0, 'Site EUI Distribuition')"
      ]
     },
     "execution_count": 12,
     "metadata": {},
     "output_type": "execute_result"
    },
    {
     "data": {
      "image/png": "[encoded data removed]",
      "text/plain": [
       "<Figure size 1152x576 with 1 Axes>"
      ]
     },
     "metadata": {},
     "output_type": "display_data"
    }
   ],
   "source": [
    "plt.subplots(figsize=(16,8))\n",
    "plt.hist(data['Site EUI (kBtu/ft²)'].dropna(), bins=10, edgecolor='black')\n",
    "plt.xlabel('Site EUI')\n",
    "plt.ylabel('Count')\n",
    "plt.title('Site EUI Distribuition')"
   ]
  },
  {
   "cell_type": "code",
   "execution_count": 13,
   "metadata": {},
   "outputs": [
    {
     "data": {
      "text/plain": [
       "count     11583.000000\n",
       "mean        280.071484\n",
       "std        8607.178877\n",
       "min           0.000000\n",
       "25%          61.800000\n",
       "50%          78.500000\n",
       "75%          97.600000\n",
       "max      869265.000000\n",
       "Name: Site EUI (kBtu/ft²), dtype: float64"
      ]
     },
     "execution_count": 13,
     "metadata": {},
     "output_type": "execute_result"
    }
   ],
   "source": [
    "data['Site EUI (kBtu/ft²)'].describe()"
   ]
  },
  {
   "cell_type": "code",
   "execution_count": 14,
   "metadata": {},
   "outputs": [
    {
     "data": {
      "text/plain": [
       "3173     51328.8\n",
       "3170     51831.2\n",
       "3383     78360.1\n",
       "8269     84969.6\n",
       "3263     95560.2\n",
       "8268    103562.7\n",
       "8174    112173.6\n",
       "3898    126307.4\n",
       "7       143974.4\n",
       "8068    869265.0\n",
       "Name: Site EUI (kBtu/ft²), dtype: float64"
      ]
     },
     "execution_count": 14,
     "metadata": {},
     "output_type": "execute_result"
    }
   ],
   "source": [
    "data['Site EUI (kBtu/ft²)'].dropna().sort_values().tail(10)"
   ]
  },
  {
   "cell_type": "code",
   "execution_count": 15,
   "metadata": {},
   "outputs": [
    {
     "data": {
      "text/html": [
       "<div>\n",
       "<style scoped>\n",
       "    .dataframe tbody tr th:only-of-type {\n",
       "        vertical-align: middle;\n",
       "    }\n",
       "\n",
       "    .dataframe tbody tr th {\n",
       "        vertical-align: top;\n",
       "    }\n",
       "\n",
       "    .dataframe thead th {\n",
       "        text-align: right;\n",
       "    }\n",
       "</style>\n",
       "<table border=\"1\" class=\"dataframe\">\n",
       "  <thead>\n",
       "    <tr style=\"text-align: right;\">\n",
       "      <th></th>\n",
       "      <th>Order</th>\n",
       "      <th>Property Id</th>\n",
       "      <th>Property Name</th>\n",
       "      <th>Parent Property Id</th>\n",
       "      <th>Parent Property Name</th>\n",
       "      <th>BBL - 10 digits</th>\n",
       "      <th>NYC Borough, Block and Lot (BBL) self-reported</th>\n",
       "      <th>NYC Building Identification Number (BIN)</th>\n",
       "      <th>Address 1 (self-reported)</th>\n",
       "      <th>Postal Code</th>\n",
       "      <th>...</th>\n",
       "      <th>Source EUI (kBtu/ft²)</th>\n",
       "      <th>Release Date</th>\n",
       "      <th>Water Required?</th>\n",
       "      <th>DOF Benchmarking Submission Status</th>\n",
       "      <th>Latitude</th>\n",
       "      <th>Longitude</th>\n",
       "      <th>Community Board</th>\n",
       "      <th>Council District</th>\n",
       "      <th>Census Tract</th>\n",
       "      <th>NTA</th>\n",
       "    </tr>\n",
       "  </thead>\n",
       "  <tbody>\n",
       "    <tr>\n",
       "      <th>8068</th>\n",
       "      <td>9984</td>\n",
       "      <td>4414323</td>\n",
       "      <td>234 Skillman</td>\n",
       "      <td>Not Applicable: Standalone Property</td>\n",
       "      <td>Not Applicable: Standalone Property</td>\n",
       "      <td>3028937502</td>\n",
       "      <td>3028937502</td>\n",
       "      <td>3390250 , 3338313</td>\n",
       "      <td>234 Skillman avenue</td>\n",
       "      <td>11211</td>\n",
       "      <td>...</td>\n",
       "      <td>912801.1</td>\n",
       "      <td>05/01/2017 11:34:14 PM</td>\n",
       "      <td>NaN</td>\n",
       "      <td>In Compliance</td>\n",
       "      <td>40.716233</td>\n",
       "      <td>-73.94141</td>\n",
       "      <td>1.0</td>\n",
       "      <td>34.0</td>\n",
       "      <td>477.0</td>\n",
       "      <td>East Williamsburg                             ...</td>\n",
       "    </tr>\n",
       "  </tbody>\n",
       "</table>\n",
       "<p>1 rows × 49 columns</p>\n",
       "</div>"
      ],
      "text/plain": [
       "      Order  Property Id Property Name                   Parent Property Id  \\\n",
       "8068   9984      4414323  234 Skillman  Not Applicable: Standalone Property   \n",
       "\n",
       "                     Parent Property Name BBL - 10 digits  \\\n",
       "8068  Not Applicable: Standalone Property      3028937502   \n",
       "\n",
       "     NYC Borough, Block and Lot (BBL) self-reported  \\\n",
       "8068                                     3028937502   \n",
       "\n",
       "     NYC Building Identification Number (BIN) Address 1 (self-reported)  \\\n",
       "8068                        3390250 , 3338313       234 Skillman avenue   \n",
       "\n",
       "     Postal Code  ... Source EUI (kBtu/ft²)            Release Date  \\\n",
       "8068       11211  ...              912801.1  05/01/2017 11:34:14 PM   \n",
       "\n",
       "     Water Required?  DOF Benchmarking Submission Status   Latitude Longitude  \\\n",
       "8068             NaN                       In Compliance  40.716233 -73.94141   \n",
       "\n",
       "     Community Board  Council District  Census Tract  \\\n",
       "8068             1.0              34.0         477.0   \n",
       "\n",
       "                                                    NTA  \n",
       "8068  East Williamsburg                             ...  \n",
       "\n",
       "[1 rows x 49 columns]"
      ]
     },
     "execution_count": 15,
     "metadata": {},
     "output_type": "execute_result"
    }
   ],
   "source": [
    "data.loc[data['Site EUI (kBtu/ft²)'] == 869265, :]"
   ]
  },
  {
   "cell_type": "markdown",
   "metadata": {},
   "source": [
    "## Removendo Outliers"
   ]
  },
  {
   "cell_type": "code",
   "execution_count": 16,
   "metadata": {},
   "outputs": [],
   "source": [
    "quartile1 = data['Site EUI (kBtu/ft²)'].describe()['25%']\n",
    "quartile2 = data['Site EUI (kBtu/ft²)'].describe()['75%']\n",
    "\n",
    "dif = quartile2 - quartile1\n",
    "\n",
    "data = data[(data['Site EUI (kBtu/ft²)'] > (quartile1 - 3 * dif)) &\n",
    "            (data['Site EUI (kBtu/ft²)'] < (quartile2 + 3 * dif))]"
   ]
  },
  {
   "cell_type": "code",
   "execution_count": 17,
   "metadata": {},
   "outputs": [
    {
     "data": {
      "text/plain": [
       "Text(0.5, 1.0, 'Site EUI Distribuition')"
      ]
     },
     "execution_count": 17,
     "metadata": {},
     "output_type": "execute_result"
    },
    {
     "data": {
      "image/png": "[encoded data removed]",
      "text/plain": [
       "<Figure size 1152x576 with 1 Axes>"
      ]
     },
     "metadata": {},
     "output_type": "display_data"
    }
   ],
   "source": [
    "plt.figure(figsize=(16,8))\n",
    "plt.hist(data['Site EUI (kBtu/ft²)'].dropna(), bins=20, edgecolor='b')\n",
    "plt.xlabel('Site EUI')\n",
    "plt.ylabel('Contagem')\n",
    "plt.title('Site EUI Distribuition')"
   ]
  },
  {
   "cell_type": "markdown",
   "metadata": {},
   "source": [
    "## Relacionamentos"
   ]
  },
  {
   "cell_type": "code",
   "execution_count": 18,
   "metadata": {},
   "outputs": [],
   "source": [
    "vl = data.dropna(subset=['score'])\n",
    "vl = vl['Largest Property Use Type'].value_counts()\n",
    "vl = list(vl[vl.values > 100].index)"
   ]
  },
  {
   "cell_type": "code",
   "execution_count": 19,
   "metadata": {},
   "outputs": [
    {
     "data": {
      "text/plain": [
       "Text(0.5, 1.0, 'Density Plot de Energy Star Scores por Building Type')"
      ]
     },
     "execution_count": 19,
     "metadata": {},
     "output_type": "execute_result"
    },
    {
     "data": {
      "image/png": "[encoded data removed]",
      "text/plain": [
       "<Figure size 1152x576 with 1 Axes>"
      ]
     },
     "metadata": {},
     "output_type": "display_data"
    }
   ],
   "source": [
    "plt.figure(figsize=(16,8))\n",
    "\n",
    "for b_type in vl:\n",
    "    subset = data[data['Largest Property Use Type'] == b_type]\n",
    "    \n",
    "    sns.kdeplot(subset['score'].dropna(), label = b_type, shade = False, alpha = 0.8)\n",
    "    \n",
    "plt.xlabel('Energy Star Score', size = 20)\n",
    "plt.ylabel('Density', size = 20)\n",
    "plt.title('Density Plot de Energy Star Scores por Building Type', size = 24)"
   ]
  },
  {
   "cell_type": "code",
   "execution_count": 20,
   "metadata": {},
   "outputs": [],
   "source": [
    "br = data.dropna(subset=['score'])\n",
    "br = data['Borough'].value_counts()\n",
    "br = list(br[br.values > 100].index)"
   ]
  },
  {
   "cell_type": "code",
   "execution_count": 21,
   "metadata": {},
   "outputs": [
    {
     "data": {
      "text/plain": [
       "Text(0.5, 1.0, 'Density Plot de Energy Star Scores por Borough')"
      ]
     },
     "execution_count": 21,
     "metadata": {},
     "output_type": "execute_result"
    },
    {
     "data": {
      "image/png": "[encoded data removed]",
      "text/plain": [
       "<Figure size 1152x576 with 1 Axes>"
      ]
     },
     "metadata": {},
     "output_type": "display_data"
    }
   ],
   "source": [
    "plt.figure(figsize=(16,8))\n",
    "\n",
    "for b in br:\n",
    "    subset = data[data['Borough'] == b]\n",
    "    sns.kdeplot(subset['score'].dropna(), label=br)\n",
    "    \n",
    "plt.xlabel('Energy Star Score', size=20)\n",
    "plt.ylabel('Density', size=20)\n",
    "plt.title('Density Plot de Energy Star Scores por Borough', size =24)"
   ]
  },
  {
   "cell_type": "markdown",
   "metadata": {},
   "source": [
    "# Correlação"
   ]
  },
  {
   "cell_type": "code",
   "execution_count": 22,
   "metadata": {},
   "outputs": [],
   "source": [
    "numeric_subset = data.select_dtypes('number')\n",
    "\n",
    "for col in numeric_subset.columns:\n",
    "    if col == 'score':\n",
    "        next\n",
    "    else:\n",
    "        subset['sqrt_' + col] = np.sqrt(subset[col])\n",
    "        subset['log_' + col] = np.log(subset[col])\n",
    "\n",
    "categorical_subset = data[['Borough', 'Largest Property Use Type']]\n",
    "\n",
    "categorical_subset = get_dummies(categorical_subset)\n",
    "\n",
    "features = concat([numeric_subset, categorical_subset], axis = 1)\n",
    "\n",
    "features = features.dropna(subset = ['score'])\n",
    "\n",
    "correlations = features.corr()['score'].dropna().sort_values()"
   ]
  },
  {
   "cell_type": "code",
   "execution_count": 23,
   "metadata": {},
   "outputs": [
    {
     "data": {
      "text/plain": [
       "Site EUI (kBtu/ft²)                                          -0.723864\n",
       "Weather Normalized Site EUI (kBtu/ft²)                       -0.713993\n",
       "Weather Normalized Source EUI (kBtu/ft²)                     -0.645542\n",
       "Source EUI (kBtu/ft²)                                        -0.641037\n",
       "Weather Normalized Site Electricity Intensity (kWh/ft²)      -0.358394\n",
       "Weather Normalized Site Natural Gas Intensity (therms/ft²)   -0.346046\n",
       "Weather Normalized Site Natural Gas Use (therms)             -0.135211\n",
       "Natural Gas Use (kBtu)                                       -0.133648\n",
       "Year Built                                                   -0.121249\n",
       "Largest Property Use Type_Multifamily Housing                -0.099751\n",
       "Largest Property Use Type_Hotel                              -0.096428\n",
       "Largest Property Use Type_Senior Care Community              -0.054583\n",
       "Electricity Use - Grid Purchase (kBtu)                       -0.050639\n",
       "Weather Normalized Site Electricity (kWh)                    -0.048207\n",
       "Latitude                                                     -0.048196\n",
       "Name: score, dtype: float64"
      ]
     },
     "execution_count": 23,
     "metadata": {},
     "output_type": "execute_result"
    }
   ],
   "source": [
    "correlations.head(15)"
   ]
  },
  {
   "cell_type": "code",
   "execution_count": 24,
   "metadata": {},
   "outputs": [
    {
     "data": {
      "text/plain": [
       "Largest Property Use Type_Courthouse                               0.016445\n",
       "Largest Property Use Type_Financial Office                         0.017172\n",
       "Property GFA - Self-Reported (ft²)                                 0.017360\n",
       "Largest Property Use Type - Gross Floor Area (ft²)                 0.018330\n",
       "Largest Property Use Type_Retail Store                             0.025007\n",
       "Borough_Queens                                                     0.029545\n",
       "Largest Property Use Type_Supermarket/Grocery Store                0.030038\n",
       "Largest Property Use Type_Residence Hall/Dormitory                 0.035407\n",
       "Order                                                              0.036827\n",
       "Largest Property Use Type_Hospital (General Medical & Surgical)    0.048410\n",
       "Borough_Brooklyn                                                   0.050486\n",
       "Community Board                                                    0.056612\n",
       "Council District                                                   0.061639\n",
       "Largest Property Use Type_Office                                   0.158484\n",
       "score                                                              1.000000\n",
       "Name: score, dtype: float64"
      ]
     },
     "execution_count": 24,
     "metadata": {},
     "output_type": "execute_result"
    }
   ],
   "source": [
    "correlations.tail(15)"
   ]
  },
  {
   "cell_type": "markdown",
   "metadata": {},
   "source": [
    "# Engenharia de Atributos"
   ]
  },
  {
   "cell_type": "code",
   "execution_count": 25,
   "metadata": {},
   "outputs": [
    {
     "data": {
      "text/plain": [
       "(11319, 104)"
      ]
     },
     "execution_count": 25,
     "metadata": {},
     "output_type": "execute_result"
    }
   ],
   "source": [
    "features = data.copy()\n",
    "\n",
    "numeric_subset = data.select_dtypes('number')\n",
    "\n",
    "for col in numeric_subset.columns:\n",
    "    if col == 'score':\n",
    "        next\n",
    "    else:\n",
    "        numeric_subset['log_' + col] = np.log(numeric_subset[col])\n",
    "        \n",
    "categorical_subset = data[['Borough', 'Largest Property Use Type']]\n",
    "categorical_subset = get_dummies(categorical_subset)\n",
    "features = concat([numeric_subset, categorical_subset], axis = 1)\n",
    "features.shape"
   ]
  },
  {
   "cell_type": "markdown",
   "metadata": {},
   "source": [
    "# Removendo Colinearidade"
   ]
  },
  {
   "cell_type": "code",
   "execution_count": 26,
   "metadata": {},
   "outputs": [],
   "source": [
    "def remove_collinear_features(x, threshold):\n",
    "\n",
    "    y = x['score']\n",
    "    x = x.drop(columns = ['score'])\n",
    "    \n",
    "    corr_matrix = x.corr()\n",
    "    iters = range(len(corr_matrix.columns) - 1)\n",
    "    drop_cols = []\n",
    "\n",
    "    for i in iters:\n",
    "        for j in range(i):\n",
    "            item = corr_matrix.iloc[j:(j+1), (i+1):(i+2)]\n",
    "            col = item.columns\n",
    "            row = item.index\n",
    "            val = abs(item.values)\n",
    "            \n",
    "            if val >= threshold:\n",
    "                drop_cols.append(col.values[0])\n",
    "\n",
    "    drops = set(drop_cols)\n",
    "    x = x.drop(columns = drops)\n",
    "    x = x.drop(columns = ['Weather Normalized Site EUI (kBtu/ft²)', \n",
    "                          'Water Use (All Water Sources) (kgal)',\n",
    "                          'log_Water Use (All Water Sources) (kgal)',\n",
    "                          'Largest Property Use Type - Gross Floor Area (ft²)'])\n",
    "    \n",
    "    x['score'] = y\n",
    "               \n",
    "    return x"
   ]
  },
  {
   "cell_type": "code",
   "execution_count": 27,
   "metadata": {},
   "outputs": [],
   "source": [
    "features = remove_collinear_features(features, 0.6)"
   ]
  },
  {
   "cell_type": "code",
   "execution_count": 32,
   "metadata": {},
   "outputs": [
    {
     "data": {
      "text/plain": [
       "(11319, 64)"
      ]
     },
     "execution_count": 32,
     "metadata": {},
     "output_type": "execute_result"
    }
   ],
   "source": [
    "features  = features.dropna(axis=1, how = 'all')\n",
    "features.shape"
   ]
  },
  {
   "cell_type": "markdown",
   "metadata": {},
   "source": [
    "# Traino e Teste"
   ]
  },
  {
   "cell_type": "code",
   "execution_count": 36,
   "metadata": {},
   "outputs": [
    {
     "name": "stdout",
     "output_type": "stream",
     "text": [
      "(1858, 64)\n",
      "(9461, 64)\n"
     ]
    }
   ],
   "source": [
    "n_score = features[features['score'].isna()]\n",
    "score = features[features['score'].notnull()]\n",
    "\n",
    "print(n_score.shape)\n",
    "print(score.shape)"
   ]
  },
  {
   "cell_type": "code",
   "execution_count": 39,
   "metadata": {},
   "outputs": [
    {
     "name": "stdout",
     "output_type": "stream",
     "text": [
      "(7568, 63)\n",
      "(1893, 63)\n",
      "(7568, 1)\n",
      "(1893, 1)\n"
     ]
    }
   ],
   "source": [
    "x = score.drop(columns='score')\n",
    "y = DataFrame(score['score'])\n",
    "\n",
    "x = x.replace({np.inf: np.nan, -np.inf: np.nan})\n",
    "\n",
    "x_train, x_test, y_train, y_test = train_test_split(x,y,test_size=0.2)\n",
    "\n",
    "print(x_train.shape)\n",
    "print(x_test.shape)\n",
    "print(y_train.shape)\n",
    "print(y_test.shape)"
   ]
  },
  {
   "cell_type": "code",
   "execution_count": 41,
   "metadata": {},
   "outputs": [],
   "source": [
    "x_test = MinMaxScaler().fit_transform(x_test)\n",
    "y_test = MinMaxScaler().fit_transform(y_test)"
   ]
  },
  {
   "cell_type": "code",
   "execution_count": 45,
   "metadata": {},
   "outputs": [],
   "source": [
    "y_train = np.array(y_train).reshape((-1,))\n",
    "y_test = np.array(y_test).reshape((-1,))"
   ]
  },
  {
   "cell_type": "code",
   "execution_count": 50,
   "metadata": {},
   "outputs": [
    {
     "data": {
      "text/plain": [
       "Order                                                             0\n",
       "Property Id                                                       0\n",
       "DOF Gross Floor Area                                             40\n",
       "Year Built                                                        0\n",
       "Number of Buildings - Self-reported                               0\n",
       "                                                                 ..\n",
       "Largest Property Use Type_Strip Mall                              0\n",
       "Largest Property Use Type_Supermarket/Grocery Store               0\n",
       "Largest Property Use Type_Urgent Care/Clinic/Other Outpatient     0\n",
       "Largest Property Use Type_Wholesale Club/Supercenter              0\n",
       "Largest Property Use Type_Worship Facility                        0\n",
       "Length: 63, dtype: int64"
      ]
     },
     "execution_count": 50,
     "metadata": {},
     "output_type": "execute_result"
    }
   ],
   "source": [
    "x_train.isnull().sum()"
   ]
  },
  {
   "cell_type": "code",
   "execution_count": 53,
   "metadata": {},
   "outputs": [
    {
     "data": {
      "text/plain": [
       "SimpleImputer()"
      ]
     },
     "execution_count": 53,
     "metadata": {},
     "output_type": "execute_result"
    }
   ],
   "source": [
    "imput = SimpleImputer(missing_values=np.nan, strategy='mean')\n",
    "imput.fit(x)\n",
    "x_train = imput.transform(x_train)"
   ]
  },
  {
   "cell_type": "code",
   "execution_count": 56,
   "metadata": {},
   "outputs": [],
   "source": [
    "x_test = imput.transform(x_test)"
   ]
  },
  {
   "cell_type": "markdown",
   "metadata": {},
   "source": [
    "# Random Forest Regressor"
   ]
  },
  {
   "cell_type": "code",
   "execution_count": 63,
   "metadata": {},
   "outputs": [
    {
     "data": {
      "text/plain": [
       "-107605.82155166076"
      ]
     },
     "execution_count": 63,
     "metadata": {},
     "output_type": "execute_result"
    }
   ],
   "source": [
    "rfr = RandomForestRegressor(n_jobs=-1)\n",
    "rfr.fit(x_train, y_train)\n",
    "mean_squared_error(y_test, rfr.predict(x_test))\n",
    "rfr.score(x_test, y_test)"
   ]
  },
  {
   "cell_type": "code",
   "execution_count": 65,
   "metadata": {},
   "outputs": [
    {
     "data": {
      "text/plain": [
       "-112373.63444908638"
      ]
     },
     "execution_count": 65,
     "metadata": {},
     "output_type": "execute_result"
    }
   ],
   "source": [
    "n_estimators = [100, 500, 900, 1100, 1500]\n",
    "max_depth = [2, 3, 5, 10, 15]\n",
    "min_samples_leaf = [1, 2, 4, 6, 8]\n",
    "min_samples_split = [2, 4, 6, 10]\n",
    "max_features = ['auto', 'sqrt', 'log2']\n",
    "\n",
    "params= {'n_estimators': n_estimators,\n",
    "         'max_depth': max_depth,\n",
    "         'min_samples_leaf': min_samples_leaf,\n",
    "         'min_samples_split': min_samples_split,\n",
    "         'max_features': max_features}\n",
    "\n",
    "rscv = RandomizedSearchCV(rfr, param_distributions=params, n_iter=25, return_train_score=True,n_jobs=-1)\n",
    "rscv.fit(x_train, y_train)\n",
    "mean_squared_error(y_test, rscv.predict(x_test))\n",
    "rscv.score(x_test, y_test)"
   ]
  },
  {
   "cell_type": "markdown",
   "metadata": {},
   "source": [
    "# Gradient Boosting Regressor"
   ]
  },
  {
   "cell_type": "code",
   "execution_count": 62,
   "metadata": {},
   "outputs": [
    {
     "data": {
      "text/plain": [
       "-112924.55243818102"
      ]
     },
     "execution_count": 62,
     "metadata": {},
     "output_type": "execute_result"
    }
   ],
   "source": [
    "gbr = GradientBoostingRegressor()\n",
    "gbr.fit(x_train, y_train)\n",
    "mean_squared_error(y_test, gbr.predict(x_test))\n",
    "gbr.score(x_test,y_test)"
   ]
  },
  {
   "cell_type": "code",
   "execution_count": 66,
   "metadata": {},
   "outputs": [
    {
     "data": {
      "text/plain": [
       "-137155.46234779508"
      ]
     },
     "execution_count": 66,
     "metadata": {},
     "output_type": "execute_result"
    }
   ],
   "source": [
    "loss = ['ls', 'lad', 'huber']\n",
    "n_estimators = [100, 500, 900, 1100, 1500]\n",
    "max_depth = [2, 3, 5, 10, 15]\n",
    "min_samples_leaf = [1, 2, 4, 6, 8]\n",
    "min_samples_split = [2, 4, 6, 10]\n",
    "max_features = ['auto', 'sqrt', 'log2', None]\n",
    "\n",
    "params = {'loss': loss,\n",
    "          'n_estimators': n_estimators,\n",
    "          'max_depth': max_depth,\n",
    "          'min_samples_leaf': min_samples_leaf,\n",
    "          'min_samples_split': min_samples_split,\n",
    "          'max_features': max_features}\n",
    "\n",
    "rscv = RandomizedSearchCV(gbr, param_distributions=params, n_iter=25, return_train_score=True,n_jobs=-1)\n",
    "rscv.fit(x_train, y_train)\n",
    "mean_squared_error(y_test, rscv.predict(x_test))\n",
    "rscv.score(x_test, y_test)"
   ]
  }
 ],
 "metadata": {
  "kernelspec": {
   "display_name": "Python 3",
   "language": "python",
   "name": "python3"
  },
  "language_info": {
   "codemirror_mode": {
    "name": "ipython",
    "version": 3
   },
   "file_extension": ".py",
   "mimetype": "text/x-python",
   "name": "python",
   "nbconvert_exporter": "python",
   "pygments_lexer": "ipython3",
   "version": "3.6.12"
  }
 },
 "nbformat": 4,
 "nbformat_minor": 4
}
