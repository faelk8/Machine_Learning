{
 "cells": [
  {
   "cell_type": "markdown",
   "metadata": {},
   "source": [
    "# Análise Explotória - Conjuntos de Dados Kaggle"
   ]
  },
  {
   "cell_type": "code",
   "execution_count": 1,
   "metadata": {},
   "outputs": [],
   "source": [
    "from pandas import read_csv, DataFrame, concat\n",
    "import numpy as np\n",
    "\n",
    "import matplotlib.pyplot as plt\n",
    "import seaborn as sns\n",
    "\n",
    "from sklearn.feature_selection import SelectKBest, chi2\n",
    "from sklearn.preprocessing import LabelEncoder\n",
    "from sklearn.preprocessing import MinMaxScaler\n",
    "from sklearn.model_selection import train_test_split \n",
    "\n",
    "import statsmodels.api as sm\n",
    "import statsmodels.formula.api as smf\n",
    "\n",
    "from sklearn.ensemble import GradientBoostingRegressor\n",
    "from sklearn.metrics import mean_squared_error\n",
    "\n",
    "import warnings\n",
    "warnings.filterwarnings('ignore')"
   ]
  },
  {
   "cell_type": "code",
   "execution_count": 2,
   "metadata": {},
   "outputs": [],
   "source": [
    "data = read_csv('01-dados/autos.csv')"
   ]
  },
  {
   "cell_type": "code",
   "execution_count": 3,
   "metadata": {},
   "outputs": [
    {
     "name": "stdout",
     "output_type": "stream",
     "text": [
      "<class 'pandas.core.frame.DataFrame'>\n",
      "RangeIndex: 313687 entries, 0 to 313686\n",
      "Data columns (total 27 columns):\n",
      " #   Column               Non-Null Count   Dtype \n",
      "---  ------               --------------   ----- \n",
      " 0   dateCrawled          313687 non-null  object\n",
      " 1   name                 313687 non-null  object\n",
      " 2   seller               313687 non-null  object\n",
      " 3   offerType            313687 non-null  object\n",
      " 4   price                313687 non-null  int64 \n",
      " 5   abtest               313687 non-null  object\n",
      " 6   vehicleType          313687 non-null  object\n",
      " 7   yearOfRegistration   313687 non-null  int64 \n",
      " 8   gearbox              313687 non-null  object\n",
      " 9   powerPS              313687 non-null  int64 \n",
      " 10  model                313687 non-null  object\n",
      " 11  kilometer            313687 non-null  int64 \n",
      " 12  monthOfRegistration  313687 non-null  object\n",
      " 13  fuelType             313498 non-null  object\n",
      " 14  brand                313687 non-null  object\n",
      " 15  notRepairedDamage    313687 non-null  object\n",
      " 16  dateCreated          313687 non-null  object\n",
      " 17  postalCode           313687 non-null  int64 \n",
      " 18  lastSeen             313687 non-null  object\n",
      " 19  yearOfCreation       313687 non-null  int64 \n",
      " 20  yearCrawled          313687 non-null  int64 \n",
      " 21  monthOfCreation      313687 non-null  object\n",
      " 22  monthCrawled         313687 non-null  object\n",
      " 23  NoOfDaysOnline       313687 non-null  int64 \n",
      " 24  NoOfHrsOnline        313687 non-null  int64 \n",
      " 25  yearsOld             313687 non-null  int64 \n",
      " 26  monthsOld            313687 non-null  int64 \n",
      "dtypes: int64(11), object(16)\n",
      "memory usage: 64.6+ MB\n"
     ]
    }
   ],
   "source": [
    "data.info()"
   ]
  },
  {
   "cell_type": "code",
   "execution_count": 4,
   "metadata": {},
   "outputs": [
    {
     "data": {
      "text/plain": [
       "dateCrawled              0\n",
       "name                     0\n",
       "seller                   0\n",
       "offerType                0\n",
       "price                    0\n",
       "abtest                   0\n",
       "vehicleType              0\n",
       "yearOfRegistration       0\n",
       "gearbox                  0\n",
       "powerPS                  0\n",
       "model                    0\n",
       "kilometer                0\n",
       "monthOfRegistration      0\n",
       "fuelType               189\n",
       "brand                    0\n",
       "notRepairedDamage        0\n",
       "dateCreated              0\n",
       "postalCode               0\n",
       "lastSeen                 0\n",
       "yearOfCreation           0\n",
       "yearCrawled              0\n",
       "monthOfCreation          0\n",
       "monthCrawled             0\n",
       "NoOfDaysOnline           0\n",
       "NoOfHrsOnline            0\n",
       "yearsOld                 0\n",
       "monthsOld                0\n",
       "dtype: int64"
      ]
     },
     "execution_count": 4,
     "metadata": {},
     "output_type": "execute_result"
    }
   ],
   "source": [
    "data.isnull().sum()"
   ]
  },
  {
   "cell_type": "code",
   "execution_count": 5,
   "metadata": {},
   "outputs": [],
   "source": [
    "# Como a quantidade de dados nulos é menor que 5% dos dados eles serão apagados\n",
    "data.dropna(inplace=True)"
   ]
  },
  {
   "cell_type": "code",
   "execution_count": 6,
   "metadata": {},
   "outputs": [
    {
     "data": {
      "text/plain": [
       "dateCrawled            0\n",
       "name                   0\n",
       "seller                 0\n",
       "offerType              0\n",
       "price                  0\n",
       "abtest                 0\n",
       "vehicleType            0\n",
       "yearOfRegistration     0\n",
       "gearbox                0\n",
       "powerPS                0\n",
       "model                  0\n",
       "kilometer              0\n",
       "monthOfRegistration    0\n",
       "fuelType               0\n",
       "brand                  0\n",
       "notRepairedDamage      0\n",
       "dateCreated            0\n",
       "postalCode             0\n",
       "lastSeen               0\n",
       "yearOfCreation         0\n",
       "yearCrawled            0\n",
       "monthOfCreation        0\n",
       "monthCrawled           0\n",
       "NoOfDaysOnline         0\n",
       "NoOfHrsOnline          0\n",
       "yearsOld               0\n",
       "monthsOld              0\n",
       "dtype: int64"
      ]
     },
     "execution_count": 6,
     "metadata": {},
     "output_type": "execute_result"
    }
   ],
   "source": [
    "data.isnull().sum()"
   ]
  },
  {
   "cell_type": "code",
   "execution_count": 7,
   "metadata": {},
   "outputs": [
    {
     "data": {
      "text/html": [
       "<div>\n",
       "<style scoped>\n",
       "    .dataframe tbody tr th:only-of-type {\n",
       "        vertical-align: middle;\n",
       "    }\n",
       "\n",
       "    .dataframe tbody tr th {\n",
       "        vertical-align: top;\n",
       "    }\n",
       "\n",
       "    .dataframe thead th {\n",
       "        text-align: right;\n",
       "    }\n",
       "</style>\n",
       "<table border=\"1\" class=\"dataframe\">\n",
       "  <thead>\n",
       "    <tr style=\"text-align: right;\">\n",
       "      <th></th>\n",
       "      <th>dateCrawled</th>\n",
       "      <th>name</th>\n",
       "      <th>seller</th>\n",
       "      <th>offerType</th>\n",
       "      <th>price</th>\n",
       "      <th>abtest</th>\n",
       "      <th>vehicleType</th>\n",
       "      <th>yearOfRegistration</th>\n",
       "      <th>gearbox</th>\n",
       "      <th>powerPS</th>\n",
       "      <th>...</th>\n",
       "      <th>postalCode</th>\n",
       "      <th>lastSeen</th>\n",
       "      <th>yearOfCreation</th>\n",
       "      <th>yearCrawled</th>\n",
       "      <th>monthOfCreation</th>\n",
       "      <th>monthCrawled</th>\n",
       "      <th>NoOfDaysOnline</th>\n",
       "      <th>NoOfHrsOnline</th>\n",
       "      <th>yearsOld</th>\n",
       "      <th>monthsOld</th>\n",
       "    </tr>\n",
       "  </thead>\n",
       "  <tbody>\n",
       "    <tr>\n",
       "      <th>0</th>\n",
       "      <td>2016-03-24 11:52:17</td>\n",
       "      <td>Golf_3_1.6</td>\n",
       "      <td>privat</td>\n",
       "      <td>Offer</td>\n",
       "      <td>480</td>\n",
       "      <td>test</td>\n",
       "      <td>Other</td>\n",
       "      <td>1993</td>\n",
       "      <td>manuell</td>\n",
       "      <td>0</td>\n",
       "      <td>...</td>\n",
       "      <td>70435</td>\n",
       "      <td>2016-04-07 03:16:57</td>\n",
       "      <td>2016</td>\n",
       "      <td>2016</td>\n",
       "      <td>March</td>\n",
       "      <td>March</td>\n",
       "      <td>14</td>\n",
       "      <td>3</td>\n",
       "      <td>23</td>\n",
       "      <td>11</td>\n",
       "    </tr>\n",
       "    <tr>\n",
       "      <th>1</th>\n",
       "      <td>2016-03-24 10:58:45</td>\n",
       "      <td>A5_Sportback_2.7_Tdi</td>\n",
       "      <td>privat</td>\n",
       "      <td>Offer</td>\n",
       "      <td>18300</td>\n",
       "      <td>test</td>\n",
       "      <td>coupe</td>\n",
       "      <td>2011</td>\n",
       "      <td>manuell</td>\n",
       "      <td>190</td>\n",
       "      <td>...</td>\n",
       "      <td>66954</td>\n",
       "      <td>2016-04-07 01:46:50</td>\n",
       "      <td>2016</td>\n",
       "      <td>2016</td>\n",
       "      <td>March</td>\n",
       "      <td>March</td>\n",
       "      <td>14</td>\n",
       "      <td>1</td>\n",
       "      <td>5</td>\n",
       "      <td>7</td>\n",
       "    </tr>\n",
       "    <tr>\n",
       "      <th>2</th>\n",
       "      <td>2016-03-14 12:52:21</td>\n",
       "      <td>Jeep_Grand_Cherokee_\"Overland\"</td>\n",
       "      <td>privat</td>\n",
       "      <td>Offer</td>\n",
       "      <td>9800</td>\n",
       "      <td>test</td>\n",
       "      <td>suv</td>\n",
       "      <td>2004</td>\n",
       "      <td>automatik</td>\n",
       "      <td>163</td>\n",
       "      <td>...</td>\n",
       "      <td>90480</td>\n",
       "      <td>2016-04-05 12:47:46</td>\n",
       "      <td>2016</td>\n",
       "      <td>2016</td>\n",
       "      <td>March</td>\n",
       "      <td>March</td>\n",
       "      <td>22</td>\n",
       "      <td>12</td>\n",
       "      <td>12</td>\n",
       "      <td>4</td>\n",
       "    </tr>\n",
       "    <tr>\n",
       "      <th>3</th>\n",
       "      <td>2016-03-17 16:54:04</td>\n",
       "      <td>GOLF_4_1_4__3TÜRER</td>\n",
       "      <td>privat</td>\n",
       "      <td>Offer</td>\n",
       "      <td>1500</td>\n",
       "      <td>test</td>\n",
       "      <td>kleinwagen</td>\n",
       "      <td>2001</td>\n",
       "      <td>manuell</td>\n",
       "      <td>75</td>\n",
       "      <td>...</td>\n",
       "      <td>91074</td>\n",
       "      <td>2016-03-17 17:40:17</td>\n",
       "      <td>2016</td>\n",
       "      <td>2016</td>\n",
       "      <td>March</td>\n",
       "      <td>March</td>\n",
       "      <td>0</td>\n",
       "      <td>17</td>\n",
       "      <td>15</td>\n",
       "      <td>5</td>\n",
       "    </tr>\n",
       "    <tr>\n",
       "      <th>4</th>\n",
       "      <td>2016-03-31 17:25:20</td>\n",
       "      <td>Skoda_Fabia_1.4_TDI_PD_Classic</td>\n",
       "      <td>privat</td>\n",
       "      <td>Offer</td>\n",
       "      <td>3600</td>\n",
       "      <td>test</td>\n",
       "      <td>kleinwagen</td>\n",
       "      <td>2008</td>\n",
       "      <td>manuell</td>\n",
       "      <td>69</td>\n",
       "      <td>...</td>\n",
       "      <td>60437</td>\n",
       "      <td>2016-04-06 10:17:21</td>\n",
       "      <td>2016</td>\n",
       "      <td>2016</td>\n",
       "      <td>March</td>\n",
       "      <td>March</td>\n",
       "      <td>6</td>\n",
       "      <td>10</td>\n",
       "      <td>8</td>\n",
       "      <td>5</td>\n",
       "    </tr>\n",
       "  </tbody>\n",
       "</table>\n",
       "<p>5 rows × 27 columns</p>\n",
       "</div>"
      ],
      "text/plain": [
       "           dateCrawled                            name  seller offerType  \\\n",
       "0  2016-03-24 11:52:17                      Golf_3_1.6  privat     Offer   \n",
       "1  2016-03-24 10:58:45            A5_Sportback_2.7_Tdi  privat     Offer   \n",
       "2  2016-03-14 12:52:21  Jeep_Grand_Cherokee_\"Overland\"  privat     Offer   \n",
       "3  2016-03-17 16:54:04              GOLF_4_1_4__3TÜRER  privat     Offer   \n",
       "4  2016-03-31 17:25:20  Skoda_Fabia_1.4_TDI_PD_Classic  privat     Offer   \n",
       "\n",
       "   price abtest vehicleType  yearOfRegistration    gearbox  powerPS  ...  \\\n",
       "0    480   test       Other                1993    manuell        0  ...   \n",
       "1  18300   test       coupe                2011    manuell      190  ...   \n",
       "2   9800   test         suv                2004  automatik      163  ...   \n",
       "3   1500   test  kleinwagen                2001    manuell       75  ...   \n",
       "4   3600   test  kleinwagen                2008    manuell       69  ...   \n",
       "\n",
       "  postalCode             lastSeen yearOfCreation yearCrawled monthOfCreation  \\\n",
       "0      70435  2016-04-07 03:16:57           2016        2016           March   \n",
       "1      66954  2016-04-07 01:46:50           2016        2016           March   \n",
       "2      90480  2016-04-05 12:47:46           2016        2016           March   \n",
       "3      91074  2016-03-17 17:40:17           2016        2016           March   \n",
       "4      60437  2016-04-06 10:17:21           2016        2016           March   \n",
       "\n",
       "  monthCrawled NoOfDaysOnline  NoOfHrsOnline yearsOld  monthsOld  \n",
       "0        March             14              3       23         11  \n",
       "1        March             14              1        5          7  \n",
       "2        March             22             12       12          4  \n",
       "3        March              0             17       15          5  \n",
       "4        March              6             10        8          5  \n",
       "\n",
       "[5 rows x 27 columns]"
      ]
     },
     "execution_count": 7,
     "metadata": {},
     "output_type": "execute_result"
    }
   ],
   "source": [
    "data.head()"
   ]
  },
  {
   "cell_type": "markdown",
   "metadata": {},
   "source": [
    "## Distribuição dos Veículos por Ano de Registro"
   ]
  },
  {
   "cell_type": "code",
   "execution_count": 8,
   "metadata": {},
   "outputs": [
    {
     "data": {
      "image/png": "[encoded data removed]",
      "text/plain": [
       "<Figure size 1152x576 with 1 Axes>"
      ]
     },
     "metadata": {
      "needs_background": "light"
     },
     "output_type": "display_data"
    }
   ],
   "source": [
    "fig, ax = plt.subplots(figsize=(16,8))\n",
    "sns.distplot(data['yearOfRegistration'],kde=True,ax=ax)\n",
    "ax.set_title('Distribuição de Veículos por Ano de Registro',fontsize=20)\n",
    "plt.ylabel('Densidade (KDE)', fontsize=16)\n",
    "plt.xlabel('Ano de Registo', fontsize=16)\n",
    "plt.show()"
   ]
  },
  {
   "cell_type": "markdown",
   "metadata": {},
   "source": [
    "## Faixa de Preço Pelo Tipo de Veículo"
   ]
  },
  {
   "cell_type": "code",
   "execution_count": 9,
   "metadata": {},
   "outputs": [
    {
     "data": {
      "image/png": "[encoded data removed]",
      "text/plain": [
       "<Figure size 1152x720 with 1 Axes>"
      ]
     },
     "metadata": {},
     "output_type": "display_data"
    }
   ],
   "source": [
    "sns.set_style('whitegrid')\n",
    "fig, ax = plt.subplots(figsize=(16,10))\n",
    "sns.boxplot(x='vehicleType', y='price', data=data)\n",
    "ax.text(5,27000,'Variação do Preço',fontsize=22,color='r')\n",
    "ax.xaxis.set_label_text('Tipo de Veículo', fontdict={'size':15})\n",
    "ax.yaxis.set_label_text('Variação do Preço', fontdict={'size':15})\n",
    "plt.show()"
   ]
  },
  {
   "cell_type": "markdown",
   "metadata": {},
   "source": [
    "## Contagem Total de Veículos à Vendas Pelo Tipo de Veículo"
   ]
  },
  {
   "cell_type": "code",
   "execution_count": 10,
   "metadata": {},
   "outputs": [
    {
     "data": {
      "image/png": "[encoded data removed]",
      "text/plain": [
       "<Figure size 648x432 with 1 Axes>"
      ]
     },
     "metadata": {},
     "output_type": "display_data"
    }
   ],
   "source": [
    "sns.set_style(\"white\")\n",
    "g = sns.factorplot(x=\"vehicleType\", data=data, kind=\"count\", palette=\"BuPu\", size=6, aspect=1.5)\n",
    "g.ax.xaxis.set_label_text(\"Tipo de Veículo\",fontdict= {'size':16})\n",
    "g.ax.yaxis.set_label_text(\"Total de Veículos Para Venda\", fontdict= {'size':16})\n",
    "g.ax.set_title(\"Total de Veículo por Tipo \",fontdict= {'size':18})\n",
    "# to get the counts on the top heads of the bar\n",
    "for p in g.ax.patches:\n",
    "    g.ax.annotate((p.get_height()), (p.get_x()+0.1, p.get_height()+500))"
   ]
  },
  {
   "cell_type": "markdown",
   "metadata": {},
   "source": [
    "## Vepículo por Marca"
   ]
  },
  {
   "cell_type": "code",
   "execution_count": 11,
   "metadata": {},
   "outputs": [
    {
     "data": {
      "image/png": "[encoded data removed]",
      "text/plain": [
       "<Figure size 1080x720 with 1 Axes>"
      ]
     },
     "metadata": {},
     "output_type": "display_data"
    }
   ],
   "source": [
    "sns.set_style('whitegrid')\n",
    "p = sns.factorplot(y='brand', data=data, kind='count', palette='Reds_r', size=10, aspect=1.5)\n",
    "p.ax.set_title('Veículo por Marca', fontdict={'size':18})\n",
    "p.ax.xaxis.set_label_text('Quantidade de Veículo', fontdict={'size':16})\n",
    "p.ax.yaxis.set_label_text('Marca', fontdict={'size':16})\n",
    "plt.show()"
   ]
  },
  {
   "cell_type": "markdown",
   "metadata": {},
   "source": [
    "## Preço Médio dos Veículos por Tipo e Câmbio"
   ]
  },
  {
   "cell_type": "code",
   "execution_count": 12,
   "metadata": {},
   "outputs": [
    {
     "data": {
      "image/png": "[encoded data removed]",
      "text/plain": [
       "<Figure size 1152x432 with 1 Axes>"
      ]
     },
     "metadata": {},
     "output_type": "display_data"
    }
   ],
   "source": [
    "fig, ax = plt.subplots(figsize=(16,6))\n",
    "sns.barplot(x='vehicleType', y='price', hue='gearbox', data=data)\n",
    "ax.set_title('Preço Médio por Tipo e Caixa de Câmbio', fontdict={'size':18})\n",
    "ax.xaxis.set_label_text('Tipo de Veículo', fontdict={'size':16})\n",
    "ax.yaxis.set_label_text('Preço Médio', fontdict={'size':16})\n",
    "plt.show()"
   ]
  },
  {
   "cell_type": "markdown",
   "metadata": {},
   "source": [
    "## Preço Médio por Tipo de Combustível e Câmbio"
   ]
  },
  {
   "cell_type": "code",
   "execution_count": 13,
   "metadata": {},
   "outputs": [
    {
     "data": {
      "image/png": "[encoded data removed]",
      "text/plain": [
       "<Figure size 1152x432 with 1 Axes>"
      ]
     },
     "metadata": {},
     "output_type": "display_data"
    }
   ],
   "source": [
    "fig, ax=plt.subplots(figsize=(16,6))\n",
    "sns.barplot(x='fuelType', y='price',hue='gearbox', data=data)\n",
    "ax.set_title('Preço Médio por Tipo do Veículo e Caixa de Câmbio', fontdict={'size':18})\n",
    "ax.xaxis.set_label_text('Tipo de Combustível', fontdict={'size':16})\n",
    "ax.yaxis.set_label_text('Preço Médio', fontdict={'size':16})\n",
    "plt.show()"
   ]
  },
  {
   "cell_type": "markdown",
   "metadata": {},
   "source": [
    "## Potência Média por Tipo e Caixa de Câmbio"
   ]
  },
  {
   "cell_type": "code",
   "execution_count": 14,
   "metadata": {},
   "outputs": [
    {
     "data": {
      "image/png": "[encoded data removed]",
      "text/plain": [
       "<Figure size 1152x432 with 1 Axes>"
      ]
     },
     "metadata": {},
     "output_type": "display_data"
    }
   ],
   "source": [
    "fig, ax=plt.subplots(figsize=(16,6))\n",
    "sns.barplot(x='vehicleType', y='powerPS', hue='gearbox', data=data)\n",
    "ax.set_title('Potência Média por Tipo do Veículo e Caixa de Câmbio',fontdict={'size':18})\n",
    "ax.xaxis.set_label_text('Tipo de Veículo',fontdict={'size':16})\n",
    "ax.yaxis.set_label_text('Potênia Média', fontdict={'size':16})\n",
    "plt.show()"
   ]
  },
  {
   "cell_type": "code",
   "execution_count": 15,
   "metadata": {},
   "outputs": [],
   "source": [
    "x = data.drop(columns=['price','dateCreated','lastSeen','dateCrawled','yearCrawled','monthCrawled','monthsOld'])"
   ]
  },
  {
   "cell_type": "code",
   "execution_count": 16,
   "metadata": {},
   "outputs": [
    {
     "data": {
      "text/html": [
       "<div>\n",
       "<style scoped>\n",
       "    .dataframe tbody tr th:only-of-type {\n",
       "        vertical-align: middle;\n",
       "    }\n",
       "\n",
       "    .dataframe tbody tr th {\n",
       "        vertical-align: top;\n",
       "    }\n",
       "\n",
       "    .dataframe thead th {\n",
       "        text-align: right;\n",
       "    }\n",
       "</style>\n",
       "<table border=\"1\" class=\"dataframe\">\n",
       "  <thead>\n",
       "    <tr style=\"text-align: right;\">\n",
       "      <th></th>\n",
       "      <th>name</th>\n",
       "      <th>seller</th>\n",
       "      <th>offerType</th>\n",
       "      <th>abtest</th>\n",
       "      <th>vehicleType</th>\n",
       "      <th>yearOfRegistration</th>\n",
       "      <th>gearbox</th>\n",
       "      <th>powerPS</th>\n",
       "      <th>model</th>\n",
       "      <th>kilometer</th>\n",
       "      <th>monthOfRegistration</th>\n",
       "      <th>fuelType</th>\n",
       "      <th>brand</th>\n",
       "      <th>notRepairedDamage</th>\n",
       "      <th>postalCode</th>\n",
       "      <th>yearOfCreation</th>\n",
       "      <th>monthOfCreation</th>\n",
       "      <th>NoOfDaysOnline</th>\n",
       "      <th>NoOfHrsOnline</th>\n",
       "      <th>yearsOld</th>\n",
       "    </tr>\n",
       "  </thead>\n",
       "  <tbody>\n",
       "    <tr>\n",
       "      <th>0</th>\n",
       "      <td>Golf_3_1.6</td>\n",
       "      <td>privat</td>\n",
       "      <td>Offer</td>\n",
       "      <td>test</td>\n",
       "      <td>Other</td>\n",
       "      <td>1993</td>\n",
       "      <td>manuell</td>\n",
       "      <td>0</td>\n",
       "      <td>golf</td>\n",
       "      <td>150000</td>\n",
       "      <td>Jan</td>\n",
       "      <td>Gasoline</td>\n",
       "      <td>volkswagen</td>\n",
       "      <td>Other</td>\n",
       "      <td>70435</td>\n",
       "      <td>2016</td>\n",
       "      <td>March</td>\n",
       "      <td>14</td>\n",
       "      <td>3</td>\n",
       "      <td>23</td>\n",
       "    </tr>\n",
       "    <tr>\n",
       "      <th>1</th>\n",
       "      <td>A5_Sportback_2.7_Tdi</td>\n",
       "      <td>privat</td>\n",
       "      <td>Offer</td>\n",
       "      <td>test</td>\n",
       "      <td>coupe</td>\n",
       "      <td>2011</td>\n",
       "      <td>manuell</td>\n",
       "      <td>190</td>\n",
       "      <td>Other</td>\n",
       "      <td>125000</td>\n",
       "      <td>May</td>\n",
       "      <td>Diesel</td>\n",
       "      <td>audi</td>\n",
       "      <td>Yes</td>\n",
       "      <td>66954</td>\n",
       "      <td>2016</td>\n",
       "      <td>March</td>\n",
       "      <td>14</td>\n",
       "      <td>1</td>\n",
       "      <td>5</td>\n",
       "    </tr>\n",
       "    <tr>\n",
       "      <th>2</th>\n",
       "      <td>Jeep_Grand_Cherokee_\"Overland\"</td>\n",
       "      <td>privat</td>\n",
       "      <td>Offer</td>\n",
       "      <td>test</td>\n",
       "      <td>suv</td>\n",
       "      <td>2004</td>\n",
       "      <td>automatik</td>\n",
       "      <td>163</td>\n",
       "      <td>grand</td>\n",
       "      <td>125000</td>\n",
       "      <td>Aug</td>\n",
       "      <td>Diesel</td>\n",
       "      <td>jeep</td>\n",
       "      <td>Other</td>\n",
       "      <td>90480</td>\n",
       "      <td>2016</td>\n",
       "      <td>March</td>\n",
       "      <td>22</td>\n",
       "      <td>12</td>\n",
       "      <td>12</td>\n",
       "    </tr>\n",
       "    <tr>\n",
       "      <th>3</th>\n",
       "      <td>GOLF_4_1_4__3TÜRER</td>\n",
       "      <td>privat</td>\n",
       "      <td>Offer</td>\n",
       "      <td>test</td>\n",
       "      <td>kleinwagen</td>\n",
       "      <td>2001</td>\n",
       "      <td>manuell</td>\n",
       "      <td>75</td>\n",
       "      <td>golf</td>\n",
       "      <td>150000</td>\n",
       "      <td>Jul</td>\n",
       "      <td>Gasoline</td>\n",
       "      <td>volkswagen</td>\n",
       "      <td>No</td>\n",
       "      <td>91074</td>\n",
       "      <td>2016</td>\n",
       "      <td>March</td>\n",
       "      <td>0</td>\n",
       "      <td>17</td>\n",
       "      <td>15</td>\n",
       "    </tr>\n",
       "    <tr>\n",
       "      <th>4</th>\n",
       "      <td>Skoda_Fabia_1.4_TDI_PD_Classic</td>\n",
       "      <td>privat</td>\n",
       "      <td>Offer</td>\n",
       "      <td>test</td>\n",
       "      <td>kleinwagen</td>\n",
       "      <td>2008</td>\n",
       "      <td>manuell</td>\n",
       "      <td>69</td>\n",
       "      <td>fabia</td>\n",
       "      <td>90000</td>\n",
       "      <td>Jul</td>\n",
       "      <td>Diesel</td>\n",
       "      <td>skoda</td>\n",
       "      <td>No</td>\n",
       "      <td>60437</td>\n",
       "      <td>2016</td>\n",
       "      <td>March</td>\n",
       "      <td>6</td>\n",
       "      <td>10</td>\n",
       "      <td>8</td>\n",
       "    </tr>\n",
       "  </tbody>\n",
       "</table>\n",
       "</div>"
      ],
      "text/plain": [
       "                             name  seller offerType abtest vehicleType  \\\n",
       "0                      Golf_3_1.6  privat     Offer   test       Other   \n",
       "1            A5_Sportback_2.7_Tdi  privat     Offer   test       coupe   \n",
       "2  Jeep_Grand_Cherokee_\"Overland\"  privat     Offer   test         suv   \n",
       "3              GOLF_4_1_4__3TÜRER  privat     Offer   test  kleinwagen   \n",
       "4  Skoda_Fabia_1.4_TDI_PD_Classic  privat     Offer   test  kleinwagen   \n",
       "\n",
       "   yearOfRegistration    gearbox  powerPS  model  kilometer  \\\n",
       "0                1993    manuell        0   golf     150000   \n",
       "1                2011    manuell      190  Other     125000   \n",
       "2                2004  automatik      163  grand     125000   \n",
       "3                2001    manuell       75   golf     150000   \n",
       "4                2008    manuell       69  fabia      90000   \n",
       "\n",
       "  monthOfRegistration  fuelType       brand notRepairedDamage  postalCode  \\\n",
       "0                 Jan  Gasoline  volkswagen             Other       70435   \n",
       "1                 May    Diesel        audi               Yes       66954   \n",
       "2                 Aug    Diesel        jeep             Other       90480   \n",
       "3                 Jul  Gasoline  volkswagen                No       91074   \n",
       "4                 Jul    Diesel       skoda                No       60437   \n",
       "\n",
       "   yearOfCreation monthOfCreation  NoOfDaysOnline  NoOfHrsOnline  yearsOld  \n",
       "0            2016           March              14              3        23  \n",
       "1            2016           March              14              1         5  \n",
       "2            2016           March              22             12        12  \n",
       "3            2016           March               0             17        15  \n",
       "4            2016           March               6             10         8  "
      ]
     },
     "execution_count": 16,
     "metadata": {},
     "output_type": "execute_result"
    }
   ],
   "source": [
    "x.head()"
   ]
  },
  {
   "cell_type": "code",
   "execution_count": 17,
   "metadata": {},
   "outputs": [],
   "source": [
    "encode = x.loc[:, x.dtypes == np.object]\n",
    "sobra = x.loc[:, x.dtypes == np.int64]"
   ]
  },
  {
   "cell_type": "code",
   "execution_count": 18,
   "metadata": {},
   "outputs": [],
   "source": [
    "x = x.apply(LabelEncoder().fit_transform)"
   ]
  },
  {
   "cell_type": "code",
   "execution_count": 19,
   "metadata": {},
   "outputs": [],
   "source": [
    "f = [x,sobra]"
   ]
  },
  {
   "cell_type": "code",
   "execution_count": 20,
   "metadata": {},
   "outputs": [],
   "source": [
    "x = concat(f,axis=1)"
   ]
  },
  {
   "cell_type": "code",
   "execution_count": 21,
   "metadata": {},
   "outputs": [],
   "source": [
    "x = MinMaxScaler().fit_transform(x)"
   ]
  },
  {
   "cell_type": "code",
   "execution_count": 22,
   "metadata": {},
   "outputs": [],
   "source": [
    "y = data['price']"
   ]
  },
  {
   "cell_type": "code",
   "execution_count": 23,
   "metadata": {},
   "outputs": [],
   "source": [
    "x_4 = SelectKBest(chi2, k=4).fit_transform(x,y)\n",
    "x_6 = SelectKBest(chi2, k=6).fit_transform(x,y)\n",
    "x_8 = SelectKBest(chi2, k=8).fit_transform(x,y)\n",
    "x_10 = SelectKBest(chi2, k=10).fit_transform(x,y)\n",
    "x_12 = SelectKBest(chi2, k=12).fit_transform(x,y)"
   ]
  },
  {
   "cell_type": "markdown",
   "metadata": {},
   "source": [
    "## Regressão Multipla com StatsModel"
   ]
  },
  {
   "cell_type": "code",
   "execution_count": 24,
   "metadata": {},
   "outputs": [
    {
     "data": {
      "text/html": [
       "<table class=\"simpletable\">\n",
       "<caption>OLS Regression Results</caption>\n",
       "<tr>\n",
       "  <th>Dep. Variable:</th>          <td>price</td>      <th>  R-squared:         </th>  <td>   0.492</td>  \n",
       "</tr>\n",
       "<tr>\n",
       "  <th>Model:</th>                   <td>OLS</td>       <th>  Adj. R-squared:    </th>  <td>   0.492</td>  \n",
       "</tr>\n",
       "<tr>\n",
       "  <th>Method:</th>             <td>Least Squares</td>  <th>  F-statistic:       </th>  <td>1.265e+04</td> \n",
       "</tr>\n",
       "<tr>\n",
       "  <th>Date:</th>             <td>Mon, 15 Feb 2021</td> <th>  Prob (F-statistic):</th>   <td>  0.00</td>   \n",
       "</tr>\n",
       "<tr>\n",
       "  <th>Time:</th>                 <td>08:34:37</td>     <th>  Log-Likelihood:    </th> <td>-2.9518e+06</td>\n",
       "</tr>\n",
       "<tr>\n",
       "  <th>No. Observations:</th>      <td>313498</td>      <th>  AIC:               </th>  <td>5.904e+06</td> \n",
       "</tr>\n",
       "<tr>\n",
       "  <th>Df Residuals:</th>          <td>313473</td>      <th>  BIC:               </th>  <td>5.904e+06</td> \n",
       "</tr>\n",
       "<tr>\n",
       "  <th>Df Model:</th>              <td>    24</td>      <th>                     </th>      <td> </td>     \n",
       "</tr>\n",
       "<tr>\n",
       "  <th>Covariance Type:</th>      <td>nonrobust</td>    <th>                     </th>      <td> </td>     \n",
       "</tr>\n",
       "</table>\n",
       "<table class=\"simpletable\">\n",
       "<tr>\n",
       "    <td></td>       <th>coef</th>     <th>std err</th>      <th>t</th>      <th>P>|t|</th>  <th>[0.025</th>    <th>0.975]</th>  \n",
       "</tr>\n",
       "<tr>\n",
       "  <th>const</th> <td> 2970.3141</td> <td>  972.886</td> <td>    3.053</td> <td> 0.002</td> <td> 1063.485</td> <td> 4877.143</td>\n",
       "</tr>\n",
       "<tr>\n",
       "  <th>x1</th>    <td> -608.9788</td> <td>   31.202</td> <td>  -19.517</td> <td> 0.000</td> <td> -670.134</td> <td> -547.823</td>\n",
       "</tr>\n",
       "<tr>\n",
       "  <th>x2</th>    <td>-1298.0870</td> <td> 1715.403</td> <td>   -0.757</td> <td> 0.449</td> <td>-4660.229</td> <td> 2064.055</td>\n",
       "</tr>\n",
       "<tr>\n",
       "  <th>x3</th>    <td> -497.7801</td> <td>  939.616</td> <td>   -0.530</td> <td> 0.596</td> <td>-2339.401</td> <td> 1343.841</td>\n",
       "</tr>\n",
       "<tr>\n",
       "  <th>x4</th>    <td>  -14.2964</td> <td>   10.633</td> <td>   -1.345</td> <td> 0.179</td> <td>  -35.137</td> <td>    6.544</td>\n",
       "</tr>\n",
       "<tr>\n",
       "  <th>x5</th>    <td>  387.5455</td> <td>   21.643</td> <td>   17.906</td> <td> 0.000</td> <td>  345.125</td> <td>  429.966</td>\n",
       "</tr>\n",
       "<tr>\n",
       "  <th>x6</th>    <td> 4.071e+04</td> <td> 1085.336</td> <td>   37.509</td> <td> 0.000</td> <td> 3.86e+04</td> <td> 4.28e+04</td>\n",
       "</tr>\n",
       "<tr>\n",
       "  <th>x7</th>    <td>-1513.8254</td> <td>   19.343</td> <td>  -78.262</td> <td> 0.000</td> <td>-1551.737</td> <td>-1475.913</td>\n",
       "</tr>\n",
       "<tr>\n",
       "  <th>x8</th>    <td> 1.972e+04</td> <td>   70.487</td> <td>  279.755</td> <td> 0.000</td> <td> 1.96e+04</td> <td> 1.99e+04</td>\n",
       "</tr>\n",
       "<tr>\n",
       "  <th>x9</th>    <td>  560.6304</td> <td>   21.222</td> <td>   26.417</td> <td> 0.000</td> <td>  519.036</td> <td>  602.225</td>\n",
       "</tr>\n",
       "<tr>\n",
       "  <th>x10</th>   <td> 9162.2189</td> <td>  125.320</td> <td>   73.111</td> <td> 0.000</td> <td> 8916.596</td> <td> 9407.842</td>\n",
       "</tr>\n",
       "<tr>\n",
       "  <th>x11</th>   <td>  -42.4696</td> <td>   17.906</td> <td>   -2.372</td> <td> 0.018</td> <td>  -77.564</td> <td>   -7.375</td>\n",
       "</tr>\n",
       "<tr>\n",
       "  <th>x12</th>   <td>-2968.4904</td> <td>   25.479</td> <td> -116.508</td> <td> 0.000</td> <td>-3018.428</td> <td>-2918.553</td>\n",
       "</tr>\n",
       "<tr>\n",
       "  <th>x13</th>   <td>  396.5616</td> <td>   27.147</td> <td>   14.608</td> <td> 0.000</td> <td>  343.354</td> <td>  449.770</td>\n",
       "</tr>\n",
       "<tr>\n",
       "  <th>x14</th>   <td>-1577.1864</td> <td>   16.241</td> <td>  -97.112</td> <td> 0.000</td> <td>-1609.018</td> <td>-1545.355</td>\n",
       "</tr>\n",
       "<tr>\n",
       "  <th>x15</th>   <td>-1430.1599</td> <td>  215.458</td> <td>   -6.638</td> <td> 0.000</td> <td>-1852.451</td> <td>-1007.868</td>\n",
       "</tr>\n",
       "<tr>\n",
       "  <th>x16</th>   <td> 1104.8996</td> <td>  452.379</td> <td>    2.442</td> <td> 0.015</td> <td>  218.249</td> <td> 1991.550</td>\n",
       "</tr>\n",
       "<tr>\n",
       "  <th>x17</th>   <td> -694.9184</td> <td>   22.930</td> <td>  -30.306</td> <td> 0.000</td> <td> -739.860</td> <td> -649.977</td>\n",
       "</tr>\n",
       "<tr>\n",
       "  <th>x18</th>   <td> 4466.7705</td> <td>  962.307</td> <td>    4.642</td> <td> 0.000</td> <td> 2580.677</td> <td> 6352.864</td>\n",
       "</tr>\n",
       "<tr>\n",
       "  <th>x19</th>   <td>  -31.9637</td> <td>    9.504</td> <td>   -3.363</td> <td> 0.001</td> <td>  -50.591</td> <td>  -13.336</td>\n",
       "</tr>\n",
       "<tr>\n",
       "  <th>x20</th>   <td>-3.774e+04</td> <td> 1021.582</td> <td>  -36.942</td> <td> 0.000</td> <td>-3.97e+04</td> <td>-3.57e+04</td>\n",
       "</tr>\n",
       "<tr>\n",
       "  <th>x21</th>   <td>-3.654e+04</td> <td> 1148.969</td> <td>  -31.803</td> <td> 0.000</td> <td>-3.88e+04</td> <td>-3.43e+04</td>\n",
       "</tr>\n",
       "<tr>\n",
       "  <th>x22</th>   <td>-3.054e+04</td> <td>  628.444</td> <td>  -48.601</td> <td> 0.000</td> <td>-3.18e+04</td> <td>-2.93e+04</td>\n",
       "</tr>\n",
       "<tr>\n",
       "  <th>x23</th>   <td>-1.251e+04</td> <td>  108.203</td> <td> -115.597</td> <td> 0.000</td> <td>-1.27e+04</td> <td>-1.23e+04</td>\n",
       "</tr>\n",
       "<tr>\n",
       "  <th>x24</th>   <td> 1746.1949</td> <td>  205.592</td> <td>    8.493</td> <td> 0.000</td> <td> 1343.240</td> <td> 2149.150</td>\n",
       "</tr>\n",
       "<tr>\n",
       "  <th>x25</th>   <td> 1104.8996</td> <td>  452.379</td> <td>    2.442</td> <td> 0.015</td> <td>  218.249</td> <td> 1991.550</td>\n",
       "</tr>\n",
       "<tr>\n",
       "  <th>x26</th>   <td>  768.6050</td> <td> 3646.947</td> <td>    0.211</td> <td> 0.833</td> <td>-6379.308</td> <td> 7916.518</td>\n",
       "</tr>\n",
       "<tr>\n",
       "  <th>x27</th>   <td>  -31.9637</td> <td>    9.504</td> <td>   -3.363</td> <td> 0.001</td> <td>  -50.591</td> <td>  -13.336</td>\n",
       "</tr>\n",
       "<tr>\n",
       "  <th>x28</th>   <td> 3.951e+04</td> <td> 1214.972</td> <td>   32.520</td> <td> 0.000</td> <td> 3.71e+04</td> <td> 4.19e+04</td>\n",
       "</tr>\n",
       "</table>\n",
       "<table class=\"simpletable\">\n",
       "<tr>\n",
       "  <th>Omnibus:</th>       <td>106320.659</td> <th>  Durbin-Watson:     </th>  <td>   2.005</td> \n",
       "</tr>\n",
       "<tr>\n",
       "  <th>Prob(Omnibus):</th>   <td> 0.000</td>   <th>  Jarque-Bera (JB):  </th> <td>603780.909</td>\n",
       "</tr>\n",
       "<tr>\n",
       "  <th>Skew:</th>            <td> 1.526</td>   <th>  Prob(JB):          </th>  <td>    0.00</td> \n",
       "</tr>\n",
       "<tr>\n",
       "  <th>Kurtosis:</th>        <td> 9.075</td>   <th>  Cond. No.          </th>  <td>1.05e+16</td> \n",
       "</tr>\n",
       "</table><br/><br/>Notes:<br/>[1] Standard Errors assume that the covariance matrix of the errors is correctly specified.<br/>[2] The smallest eigenvalue is 3.13e-26. This might indicate that there are<br/>strong multicollinearity problems or that the design matrix is singular."
      ],
      "text/plain": [
       "<class 'statsmodels.iolib.summary.Summary'>\n",
       "\"\"\"\n",
       "                            OLS Regression Results                            \n",
       "==============================================================================\n",
       "Dep. Variable:                  price   R-squared:                       0.492\n",
       "Model:                            OLS   Adj. R-squared:                  0.492\n",
       "Method:                 Least Squares   F-statistic:                 1.265e+04\n",
       "Date:                Mon, 15 Feb 2021   Prob (F-statistic):               0.00\n",
       "Time:                        08:34:37   Log-Likelihood:            -2.9518e+06\n",
       "No. Observations:              313498   AIC:                         5.904e+06\n",
       "Df Residuals:                  313473   BIC:                         5.904e+06\n",
       "Df Model:                          24                                         \n",
       "Covariance Type:            nonrobust                                         \n",
       "==============================================================================\n",
       "                 coef    std err          t      P>|t|      [0.025      0.975]\n",
       "------------------------------------------------------------------------------\n",
       "const       2970.3141    972.886      3.053      0.002    1063.485    4877.143\n",
       "x1          -608.9788     31.202    -19.517      0.000    -670.134    -547.823\n",
       "x2         -1298.0870   1715.403     -0.757      0.449   -4660.229    2064.055\n",
       "x3          -497.7801    939.616     -0.530      0.596   -2339.401    1343.841\n",
       "x4           -14.2964     10.633     -1.345      0.179     -35.137       6.544\n",
       "x5           387.5455     21.643     17.906      0.000     345.125     429.966\n",
       "x6          4.071e+04   1085.336     37.509      0.000    3.86e+04    4.28e+04\n",
       "x7         -1513.8254     19.343    -78.262      0.000   -1551.737   -1475.913\n",
       "x8          1.972e+04     70.487    279.755      0.000    1.96e+04    1.99e+04\n",
       "x9           560.6304     21.222     26.417      0.000     519.036     602.225\n",
       "x10         9162.2189    125.320     73.111      0.000    8916.596    9407.842\n",
       "x11          -42.4696     17.906     -2.372      0.018     -77.564      -7.375\n",
       "x12        -2968.4904     25.479   -116.508      0.000   -3018.428   -2918.553\n",
       "x13          396.5616     27.147     14.608      0.000     343.354     449.770\n",
       "x14        -1577.1864     16.241    -97.112      0.000   -1609.018   -1545.355\n",
       "x15        -1430.1599    215.458     -6.638      0.000   -1852.451   -1007.868\n",
       "x16         1104.8996    452.379      2.442      0.015     218.249    1991.550\n",
       "x17         -694.9184     22.930    -30.306      0.000    -739.860    -649.977\n",
       "x18         4466.7705    962.307      4.642      0.000    2580.677    6352.864\n",
       "x19          -31.9637      9.504     -3.363      0.001     -50.591     -13.336\n",
       "x20        -3.774e+04   1021.582    -36.942      0.000   -3.97e+04   -3.57e+04\n",
       "x21        -3.654e+04   1148.969    -31.803      0.000   -3.88e+04   -3.43e+04\n",
       "x22        -3.054e+04    628.444    -48.601      0.000   -3.18e+04   -2.93e+04\n",
       "x23        -1.251e+04    108.203   -115.597      0.000   -1.27e+04   -1.23e+04\n",
       "x24         1746.1949    205.592      8.493      0.000    1343.240    2149.150\n",
       "x25         1104.8996    452.379      2.442      0.015     218.249    1991.550\n",
       "x26          768.6050   3646.947      0.211      0.833   -6379.308    7916.518\n",
       "x27          -31.9637      9.504     -3.363      0.001     -50.591     -13.336\n",
       "x28         3.951e+04   1214.972     32.520      0.000    3.71e+04    4.19e+04\n",
       "==============================================================================\n",
       "Omnibus:                   106320.659   Durbin-Watson:                   2.005\n",
       "Prob(Omnibus):                  0.000   Jarque-Bera (JB):           603780.909\n",
       "Skew:                           1.526   Prob(JB):                         0.00\n",
       "Kurtosis:                       9.075   Cond. No.                     1.05e+16\n",
       "==============================================================================\n",
       "\n",
       "Notes:\n",
       "[1] Standard Errors assume that the covariance matrix of the errors is correctly specified.\n",
       "[2] The smallest eigenvalue is 3.13e-26. This might indicate that there are\n",
       "strong multicollinearity problems or that the design matrix is singular.\n",
       "\"\"\""
      ]
     },
     "execution_count": 24,
     "metadata": {},
     "output_type": "execute_result"
    }
   ],
   "source": [
    "vl = sm.add_constant(x)\n",
    "m1 = sm.OLS(y,vl)\n",
    "m1 = m1.fit()\n",
    "m1.summary()"
   ]
  },
  {
   "cell_type": "code",
   "execution_count": 25,
   "metadata": {},
   "outputs": [
    {
     "data": {
      "text/html": [
       "<table class=\"simpletable\">\n",
       "<caption>OLS Regression Results</caption>\n",
       "<tr>\n",
       "  <th>Dep. Variable:</th>          <td>price</td>      <th>  R-squared:         </th>  <td>   0.408</td>  \n",
       "</tr>\n",
       "<tr>\n",
       "  <th>Model:</th>                   <td>OLS</td>       <th>  Adj. R-squared:    </th>  <td>   0.408</td>  \n",
       "</tr>\n",
       "<tr>\n",
       "  <th>Method:</th>             <td>Least Squares</td>  <th>  F-statistic:       </th>  <td>5.411e+04</td> \n",
       "</tr>\n",
       "<tr>\n",
       "  <th>Date:</th>             <td>Mon, 15 Feb 2021</td> <th>  Prob (F-statistic):</th>   <td>  0.00</td>   \n",
       "</tr>\n",
       "<tr>\n",
       "  <th>Time:</th>                 <td>08:34:37</td>     <th>  Log-Likelihood:    </th> <td>-2.9756e+06</td>\n",
       "</tr>\n",
       "<tr>\n",
       "  <th>No. Observations:</th>      <td>313498</td>      <th>  AIC:               </th>  <td>5.951e+06</td> \n",
       "</tr>\n",
       "<tr>\n",
       "  <th>Df Residuals:</th>          <td>313493</td>      <th>  BIC:               </th>  <td>5.951e+06</td> \n",
       "</tr>\n",
       "<tr>\n",
       "  <th>Df Model:</th>              <td>     4</td>      <th>                     </th>      <td> </td>     \n",
       "</tr>\n",
       "<tr>\n",
       "  <th>Covariance Type:</th>      <td>nonrobust</td>    <th>                     </th>      <td> </td>     \n",
       "</tr>\n",
       "</table>\n",
       "<table class=\"simpletable\">\n",
       "<tr>\n",
       "    <td></td>       <th>coef</th>     <th>std err</th>      <th>t</th>      <th>P>|t|</th>  <th>[0.025</th>    <th>0.975]</th>  \n",
       "</tr>\n",
       "<tr>\n",
       "  <th>const</th> <td> 7726.2046</td> <td>   27.849</td> <td>  277.428</td> <td> 0.000</td> <td> 7671.621</td> <td> 7780.789</td>\n",
       "</tr>\n",
       "<tr>\n",
       "  <th>x1</th>    <td> 2.006e+04</td> <td>   63.479</td> <td>  316.053</td> <td> 0.000</td> <td> 1.99e+04</td> <td> 2.02e+04</td>\n",
       "</tr>\n",
       "<tr>\n",
       "  <th>x2</th>    <td>-3756.1909</td> <td>   26.316</td> <td> -142.735</td> <td> 0.000</td> <td>-3807.769</td> <td>-3704.612</td>\n",
       "</tr>\n",
       "<tr>\n",
       "  <th>x3</th>    <td>-1893.5589</td> <td>   17.281</td> <td> -109.574</td> <td> 0.000</td> <td>-1927.429</td> <td>-1859.688</td>\n",
       "</tr>\n",
       "<tr>\n",
       "  <th>x4</th>    <td>-5567.2722</td> <td>   24.040</td> <td> -231.588</td> <td> 0.000</td> <td>-5614.389</td> <td>-5520.155</td>\n",
       "</tr>\n",
       "</table>\n",
       "<table class=\"simpletable\">\n",
       "<tr>\n",
       "  <th>Omnibus:</th>       <td>84882.320</td> <th>  Durbin-Watson:     </th>  <td>   2.005</td> \n",
       "</tr>\n",
       "<tr>\n",
       "  <th>Prob(Omnibus):</th>  <td> 0.000</td>   <th>  Jarque-Bera (JB):  </th> <td>390876.917</td>\n",
       "</tr>\n",
       "<tr>\n",
       "  <th>Skew:</th>           <td> 1.253</td>   <th>  Prob(JB):          </th>  <td>    0.00</td> \n",
       "</tr>\n",
       "<tr>\n",
       "  <th>Kurtosis:</th>       <td> 7.863</td>   <th>  Cond. No.          </th>  <td>    16.3</td> \n",
       "</tr>\n",
       "</table><br/><br/>Notes:<br/>[1] Standard Errors assume that the covariance matrix of the errors is correctly specified."
      ],
      "text/plain": [
       "<class 'statsmodels.iolib.summary.Summary'>\n",
       "\"\"\"\n",
       "                            OLS Regression Results                            \n",
       "==============================================================================\n",
       "Dep. Variable:                  price   R-squared:                       0.408\n",
       "Model:                            OLS   Adj. R-squared:                  0.408\n",
       "Method:                 Least Squares   F-statistic:                 5.411e+04\n",
       "Date:                Mon, 15 Feb 2021   Prob (F-statistic):               0.00\n",
       "Time:                        08:34:37   Log-Likelihood:            -2.9756e+06\n",
       "No. Observations:              313498   AIC:                         5.951e+06\n",
       "Df Residuals:                  313493   BIC:                         5.951e+06\n",
       "Df Model:                           4                                         \n",
       "Covariance Type:            nonrobust                                         \n",
       "==============================================================================\n",
       "                 coef    std err          t      P>|t|      [0.025      0.975]\n",
       "------------------------------------------------------------------------------\n",
       "const       7726.2046     27.849    277.428      0.000    7671.621    7780.789\n",
       "x1          2.006e+04     63.479    316.053      0.000    1.99e+04    2.02e+04\n",
       "x2         -3756.1909     26.316   -142.735      0.000   -3807.769   -3704.612\n",
       "x3         -1893.5589     17.281   -109.574      0.000   -1927.429   -1859.688\n",
       "x4         -5567.2722     24.040   -231.588      0.000   -5614.389   -5520.155\n",
       "==============================================================================\n",
       "Omnibus:                    84882.320   Durbin-Watson:                   2.005\n",
       "Prob(Omnibus):                  0.000   Jarque-Bera (JB):           390876.917\n",
       "Skew:                           1.253   Prob(JB):                         0.00\n",
       "Kurtosis:                       7.863   Cond. No.                         16.3\n",
       "==============================================================================\n",
       "\n",
       "Notes:\n",
       "[1] Standard Errors assume that the covariance matrix of the errors is correctly specified.\n",
       "\"\"\""
      ]
     },
     "execution_count": 25,
     "metadata": {},
     "output_type": "execute_result"
    }
   ],
   "source": [
    "vl = sm.add_constant(x_4)\n",
    "m2 = sm.OLS(y,vl)\n",
    "m2 = m2.fit()\n",
    "m2.summary()"
   ]
  },
  {
   "cell_type": "code",
   "execution_count": 26,
   "metadata": {},
   "outputs": [
    {
     "data": {
      "text/html": [
       "<table class=\"simpletable\">\n",
       "<caption>OLS Regression Results</caption>\n",
       "<tr>\n",
       "  <th>Dep. Variable:</th>          <td>price</td>      <th>  R-squared:         </th>  <td>   0.458</td>  \n",
       "</tr>\n",
       "<tr>\n",
       "  <th>Model:</th>                   <td>OLS</td>       <th>  Adj. R-squared:    </th>  <td>   0.458</td>  \n",
       "</tr>\n",
       "<tr>\n",
       "  <th>Method:</th>             <td>Least Squares</td>  <th>  F-statistic:       </th>  <td>4.411e+04</td> \n",
       "</tr>\n",
       "<tr>\n",
       "  <th>Date:</th>             <td>Mon, 15 Feb 2021</td> <th>  Prob (F-statistic):</th>   <td>  0.00</td>   \n",
       "</tr>\n",
       "<tr>\n",
       "  <th>Time:</th>                 <td>08:34:37</td>     <th>  Log-Likelihood:    </th> <td>-2.9620e+06</td>\n",
       "</tr>\n",
       "<tr>\n",
       "  <th>No. Observations:</th>      <td>313498</td>      <th>  AIC:               </th>  <td>5.924e+06</td> \n",
       "</tr>\n",
       "<tr>\n",
       "  <th>Df Residuals:</th>          <td>313491</td>      <th>  BIC:               </th>  <td>5.924e+06</td> \n",
       "</tr>\n",
       "<tr>\n",
       "  <th>Df Model:</th>              <td>     6</td>      <th>                     </th>      <td> </td>     \n",
       "</tr>\n",
       "<tr>\n",
       "  <th>Covariance Type:</th>      <td>nonrobust</td>    <th>                     </th>      <td> </td>     \n",
       "</tr>\n",
       "</table>\n",
       "<table class=\"simpletable\">\n",
       "<tr>\n",
       "    <td></td>       <th>coef</th>     <th>std err</th>      <th>t</th>      <th>P>|t|</th>  <th>[0.025</th>    <th>0.975]</th>  \n",
       "</tr>\n",
       "<tr>\n",
       "  <th>const</th> <td> 8863.5949</td> <td>   30.265</td> <td>  292.868</td> <td> 0.000</td> <td> 8804.277</td> <td> 8922.913</td>\n",
       "</tr>\n",
       "<tr>\n",
       "  <th>x1</th>    <td>  249.2378</td> <td>   22.058</td> <td>   11.299</td> <td> 0.000</td> <td>  206.004</td> <td>  292.472</td>\n",
       "</tr>\n",
       "<tr>\n",
       "  <th>x2</th>    <td> 1.878e+04</td> <td>   62.458</td> <td>  300.605</td> <td> 0.000</td> <td> 1.87e+04</td> <td> 1.89e+04</td>\n",
       "</tr>\n",
       "<tr>\n",
       "  <th>x3</th>    <td>-2880.5484</td> <td>   26.070</td> <td> -110.494</td> <td> 0.000</td> <td>-2931.644</td> <td>-2829.452</td>\n",
       "</tr>\n",
       "<tr>\n",
       "  <th>x4</th>    <td>-1690.7937</td> <td>   16.637</td> <td> -101.631</td> <td> 0.000</td> <td>-1723.401</td> <td>-1658.187</td>\n",
       "</tr>\n",
       "<tr>\n",
       "  <th>x5</th>    <td> -1.32e+04</td> <td>   78.531</td> <td> -168.049</td> <td> 0.000</td> <td>-1.34e+04</td> <td> -1.3e+04</td>\n",
       "</tr>\n",
       "<tr>\n",
       "  <th>x6</th>    <td>-4984.3033</td> <td>   23.277</td> <td> -214.128</td> <td> 0.000</td> <td>-5029.926</td> <td>-4938.681</td>\n",
       "</tr>\n",
       "</table>\n",
       "<table class=\"simpletable\">\n",
       "<tr>\n",
       "  <th>Omnibus:</th>       <td>105386.049</td> <th>  Durbin-Watson:     </th>  <td>   2.007</td> \n",
       "</tr>\n",
       "<tr>\n",
       "  <th>Prob(Omnibus):</th>   <td> 0.000</td>   <th>  Jarque-Bera (JB):  </th> <td>630449.888</td>\n",
       "</tr>\n",
       "<tr>\n",
       "  <th>Skew:</th>            <td> 1.493</td>   <th>  Prob(JB):          </th>  <td>    0.00</td> \n",
       "</tr>\n",
       "<tr>\n",
       "  <th>Kurtosis:</th>        <td> 9.272</td>   <th>  Cond. No.          </th>  <td>    23.2</td> \n",
       "</tr>\n",
       "</table><br/><br/>Notes:<br/>[1] Standard Errors assume that the covariance matrix of the errors is correctly specified."
      ],
      "text/plain": [
       "<class 'statsmodels.iolib.summary.Summary'>\n",
       "\"\"\"\n",
       "                            OLS Regression Results                            \n",
       "==============================================================================\n",
       "Dep. Variable:                  price   R-squared:                       0.458\n",
       "Model:                            OLS   Adj. R-squared:                  0.458\n",
       "Method:                 Least Squares   F-statistic:                 4.411e+04\n",
       "Date:                Mon, 15 Feb 2021   Prob (F-statistic):               0.00\n",
       "Time:                        08:34:37   Log-Likelihood:            -2.9620e+06\n",
       "No. Observations:              313498   AIC:                         5.924e+06\n",
       "Df Residuals:                  313491   BIC:                         5.924e+06\n",
       "Df Model:                           6                                         \n",
       "Covariance Type:            nonrobust                                         \n",
       "==============================================================================\n",
       "                 coef    std err          t      P>|t|      [0.025      0.975]\n",
       "------------------------------------------------------------------------------\n",
       "const       8863.5949     30.265    292.868      0.000    8804.277    8922.913\n",
       "x1           249.2378     22.058     11.299      0.000     206.004     292.472\n",
       "x2          1.878e+04     62.458    300.605      0.000    1.87e+04    1.89e+04\n",
       "x3         -2880.5484     26.070   -110.494      0.000   -2931.644   -2829.452\n",
       "x4         -1690.7937     16.637   -101.631      0.000   -1723.401   -1658.187\n",
       "x5          -1.32e+04     78.531   -168.049      0.000   -1.34e+04    -1.3e+04\n",
       "x6         -4984.3033     23.277   -214.128      0.000   -5029.926   -4938.681\n",
       "==============================================================================\n",
       "Omnibus:                   105386.049   Durbin-Watson:                   2.007\n",
       "Prob(Omnibus):                  0.000   Jarque-Bera (JB):           630449.888\n",
       "Skew:                           1.493   Prob(JB):                         0.00\n",
       "Kurtosis:                       9.272   Cond. No.                         23.2\n",
       "==============================================================================\n",
       "\n",
       "Notes:\n",
       "[1] Standard Errors assume that the covariance matrix of the errors is correctly specified.\n",
       "\"\"\""
      ]
     },
     "execution_count": 26,
     "metadata": {},
     "output_type": "execute_result"
    }
   ],
   "source": [
    "vl = sm.add_constant(x_6)\n",
    "modelo = sm.OLS(y,vl)\n",
    "modelo = modelo.fit()\n",
    "modelo.summary()"
   ]
  },
  {
   "cell_type": "code",
   "execution_count": 27,
   "metadata": {},
   "outputs": [
    {
     "data": {
      "text/html": [
       "<table class=\"simpletable\">\n",
       "<caption>OLS Regression Results</caption>\n",
       "<tr>\n",
       "  <th>Dep. Variable:</th>          <td>price</td>      <th>  R-squared:         </th>  <td>   0.460</td>  \n",
       "</tr>\n",
       "<tr>\n",
       "  <th>Model:</th>                   <td>OLS</td>       <th>  Adj. R-squared:    </th>  <td>   0.460</td>  \n",
       "</tr>\n",
       "<tr>\n",
       "  <th>Method:</th>             <td>Least Squares</td>  <th>  F-statistic:       </th>  <td>3.338e+04</td> \n",
       "</tr>\n",
       "<tr>\n",
       "  <th>Date:</th>             <td>Mon, 15 Feb 2021</td> <th>  Prob (F-statistic):</th>   <td>  0.00</td>   \n",
       "</tr>\n",
       "<tr>\n",
       "  <th>Time:</th>                 <td>08:34:37</td>     <th>  Log-Likelihood:    </th> <td>-2.9614e+06</td>\n",
       "</tr>\n",
       "<tr>\n",
       "  <th>No. Observations:</th>      <td>313498</td>      <th>  AIC:               </th>  <td>5.923e+06</td> \n",
       "</tr>\n",
       "<tr>\n",
       "  <th>Df Residuals:</th>          <td>313489</td>      <th>  BIC:               </th>  <td>5.923e+06</td> \n",
       "</tr>\n",
       "<tr>\n",
       "  <th>Df Model:</th>              <td>     8</td>      <th>                     </th>      <td> </td>     \n",
       "</tr>\n",
       "<tr>\n",
       "  <th>Covariance Type:</th>      <td>nonrobust</td>    <th>                     </th>      <td> </td>     \n",
       "</tr>\n",
       "</table>\n",
       "<table class=\"simpletable\">\n",
       "<tr>\n",
       "    <td></td>       <th>coef</th>     <th>std err</th>      <th>t</th>      <th>P>|t|</th>  <th>[0.025</th>    <th>0.975]</th>  \n",
       "</tr>\n",
       "<tr>\n",
       "  <th>const</th> <td> 8786.5537</td> <td>   32.880</td> <td>  267.230</td> <td> 0.000</td> <td> 8722.110</td> <td> 8850.998</td>\n",
       "</tr>\n",
       "<tr>\n",
       "  <th>x1</th>    <td>  305.1220</td> <td>   22.097</td> <td>   13.808</td> <td> 0.000</td> <td>  261.813</td> <td>  348.431</td>\n",
       "</tr>\n",
       "<tr>\n",
       "  <th>x2</th>    <td> 1.883e+04</td> <td>   64.209</td> <td>  293.280</td> <td> 0.000</td> <td> 1.87e+04</td> <td>  1.9e+04</td>\n",
       "</tr>\n",
       "<tr>\n",
       "  <th>x3</th>    <td>-2845.4249</td> <td>   26.054</td> <td> -109.214</td> <td> 0.000</td> <td>-2896.490</td> <td>-2794.360</td>\n",
       "</tr>\n",
       "<tr>\n",
       "  <th>x4</th>    <td>  112.6358</td> <td>   16.734</td> <td>    6.731</td> <td> 0.000</td> <td>   79.837</td> <td>  145.435</td>\n",
       "</tr>\n",
       "<tr>\n",
       "  <th>x5</th>    <td>-1682.0486</td> <td>   16.615</td> <td> -101.237</td> <td> 0.000</td> <td>-1714.613</td> <td>-1649.484</td>\n",
       "</tr>\n",
       "<tr>\n",
       "  <th>x6</th>    <td>-8.063e+04</td> <td> 1927.209</td> <td>  -41.838</td> <td> 0.000</td> <td>-8.44e+04</td> <td>-7.69e+04</td>\n",
       "</tr>\n",
       "<tr>\n",
       "  <th>x7</th>    <td>-4923.5260</td> <td>   23.293</td> <td> -211.373</td> <td> 0.000</td> <td>-4969.180</td> <td>-4877.872</td>\n",
       "</tr>\n",
       "<tr>\n",
       "  <th>x8</th>    <td> 7.778e+04</td> <td> 2221.401</td> <td>   35.014</td> <td> 0.000</td> <td> 7.34e+04</td> <td> 8.21e+04</td>\n",
       "</tr>\n",
       "</table>\n",
       "<table class=\"simpletable\">\n",
       "<tr>\n",
       "  <th>Omnibus:</th>       <td>106217.668</td> <th>  Durbin-Watson:     </th>  <td>   2.007</td> \n",
       "</tr>\n",
       "<tr>\n",
       "  <th>Prob(Omnibus):</th>   <td> 0.000</td>   <th>  Jarque-Bera (JB):  </th> <td>645169.686</td>\n",
       "</tr>\n",
       "<tr>\n",
       "  <th>Skew:</th>            <td> 1.502</td>   <th>  Prob(JB):          </th>  <td>    0.00</td> \n",
       "</tr>\n",
       "<tr>\n",
       "  <th>Kurtosis:</th>        <td> 9.354</td>   <th>  Cond. No.          </th>  <td>    900.</td> \n",
       "</tr>\n",
       "</table><br/><br/>Notes:<br/>[1] Standard Errors assume that the covariance matrix of the errors is correctly specified."
      ],
      "text/plain": [
       "<class 'statsmodels.iolib.summary.Summary'>\n",
       "\"\"\"\n",
       "                            OLS Regression Results                            \n",
       "==============================================================================\n",
       "Dep. Variable:                  price   R-squared:                       0.460\n",
       "Model:                            OLS   Adj. R-squared:                  0.460\n",
       "Method:                 Least Squares   F-statistic:                 3.338e+04\n",
       "Date:                Mon, 15 Feb 2021   Prob (F-statistic):               0.00\n",
       "Time:                        08:34:37   Log-Likelihood:            -2.9614e+06\n",
       "No. Observations:              313498   AIC:                         5.923e+06\n",
       "Df Residuals:                  313489   BIC:                         5.923e+06\n",
       "Df Model:                           8                                         \n",
       "Covariance Type:            nonrobust                                         \n",
       "==============================================================================\n",
       "                 coef    std err          t      P>|t|      [0.025      0.975]\n",
       "------------------------------------------------------------------------------\n",
       "const       8786.5537     32.880    267.230      0.000    8722.110    8850.998\n",
       "x1           305.1220     22.097     13.808      0.000     261.813     348.431\n",
       "x2          1.883e+04     64.209    293.280      0.000    1.87e+04     1.9e+04\n",
       "x3         -2845.4249     26.054   -109.214      0.000   -2896.490   -2794.360\n",
       "x4           112.6358     16.734      6.731      0.000      79.837     145.435\n",
       "x5         -1682.0486     16.615   -101.237      0.000   -1714.613   -1649.484\n",
       "x6         -8.063e+04   1927.209    -41.838      0.000   -8.44e+04   -7.69e+04\n",
       "x7         -4923.5260     23.293   -211.373      0.000   -4969.180   -4877.872\n",
       "x8          7.778e+04   2221.401     35.014      0.000    7.34e+04    8.21e+04\n",
       "==============================================================================\n",
       "Omnibus:                   106217.668   Durbin-Watson:                   2.007\n",
       "Prob(Omnibus):                  0.000   Jarque-Bera (JB):           645169.686\n",
       "Skew:                           1.502   Prob(JB):                         0.00\n",
       "Kurtosis:                       9.354   Cond. No.                         900.\n",
       "==============================================================================\n",
       "\n",
       "Notes:\n",
       "[1] Standard Errors assume that the covariance matrix of the errors is correctly specified.\n",
       "\"\"\""
      ]
     },
     "execution_count": 27,
     "metadata": {},
     "output_type": "execute_result"
    }
   ],
   "source": [
    "vl = sm.add_constant(x_8)\n",
    "modelo = sm.OLS(y,vl)\n",
    "modelo = modelo.fit()\n",
    "modelo.summary()"
   ]
  },
  {
   "cell_type": "code",
   "execution_count": 28,
   "metadata": {},
   "outputs": [
    {
     "data": {
      "text/html": [
       "<table class=\"simpletable\">\n",
       "<caption>OLS Regression Results</caption>\n",
       "<tr>\n",
       "  <th>Dep. Variable:</th>          <td>price</td>      <th>  R-squared:         </th>  <td>   0.468</td>  \n",
       "</tr>\n",
       "<tr>\n",
       "  <th>Model:</th>                   <td>OLS</td>       <th>  Adj. R-squared:    </th>  <td>   0.468</td>  \n",
       "</tr>\n",
       "<tr>\n",
       "  <th>Method:</th>             <td>Least Squares</td>  <th>  F-statistic:       </th>  <td>2.759e+04</td> \n",
       "</tr>\n",
       "<tr>\n",
       "  <th>Date:</th>             <td>Mon, 15 Feb 2021</td> <th>  Prob (F-statistic):</th>   <td>  0.00</td>   \n",
       "</tr>\n",
       "<tr>\n",
       "  <th>Time:</th>                 <td>08:34:37</td>     <th>  Log-Likelihood:    </th> <td>-2.9590e+06</td>\n",
       "</tr>\n",
       "<tr>\n",
       "  <th>No. Observations:</th>      <td>313498</td>      <th>  AIC:               </th>  <td>5.918e+06</td> \n",
       "</tr>\n",
       "<tr>\n",
       "  <th>Df Residuals:</th>          <td>313487</td>      <th>  BIC:               </th>  <td>5.918e+06</td> \n",
       "</tr>\n",
       "<tr>\n",
       "  <th>Df Model:</th>              <td>    10</td>      <th>                     </th>      <td> </td>     \n",
       "</tr>\n",
       "<tr>\n",
       "  <th>Covariance Type:</th>      <td>nonrobust</td>    <th>                     </th>      <td> </td>     \n",
       "</tr>\n",
       "</table>\n",
       "<table class=\"simpletable\">\n",
       "<tr>\n",
       "    <td></td>       <th>coef</th>     <th>std err</th>      <th>t</th>      <th>P>|t|</th>  <th>[0.025</th>    <th>0.975]</th>  \n",
       "</tr>\n",
       "<tr>\n",
       "  <th>const</th> <td> 7244.7381</td> <td>   39.892</td> <td>  181.609</td> <td> 0.000</td> <td> 7166.551</td> <td> 7322.925</td>\n",
       "</tr>\n",
       "<tr>\n",
       "  <th>x1</th>    <td>    1.4828</td> <td>   10.868</td> <td>    0.136</td> <td> 0.891</td> <td>  -19.817</td> <td>   22.783</td>\n",
       "</tr>\n",
       "<tr>\n",
       "  <th>x2</th>    <td>  216.4479</td> <td>   21.967</td> <td>    9.853</td> <td> 0.000</td> <td>  173.394</td> <td>  259.502</td>\n",
       "</tr>\n",
       "<tr>\n",
       "  <th>x3</th>    <td> 1.889e+04</td> <td>   63.728</td> <td>  296.366</td> <td> 0.000</td> <td> 1.88e+04</td> <td>  1.9e+04</td>\n",
       "</tr>\n",
       "<tr>\n",
       "  <th>x4</th>    <td> 8863.4329</td> <td>  127.789</td> <td>   69.360</td> <td> 0.000</td> <td> 8612.971</td> <td> 9113.895</td>\n",
       "</tr>\n",
       "<tr>\n",
       "  <th>x5</th>    <td>-2894.9925</td> <td>   25.866</td> <td> -111.922</td> <td> 0.000</td> <td>-2945.690</td> <td>-2844.295</td>\n",
       "</tr>\n",
       "<tr>\n",
       "  <th>x6</th>    <td>   94.7173</td> <td>   16.609</td> <td>    5.703</td> <td> 0.000</td> <td>   62.163</td> <td>  127.271</td>\n",
       "</tr>\n",
       "<tr>\n",
       "  <th>x7</th>    <td>-1582.5022</td> <td>   16.551</td> <td>  -95.612</td> <td> 0.000</td> <td>-1614.942</td> <td>-1550.062</td>\n",
       "</tr>\n",
       "<tr>\n",
       "  <th>x8</th>    <td>-8.192e+04</td> <td> 1912.686</td> <td>  -42.828</td> <td> 0.000</td> <td>-8.57e+04</td> <td>-7.82e+04</td>\n",
       "</tr>\n",
       "<tr>\n",
       "  <th>x9</th>    <td>-1.241e+04</td> <td>  110.399</td> <td> -112.420</td> <td> 0.000</td> <td>-1.26e+04</td> <td>-1.22e+04</td>\n",
       "</tr>\n",
       "<tr>\n",
       "  <th>x10</th>   <td> 8.004e+04</td> <td> 2204.799</td> <td>   36.303</td> <td> 0.000</td> <td> 7.57e+04</td> <td> 8.44e+04</td>\n",
       "</tr>\n",
       "</table>\n",
       "<table class=\"simpletable\">\n",
       "<tr>\n",
       "  <th>Omnibus:</th>       <td>109383.553</td> <th>  Durbin-Watson:     </th>  <td>   2.006</td> \n",
       "</tr>\n",
       "<tr>\n",
       "  <th>Prob(Omnibus):</th>   <td> 0.000</td>   <th>  Jarque-Bera (JB):  </th> <td>658727.751</td>\n",
       "</tr>\n",
       "<tr>\n",
       "  <th>Skew:</th>            <td> 1.556</td>   <th>  Prob(JB):          </th>  <td>    0.00</td> \n",
       "</tr>\n",
       "<tr>\n",
       "  <th>Kurtosis:</th>        <td> 9.383</td>   <th>  Cond. No.          </th>  <td>1.07e+03</td> \n",
       "</tr>\n",
       "</table><br/><br/>Notes:<br/>[1] Standard Errors assume that the covariance matrix of the errors is correctly specified.<br/>[2] The condition number is large, 1.07e+03. This might indicate that there are<br/>strong multicollinearity or other numerical problems."
      ],
      "text/plain": [
       "<class 'statsmodels.iolib.summary.Summary'>\n",
       "\"\"\"\n",
       "                            OLS Regression Results                            \n",
       "==============================================================================\n",
       "Dep. Variable:                  price   R-squared:                       0.468\n",
       "Model:                            OLS   Adj. R-squared:                  0.468\n",
       "Method:                 Least Squares   F-statistic:                 2.759e+04\n",
       "Date:                Mon, 15 Feb 2021   Prob (F-statistic):               0.00\n",
       "Time:                        08:34:37   Log-Likelihood:            -2.9590e+06\n",
       "No. Observations:              313498   AIC:                         5.918e+06\n",
       "Df Residuals:                  313487   BIC:                         5.918e+06\n",
       "Df Model:                          10                                         \n",
       "Covariance Type:            nonrobust                                         \n",
       "==============================================================================\n",
       "                 coef    std err          t      P>|t|      [0.025      0.975]\n",
       "------------------------------------------------------------------------------\n",
       "const       7244.7381     39.892    181.609      0.000    7166.551    7322.925\n",
       "x1             1.4828     10.868      0.136      0.891     -19.817      22.783\n",
       "x2           216.4479     21.967      9.853      0.000     173.394     259.502\n",
       "x3          1.889e+04     63.728    296.366      0.000    1.88e+04     1.9e+04\n",
       "x4          8863.4329    127.789     69.360      0.000    8612.971    9113.895\n",
       "x5         -2894.9925     25.866   -111.922      0.000   -2945.690   -2844.295\n",
       "x6            94.7173     16.609      5.703      0.000      62.163     127.271\n",
       "x7         -1582.5022     16.551    -95.612      0.000   -1614.942   -1550.062\n",
       "x8         -8.192e+04   1912.686    -42.828      0.000   -8.57e+04   -7.82e+04\n",
       "x9         -1.241e+04    110.399   -112.420      0.000   -1.26e+04   -1.22e+04\n",
       "x10         8.004e+04   2204.799     36.303      0.000    7.57e+04    8.44e+04\n",
       "==============================================================================\n",
       "Omnibus:                   109383.553   Durbin-Watson:                   2.006\n",
       "Prob(Omnibus):                  0.000   Jarque-Bera (JB):           658727.751\n",
       "Skew:                           1.556   Prob(JB):                         0.00\n",
       "Kurtosis:                       9.383   Cond. No.                     1.07e+03\n",
       "==============================================================================\n",
       "\n",
       "Notes:\n",
       "[1] Standard Errors assume that the covariance matrix of the errors is correctly specified.\n",
       "[2] The condition number is large, 1.07e+03. This might indicate that there are\n",
       "strong multicollinearity or other numerical problems.\n",
       "\"\"\""
      ]
     },
     "execution_count": 28,
     "metadata": {},
     "output_type": "execute_result"
    }
   ],
   "source": [
    "vl = sm.add_constant(x_10)\n",
    "modelo = sm.OLS(y,vl)\n",
    "modelo = modelo.fit()\n",
    "modelo.summary()"
   ]
  },
  {
   "cell_type": "code",
   "execution_count": 29,
   "metadata": {},
   "outputs": [
    {
     "data": {
      "text/html": [
       "<table class=\"simpletable\">\n",
       "<caption>OLS Regression Results</caption>\n",
       "<tr>\n",
       "  <th>Dep. Variable:</th>          <td>price</td>      <th>  R-squared:         </th>  <td>   0.479</td>  \n",
       "</tr>\n",
       "<tr>\n",
       "  <th>Model:</th>                   <td>OLS</td>       <th>  Adj. R-squared:    </th>  <td>   0.479</td>  \n",
       "</tr>\n",
       "<tr>\n",
       "  <th>Method:</th>             <td>Least Squares</td>  <th>  F-statistic:       </th>  <td>2.399e+04</td> \n",
       "</tr>\n",
       "<tr>\n",
       "  <th>Date:</th>             <td>Mon, 15 Feb 2021</td> <th>  Prob (F-statistic):</th>   <td>  0.00</td>   \n",
       "</tr>\n",
       "<tr>\n",
       "  <th>Time:</th>                 <td>08:34:37</td>     <th>  Log-Likelihood:    </th> <td>-2.9558e+06</td>\n",
       "</tr>\n",
       "<tr>\n",
       "  <th>No. Observations:</th>      <td>313498</td>      <th>  AIC:               </th>  <td>5.912e+06</td> \n",
       "</tr>\n",
       "<tr>\n",
       "  <th>Df Residuals:</th>          <td>313485</td>      <th>  BIC:               </th>  <td>5.912e+06</td> \n",
       "</tr>\n",
       "<tr>\n",
       "  <th>Df Model:</th>              <td>    12</td>      <th>                     </th>      <td> </td>     \n",
       "</tr>\n",
       "<tr>\n",
       "  <th>Covariance Type:</th>      <td>nonrobust</td>    <th>                     </th>      <td> </td>     \n",
       "</tr>\n",
       "</table>\n",
       "<table class=\"simpletable\">\n",
       "<tr>\n",
       "    <td></td>       <th>coef</th>     <th>std err</th>      <th>t</th>      <th>P>|t|</th>  <th>[0.025</th>    <th>0.975]</th>  \n",
       "</tr>\n",
       "<tr>\n",
       "  <th>const</th> <td> 8229.6570</td> <td>   42.415</td> <td>  194.028</td> <td> 0.000</td> <td> 8146.525</td> <td> 8312.789</td>\n",
       "</tr>\n",
       "<tr>\n",
       "  <th>x1</th>    <td>   -1.2004</td> <td>   10.758</td> <td>   -0.112</td> <td> 0.911</td> <td>  -22.287</td> <td>   19.886</td>\n",
       "</tr>\n",
       "<tr>\n",
       "  <th>x2</th>    <td>  400.4295</td> <td>   21.892</td> <td>   18.291</td> <td> 0.000</td> <td>  357.522</td> <td>  443.337</td>\n",
       "</tr>\n",
       "<tr>\n",
       "  <th>x3</th>    <td>-1511.3778</td> <td>   19.565</td> <td>  -77.249</td> <td> 0.000</td> <td>-1549.725</td> <td>-1473.031</td>\n",
       "</tr>\n",
       "<tr>\n",
       "  <th>x4</th>    <td> 1.855e+04</td> <td>   63.232</td> <td>  293.360</td> <td> 0.000</td> <td> 1.84e+04</td> <td> 1.87e+04</td>\n",
       "</tr>\n",
       "<tr>\n",
       "  <th>x5</th>    <td>  483.0837</td> <td>   21.295</td> <td>   22.685</td> <td> 0.000</td> <td>  441.346</td> <td>  524.822</td>\n",
       "</tr>\n",
       "<tr>\n",
       "  <th>x6</th>    <td> 9449.9102</td> <td>  126.858</td> <td>   74.492</td> <td> 0.000</td> <td> 9201.271</td> <td> 9698.549</td>\n",
       "</tr>\n",
       "<tr>\n",
       "  <th>x7</th>    <td>-2999.1778</td> <td>   25.757</td> <td> -116.441</td> <td> 0.000</td> <td>-3049.661</td> <td>-2948.695</td>\n",
       "</tr>\n",
       "<tr>\n",
       "  <th>x8</th>    <td>  -38.7806</td> <td>   18.262</td> <td>   -2.124</td> <td> 0.034</td> <td>  -74.573</td> <td>   -2.988</td>\n",
       "</tr>\n",
       "<tr>\n",
       "  <th>x9</th>    <td>-1652.0399</td> <td>   16.411</td> <td> -100.665</td> <td> 0.000</td> <td>-1684.205</td> <td>-1619.874</td>\n",
       "</tr>\n",
       "<tr>\n",
       "  <th>x10</th>   <td>-7.791e+04</td> <td> 1894.151</td> <td>  -41.132</td> <td> 0.000</td> <td>-8.16e+04</td> <td>-7.42e+04</td>\n",
       "</tr>\n",
       "<tr>\n",
       "  <th>x11</th>   <td>-1.282e+04</td> <td>  109.495</td> <td> -117.070</td> <td> 0.000</td> <td> -1.3e+04</td> <td>-1.26e+04</td>\n",
       "</tr>\n",
       "<tr>\n",
       "  <th>x12</th>   <td> 7.548e+04</td> <td> 2183.425</td> <td>   34.569</td> <td> 0.000</td> <td> 7.12e+04</td> <td> 7.98e+04</td>\n",
       "</tr>\n",
       "</table>\n",
       "<table class=\"simpletable\">\n",
       "<tr>\n",
       "  <th>Omnibus:</th>       <td>104441.251</td> <th>  Durbin-Watson:     </th>  <td>   2.005</td> \n",
       "</tr>\n",
       "<tr>\n",
       "  <th>Prob(Omnibus):</th>   <td> 0.000</td>   <th>  Jarque-Bera (JB):  </th> <td>615649.938</td>\n",
       "</tr>\n",
       "<tr>\n",
       "  <th>Skew:</th>            <td> 1.483</td>   <th>  Prob(JB):          </th>  <td>    0.00</td> \n",
       "</tr>\n",
       "<tr>\n",
       "  <th>Kurtosis:</th>        <td> 9.191</td>   <th>  Cond. No.          </th>  <td>1.18e+03</td> \n",
       "</tr>\n",
       "</table><br/><br/>Notes:<br/>[1] Standard Errors assume that the covariance matrix of the errors is correctly specified.<br/>[2] The condition number is large, 1.18e+03. This might indicate that there are<br/>strong multicollinearity or other numerical problems."
      ],
      "text/plain": [
       "<class 'statsmodels.iolib.summary.Summary'>\n",
       "\"\"\"\n",
       "                            OLS Regression Results                            \n",
       "==============================================================================\n",
       "Dep. Variable:                  price   R-squared:                       0.479\n",
       "Model:                            OLS   Adj. R-squared:                  0.479\n",
       "Method:                 Least Squares   F-statistic:                 2.399e+04\n",
       "Date:                Mon, 15 Feb 2021   Prob (F-statistic):               0.00\n",
       "Time:                        08:34:37   Log-Likelihood:            -2.9558e+06\n",
       "No. Observations:              313498   AIC:                         5.912e+06\n",
       "Df Residuals:                  313485   BIC:                         5.912e+06\n",
       "Df Model:                          12                                         \n",
       "Covariance Type:            nonrobust                                         \n",
       "==============================================================================\n",
       "                 coef    std err          t      P>|t|      [0.025      0.975]\n",
       "------------------------------------------------------------------------------\n",
       "const       8229.6570     42.415    194.028      0.000    8146.525    8312.789\n",
       "x1            -1.2004     10.758     -0.112      0.911     -22.287      19.886\n",
       "x2           400.4295     21.892     18.291      0.000     357.522     443.337\n",
       "x3         -1511.3778     19.565    -77.249      0.000   -1549.725   -1473.031\n",
       "x4          1.855e+04     63.232    293.360      0.000    1.84e+04    1.87e+04\n",
       "x5           483.0837     21.295     22.685      0.000     441.346     524.822\n",
       "x6          9449.9102    126.858     74.492      0.000    9201.271    9698.549\n",
       "x7         -2999.1778     25.757   -116.441      0.000   -3049.661   -2948.695\n",
       "x8           -38.7806     18.262     -2.124      0.034     -74.573      -2.988\n",
       "x9         -1652.0399     16.411   -100.665      0.000   -1684.205   -1619.874\n",
       "x10        -7.791e+04   1894.151    -41.132      0.000   -8.16e+04   -7.42e+04\n",
       "x11        -1.282e+04    109.495   -117.070      0.000    -1.3e+04   -1.26e+04\n",
       "x12         7.548e+04   2183.425     34.569      0.000    7.12e+04    7.98e+04\n",
       "==============================================================================\n",
       "Omnibus:                   104441.251   Durbin-Watson:                   2.005\n",
       "Prob(Omnibus):                  0.000   Jarque-Bera (JB):           615649.938\n",
       "Skew:                           1.483   Prob(JB):                         0.00\n",
       "Kurtosis:                       9.191   Cond. No.                     1.18e+03\n",
       "==============================================================================\n",
       "\n",
       "Notes:\n",
       "[1] Standard Errors assume that the covariance matrix of the errors is correctly specified.\n",
       "[2] The condition number is large, 1.18e+03. This might indicate that there are\n",
       "strong multicollinearity or other numerical problems.\n",
       "\"\"\""
      ]
     },
     "execution_count": 29,
     "metadata": {},
     "output_type": "execute_result"
    }
   ],
   "source": [
    "vl = sm.add_constant(x_12)\n",
    "modelo = sm.OLS(y,vl)\n",
    "modelo = modelo.fit()\n",
    "modelo.summary()"
   ]
  },
  {
   "cell_type": "markdown",
   "metadata": {},
   "source": [
    "# Gradient Boosting Regressor"
   ]
  },
  {
   "cell_type": "code",
   "execution_count": 30,
   "metadata": {},
   "outputs": [
    {
     "data": {
      "text/plain": [
       "0.880802270903196"
      ]
     },
     "execution_count": 30,
     "metadata": {},
     "output_type": "execute_result"
    }
   ],
   "source": [
    "x_train, x_test, y_train, y_test = train_test_split(x,y, test_size=0.2)\n",
    "gbr = GradientBoostingRegressor(n_estimators=100, learning_rate=.1, max_depth=10, loss='ls')\n",
    "gbr.fit(x_train, y_train)\n",
    "mean_squared_error(y_test, gbr.predict(x_test))\n",
    "gbr.score(x_test,y_test)"
   ]
  },
  {
   "cell_type": "code",
   "execution_count": 31,
   "metadata": {},
   "outputs": [
    {
     "data": {
      "text/plain": [
       "0.6282042414951836"
      ]
     },
     "execution_count": 31,
     "metadata": {},
     "output_type": "execute_result"
    }
   ],
   "source": [
    "x_train, x_test, y_train, y_test = train_test_split(x_4,y, test_size=0.2)\n",
    "gbr = GradientBoostingRegressor(n_estimators=100, learning_rate=.1, max_depth=10, loss='ls')\n",
    "gbr.fit(x_train, y_train)\n",
    "mean_squared_error(y_test, gbr.predict(x_test))\n",
    "gbr.score(x_test,y_test)"
   ]
  },
  {
   "cell_type": "code",
   "execution_count": 32,
   "metadata": {},
   "outputs": [
    {
     "data": {
      "text/plain": [
       "0.8371685216537814"
      ]
     },
     "execution_count": 32,
     "metadata": {},
     "output_type": "execute_result"
    }
   ],
   "source": [
    "x_train, x_test, y_train, y_test = train_test_split(x_6,y, test_size=0.2)\n",
    "gbr = GradientBoostingRegressor(n_estimators=100, learning_rate=.1, max_depth=10)\n",
    "gbr.fit(x_train, y_train)\n",
    "mean_squared_error(y_test, gbr.predict(x_test))\n",
    "gbr.score(x_test,y_test)"
   ]
  },
  {
   "cell_type": "code",
   "execution_count": 33,
   "metadata": {},
   "outputs": [
    {
     "data": {
      "text/plain": [
       "0.8644329482534886"
      ]
     },
     "execution_count": 33,
     "metadata": {},
     "output_type": "execute_result"
    }
   ],
   "source": [
    "x_train, x_test, y_train, y_test = train_test_split(x_8,y, test_size=0.2)\n",
    "gbr = GradientBoostingRegressor(n_estimators=100, learning_rate=.1, max_depth=10)\n",
    "gbr.fit(x_train, y_train)\n",
    "mean_squared_error(y_test, gbr.predict(x_test))\n",
    "gbr.score(x_test,y_test)"
   ]
  },
  {
   "cell_type": "code",
   "execution_count": 34,
   "metadata": {},
   "outputs": [
    {
     "data": {
      "text/plain": [
       "0.8597821707410023"
      ]
     },
     "execution_count": 34,
     "metadata": {},
     "output_type": "execute_result"
    }
   ],
   "source": [
    "x_train, x_test, y_train, y_test = train_test_split(x_10,y, test_size=0.2)\n",
    "gbr = GradientBoostingRegressor(n_estimators=100, learning_rate=.1, max_depth=10)\n",
    "gbr.fit(x_train, y_train)\n",
    "mean_squared_error(y_test, gbr.predict(x_test))\n",
    "gbr.score(x_test,y_test)"
   ]
  },
  {
   "cell_type": "code",
   "execution_count": 35,
   "metadata": {},
   "outputs": [
    {
     "data": {
      "text/plain": [
       "0.8735211321861729"
      ]
     },
     "execution_count": 35,
     "metadata": {},
     "output_type": "execute_result"
    }
   ],
   "source": [
    "x_train, x_test, y_train, y_test = train_test_split(x_12,y, test_size=0.2)\n",
    "gbr = GradientBoostingRegressor(n_estimators=100, learning_rate=.1, max_depth=10)\n",
    "gbr.fit(x_train, y_train)\n",
    "mean_squared_error(y_test, gbr.predict(x_test))\n",
    "gbr.score(x_test,y_test)"
   ]
  }
 ],
 "metadata": {
  "kernelspec": {
   "display_name": "Python 3",
   "language": "python",
   "name": "python3"
  },
  "language_info": {
   "codemirror_mode": {
    "name": "ipython",
    "version": 3
   },
   "file_extension": ".py",
   "mimetype": "text/x-python",
   "name": "python",
   "nbconvert_exporter": "python",
   "pygments_lexer": "ipython3",
   "version": "3.6.12"
  }
 },
 "nbformat": 4,
 "nbformat_minor": 4
}
