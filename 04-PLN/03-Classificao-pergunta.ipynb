{
  "cells": [
    {
      "cell_type": "code",
      "execution_count": null,
      "metadata": {
        "colab": {
          "base_uri": "https://localhost:8080/",
          "height": 355
        },
        "colab_type": "code",
        "id": "Q96J17TwzgwH",
        "outputId": "b3852924-82d7-46ea-e767-09db2f8a9291"
      },
      "outputs": [
        {
          "data": {
            "text/html": [
              "<div>\n",
              "<style scoped>\n",
              "    .dataframe tbody tr th:only-of-type {\n",
              "        vertical-align: middle;\n",
              "    }\n",
              "\n",
              "    .dataframe tbody tr th {\n",
              "        vertical-align: top;\n",
              "    }\n",
              "\n",
              "    .dataframe thead th {\n",
              "        text-align: right;\n",
              "    }\n",
              "</style>\n",
              "<table border=\"1\" class=\"dataframe\">\n",
              "  <thead>\n",
              "    <tr style=\"text-align: right;\">\n",
              "      <th></th>\n",
              "      <th>Perguntas</th>\n",
              "      <th>Tags</th>\n",
              "    </tr>\n",
              "  </thead>\n",
              "  <tbody>\n",
              "    <tr>\n",
              "      <th>3697</th>\n",
              "      <td>Eu preciso trocar um texto que está em um CODE...</td>\n",
              "      <td>html</td>\n",
              "    </tr>\n",
              "    <tr>\n",
              "      <th>1390</th>\n",
              "      <td>Olá, eu sou meio leigo em PHP vou aprendendo a...</td>\n",
              "      <td>html</td>\n",
              "    </tr>\n",
              "    <tr>\n",
              "      <th>4320</th>\n",
              "      <td>Estou criando um site e estou usando angular, ...</td>\n",
              "      <td>html angular</td>\n",
              "    </tr>\n",
              "    <tr>\n",
              "      <th>1660</th>\n",
              "      <td>Tenho uma nav com 5 botoes, e um footer com a ...</td>\n",
              "      <td>jquery</td>\n",
              "    </tr>\n",
              "    <tr>\n",
              "      <th>3074</th>\n",
              "      <td>não estou conseguindo instalar o jsPDF no meu ...</td>\n",
              "      <td>node.js</td>\n",
              "    </tr>\n",
              "    <tr>\n",
              "      <th>309</th>\n",
              "      <td>Como o titulo diz, estou tendo dificuldade par...</td>\n",
              "      <td>angular</td>\n",
              "    </tr>\n",
              "    <tr>\n",
              "      <th>1233</th>\n",
              "      <td>O sistema não funciona quando digita número co...</td>\n",
              "      <td>jquery</td>\n",
              "    </tr>\n",
              "    <tr>\n",
              "      <th>649</th>\n",
              "      <td>Preciso que ao usuário selecionar uma data na ...</td>\n",
              "      <td>html</td>\n",
              "    </tr>\n",
              "    <tr>\n",
              "      <th>2009</th>\n",
              "      <td>Gostaria de tirar uma dúvida em como comunicar...</td>\n",
              "      <td>node.js</td>\n",
              "    </tr>\n",
              "    <tr>\n",
              "      <th>3505</th>\n",
              "      <td>Ao procurar por como renderizar uma CODE  em u...</td>\n",
              "      <td>jquery</td>\n",
              "    </tr>\n",
              "  </tbody>\n",
              "</table>\n",
              "</div>"
            ],
            "text/plain": [
              "                                              Perguntas          Tags\n",
              "3697  Eu preciso trocar um texto que está em um CODE...          html\n",
              "1390  Olá, eu sou meio leigo em PHP vou aprendendo a...          html\n",
              "4320  Estou criando um site e estou usando angular, ...  html angular\n",
              "1660  Tenho uma nav com 5 botoes, e um footer com a ...        jquery\n",
              "3074  não estou conseguindo instalar o jsPDF no meu ...       node.js\n",
              "309   Como o titulo diz, estou tendo dificuldade par...       angular\n",
              "1233  O sistema não funciona quando digita número co...        jquery\n",
              "649   Preciso que ao usuário selecionar uma data na ...         html \n",
              "2009  Gostaria de tirar uma dúvida em como comunicar...       node.js\n",
              "3505  Ao procurar por como renderizar uma CODE  em u...        jquery"
            ]
          },
          "execution_count": 1,
          "metadata": {
            "tags": []
          },
          "output_type": "execute_result"
        }
      ],
      "source": [
        "import pandas as pd\n",
        "\n",
        "perguntas = pd.read_csv(\"../dados/04-02-stackoverflow_portugues.csv\")\n",
        "perguntas.sample(10)"
      ]
    },
    {
      "cell_type": "code",
      "execution_count": null,
      "metadata": {
        "colab": {
          "base_uri": "https://localhost:8080/",
          "height": 35
        },
        "colab_type": "code",
        "id": "63jQ1Adf0JRC",
        "outputId": "c5d56b1e-a20c-4129-d1be-d8b83b31176b"
      },
      "outputs": [
        {
          "name": "stdout",
          "output_type": "stream",
          "text": [
            "5408\n"
          ]
        }
      ],
      "source": [
        "print(len(perguntas))"
      ]
    },
    {
      "cell_type": "code",
      "execution_count": null,
      "metadata": {
        "colab": {
          "base_uri": "https://localhost:8080/",
          "height": 191
        },
        "colab_type": "code",
        "id": "ixuDmW6H9mTv",
        "outputId": "d667b783-5a63-4d18-aa72-425a4abf83f5"
      },
      "outputs": [
        {
          "data": {
            "text/plain": [
              "array(['node.js', 'jquery', 'html', 'html angular ', 'html ', 'angular',\n",
              "       'angular ', 'jquery html  ', 'jquery ', 'jquery html',\n",
              "       'jquery html ', 'html angular', 'angular node.js ', 'html  ',\n",
              "       'jquery html angular', 'node.js ', 'html jquery', 'html jquery ',\n",
              "       'jquery angular  ', 'html node.js', 'jquery  ', 'angular node.js',\n",
              "       'jquery angular', 'html node.js ', 'jquery node.js ', 'angular  ',\n",
              "       'jquery angular ', 'jquery html angular ', 'node.js html ',\n",
              "       ' node.js', 'node.js html', 'html angular  ', 'jquery node.js',\n",
              "       'angular html', 'html angular  node.js', 'jquery html node.js',\n",
              "       'html angular node.js'], dtype=object)"
            ]
          },
          "execution_count": 3,
          "metadata": {
            "tags": []
          },
          "output_type": "execute_result"
        }
      ],
      "source": [
        "perguntas.Tags.unique()"
      ]
    },
    {
      "cell_type": "code",
      "execution_count": null,
      "metadata": {
        "colab": {
          "base_uri": "https://localhost:8080/",
          "height": 35
        },
        "colab_type": "code",
        "id": "w3XxtKpAE_v-",
        "outputId": "6db323a9-31ea-4f2b-fcb4-241b56d3ecc0"
      },
      "outputs": [
        {
          "name": "stdout",
          "output_type": "stream",
          "text": [
            "['node.js', 'jquery', 'html', 'angular']\n"
          ]
        }
      ],
      "source": [
        "# Separando os dados por espaço para pegar os valores únicos\n",
        "lista_de_tags = list()\n",
        "for tags in perguntas.Tags.unique():\n",
        "    for tag in tags.split():\n",
        "        if tag not in lista_de_tags:\n",
        "            lista_de_tags.append(tag)\n",
        "        \n",
        "print(lista_de_tags)"
      ]
    },
    {
      "cell_type": "code",
      "execution_count": null,
      "metadata": {
        "colab": {
          "base_uri": "https://localhost:8080/",
          "height": 415
        },
        "colab_type": "code",
        "id": "l_FtnocJeVIv",
        "outputId": "3af70a6e-1992-419f-926d-68228744559f"
      },
      "outputs": [
        {
          "data": {
            "text/html": [
              "<div>\n",
              "<style scoped>\n",
              "    .dataframe tbody tr th:only-of-type {\n",
              "        vertical-align: middle;\n",
              "    }\n",
              "\n",
              "    .dataframe tbody tr th {\n",
              "        vertical-align: top;\n",
              "    }\n",
              "\n",
              "    .dataframe thead th {\n",
              "        text-align: right;\n",
              "    }\n",
              "</style>\n",
              "<table border=\"1\" class=\"dataframe\">\n",
              "  <thead>\n",
              "    <tr style=\"text-align: right;\">\n",
              "      <th></th>\n",
              "      <th>Perguntas</th>\n",
              "      <th>Tags</th>\n",
              "      <th>node.js</th>\n",
              "    </tr>\n",
              "  </thead>\n",
              "  <tbody>\n",
              "    <tr>\n",
              "      <th>0</th>\n",
              "      <td>Possuo um projeto Node.js porém preciso criar ...</td>\n",
              "      <td>node.js</td>\n",
              "      <td>1</td>\n",
              "    </tr>\n",
              "    <tr>\n",
              "      <th>1</th>\n",
              "      <td>Gostaria de fazer testes unitários no Node.js,...</td>\n",
              "      <td>node.js</td>\n",
              "      <td>1</td>\n",
              "    </tr>\n",
              "    <tr>\n",
              "      <th>2</th>\n",
              "      <td>Como inverter a ordem com que o jQuery itera u...</td>\n",
              "      <td>jquery</td>\n",
              "      <td>0</td>\n",
              "    </tr>\n",
              "    <tr>\n",
              "      <th>3</th>\n",
              "      <td>Eu tenho uma página onde pretendo utilizar um ...</td>\n",
              "      <td>html</td>\n",
              "      <td>0</td>\n",
              "    </tr>\n",
              "    <tr>\n",
              "      <th>4</th>\n",
              "      <td>Como exibir os dados retornados do FireStore e...</td>\n",
              "      <td>html angular</td>\n",
              "      <td>0</td>\n",
              "    </tr>\n",
              "    <tr>\n",
              "      <th>...</th>\n",
              "      <td>...</td>\n",
              "      <td>...</td>\n",
              "      <td>...</td>\n",
              "    </tr>\n",
              "    <tr>\n",
              "      <th>5403</th>\n",
              "      <td>Queria saber como pegar o total de cores de um...</td>\n",
              "      <td>jquery html</td>\n",
              "      <td>0</td>\n",
              "    </tr>\n",
              "    <tr>\n",
              "      <th>5404</th>\n",
              "      <td>Boa noite, estou usando phonegap para fazer um...</td>\n",
              "      <td>html</td>\n",
              "      <td>0</td>\n",
              "    </tr>\n",
              "    <tr>\n",
              "      <th>5405</th>\n",
              "      <td>Estou construindo um mini fórum, e nele, os us...</td>\n",
              "      <td>jquery html</td>\n",
              "      <td>0</td>\n",
              "    </tr>\n",
              "    <tr>\n",
              "      <th>5406</th>\n",
              "      <td>Boa tarde,  Estou para desenvolver um site na ...</td>\n",
              "      <td>html</td>\n",
              "      <td>0</td>\n",
              "    </tr>\n",
              "    <tr>\n",
              "      <th>5407</th>\n",
              "      <td>Estou fazendo um hotsite, ele é one page, e é ...</td>\n",
              "      <td>jquery html</td>\n",
              "      <td>0</td>\n",
              "    </tr>\n",
              "  </tbody>\n",
              "</table>\n",
              "<p>5408 rows × 3 columns</p>\n",
              "</div>"
            ],
            "text/plain": [
              "                                              Perguntas           Tags  node.js\n",
              "0     Possuo um projeto Node.js porém preciso criar ...        node.js        1\n",
              "1     Gostaria de fazer testes unitários no Node.js,...        node.js        1\n",
              "2     Como inverter a ordem com que o jQuery itera u...         jquery        0\n",
              "3     Eu tenho uma página onde pretendo utilizar um ...           html        0\n",
              "4     Como exibir os dados retornados do FireStore e...  html angular         0\n",
              "...                                                 ...            ...      ...\n",
              "5403  Queria saber como pegar o total de cores de um...   jquery html         0\n",
              "5404  Boa noite, estou usando phonegap para fazer um...          html         0\n",
              "5405  Estou construindo um mini fórum, e nele, os us...    jquery html        0\n",
              "5406  Boa tarde,  Estou para desenvolver um site na ...           html        0\n",
              "5407  Estou fazendo um hotsite, ele é one page, e é ...    jquery html        0\n",
              "\n",
              "[5408 rows x 3 columns]"
            ]
          },
          "execution_count": 5,
          "metadata": {
            "tags": []
          },
          "output_type": "execute_result"
        }
      ],
      "source": [
        "# Convertendo para coluna\n",
        "node_js = list()\n",
        "for linha_tag in perguntas.Tags:\n",
        "    if \"node.js\" in linha_tag:\n",
        "        node_js.append(1)\n",
        "    else:\n",
        "        node_js.append(0)\n",
        "perguntas[\"node.js\"] = node_js\n",
        "perguntas"
      ]
    },
    {
      "cell_type": "code",
      "execution_count": null,
      "metadata": {
        "colab": {
          "base_uri": "https://localhost:8080/",
          "height": 355
        },
        "colab_type": "code",
        "id": "Qbdw-od-kvvq",
        "outputId": "d5c7440a-c7db-4f82-a611-4ca402c2d450"
      },
      "outputs": [
        {
          "data": {
            "text/html": [
              "<div>\n",
              "<style scoped>\n",
              "    .dataframe tbody tr th:only-of-type {\n",
              "        vertical-align: middle;\n",
              "    }\n",
              "\n",
              "    .dataframe tbody tr th {\n",
              "        vertical-align: top;\n",
              "    }\n",
              "\n",
              "    .dataframe thead th {\n",
              "        text-align: right;\n",
              "    }\n",
              "</style>\n",
              "<table border=\"1\" class=\"dataframe\">\n",
              "  <thead>\n",
              "    <tr style=\"text-align: right;\">\n",
              "      <th></th>\n",
              "      <th>Perguntas</th>\n",
              "      <th>Tags</th>\n",
              "      <th>node.js</th>\n",
              "      <th>jquery</th>\n",
              "      <th>html</th>\n",
              "      <th>angular</th>\n",
              "    </tr>\n",
              "  </thead>\n",
              "  <tbody>\n",
              "    <tr>\n",
              "      <th>5341</th>\n",
              "      <td>Meu código para bloqueio de caracteres esta as...</td>\n",
              "      <td>html</td>\n",
              "      <td>0</td>\n",
              "      <td>0</td>\n",
              "      <td>1</td>\n",
              "      <td>0</td>\n",
              "    </tr>\n",
              "    <tr>\n",
              "      <th>1011</th>\n",
              "      <td>Estou tentando conectar a um banco de teste Fi...</td>\n",
              "      <td>node.js</td>\n",
              "      <td>1</td>\n",
              "      <td>0</td>\n",
              "      <td>0</td>\n",
              "      <td>0</td>\n",
              "    </tr>\n",
              "    <tr>\n",
              "      <th>5299</th>\n",
              "      <td>Preciso colocar um Carousel(Slider) em uma hom...</td>\n",
              "      <td>jquery</td>\n",
              "      <td>0</td>\n",
              "      <td>1</td>\n",
              "      <td>0</td>\n",
              "      <td>0</td>\n",
              "    </tr>\n",
              "    <tr>\n",
              "      <th>2912</th>\n",
              "      <td>Galera tenho o seguinte código em jQuery:  COD...</td>\n",
              "      <td>jquery</td>\n",
              "      <td>0</td>\n",
              "      <td>1</td>\n",
              "      <td>0</td>\n",
              "      <td>0</td>\n",
              "    </tr>\n",
              "    <tr>\n",
              "      <th>1281</th>\n",
              "      <td>Boa tarde, preciso colocar o conteúdo de um po...</td>\n",
              "      <td>html</td>\n",
              "      <td>0</td>\n",
              "      <td>0</td>\n",
              "      <td>1</td>\n",
              "      <td>0</td>\n",
              "    </tr>\n",
              "    <tr>\n",
              "      <th>4236</th>\n",
              "      <td>Galera, é o seguinte: criei um formulário e um...</td>\n",
              "      <td>html</td>\n",
              "      <td>0</td>\n",
              "      <td>0</td>\n",
              "      <td>1</td>\n",
              "      <td>0</td>\n",
              "    </tr>\n",
              "    <tr>\n",
              "      <th>2332</th>\n",
              "      <td>Eu tenho um formulário e ele executa uma actio...</td>\n",
              "      <td>jquery html</td>\n",
              "      <td>0</td>\n",
              "      <td>1</td>\n",
              "      <td>1</td>\n",
              "      <td>0</td>\n",
              "    </tr>\n",
              "    <tr>\n",
              "      <th>2344</th>\n",
              "      <td>Preciso de todas as entidades HTML originais d...</td>\n",
              "      <td>html</td>\n",
              "      <td>0</td>\n",
              "      <td>0</td>\n",
              "      <td>1</td>\n",
              "      <td>0</td>\n",
              "    </tr>\n",
              "    <tr>\n",
              "      <th>301</th>\n",
              "      <td>Tenho o seguinte input file que faz o upload d...</td>\n",
              "      <td>html angular</td>\n",
              "      <td>0</td>\n",
              "      <td>0</td>\n",
              "      <td>1</td>\n",
              "      <td>1</td>\n",
              "    </tr>\n",
              "    <tr>\n",
              "      <th>1607</th>\n",
              "      <td>Bom, utilizando jquery e js, eu queria fazer u...</td>\n",
              "      <td>jquery html</td>\n",
              "      <td>0</td>\n",
              "      <td>1</td>\n",
              "      <td>1</td>\n",
              "      <td>0</td>\n",
              "    </tr>\n",
              "  </tbody>\n",
              "</table>\n",
              "</div>"
            ],
            "text/plain": [
              "                                              Perguntas  ... angular\n",
              "5341  Meu código para bloqueio de caracteres esta as...  ...       0\n",
              "1011  Estou tentando conectar a um banco de teste Fi...  ...       0\n",
              "5299  Preciso colocar um Carousel(Slider) em uma hom...  ...       0\n",
              "2912  Galera tenho o seguinte código em jQuery:  COD...  ...       0\n",
              "1281  Boa tarde, preciso colocar o conteúdo de um po...  ...       0\n",
              "4236  Galera, é o seguinte: criei um formulário e um...  ...       0\n",
              "2332  Eu tenho um formulário e ele executa uma actio...  ...       0\n",
              "2344  Preciso de todas as entidades HTML originais d...  ...       0\n",
              "301   Tenho o seguinte input file que faz o upload d...  ...       1\n",
              "1607  Bom, utilizando jquery e js, eu queria fazer u...  ...       0\n",
              "\n",
              "[10 rows x 6 columns]"
            ]
          },
          "execution_count": 6,
          "metadata": {
            "tags": []
          },
          "output_type": "execute_result"
        }
      ],
      "source": [
        "def nova_coluna(lista_tags, dataframe, nome_tags):\n",
        "    \"\"\"\n",
        "    Converte os labels da uma em colunas binárias.\n",
        "    \"\"\"\n",
        "    for tag in lista_tags:\n",
        "        coluna = list()\n",
        "        for linha_tag in dataframe[nome_tags]:\n",
        "            if tag in linha_tag:\n",
        "                coluna.append(1)\n",
        "            else:\n",
        "                coluna.append(0)\n",
        "        dataframe[tag] = coluna\n",
        "nova_coluna(lista_de_tags, perguntas, \"Tags\")\n",
        "perguntas.sample(10)"
      ]
    },
    {
      "cell_type": "code",
      "execution_count": null,
      "metadata": {
        "colab": {},
        "colab_type": "code",
        "id": "VVrQgRWOmcKJ"
      },
      "outputs": [],
      "source": [
        "\n",
        "from sklearn.model_selection import train_test_split\n",
        "\n",
        "perguntas_treino, perguntas_test, tags_treino, tags_teste = train_test_split(perguntas.Peguntas, perguntas.Tags)"
      ]
    },
    {
      "cell_type": "code",
      "execution_count": null,
      "metadata": {
        "colab": {
          "base_uri": "https://localhost:8080/",
          "height": 35
        },
        "colab_type": "code",
        "id": "D559gY9864G9",
        "outputId": "021e7b7b-7f9e-4bfb-d00a-93c56361d25c"
      },
      "outputs": [
        {
          "name": "stdout",
          "output_type": "stream",
          "text": [
            "[(1, 5), (2, 4)]\n"
          ]
        }
      ],
      "source": [
        "lista_1 = [1,2]\n",
        "lista_2 = [5,4]\n",
        "lista_zip = zip(lista_1, lista_2)\n",
        "print(list(lista_zip))"
      ]
    },
    {
      "cell_type": "code",
      "execution_count": null,
      "metadata": {
        "colab": {
          "base_uri": "https://localhost:8080/",
          "height": 529
        },
        "colab_type": "code",
        "id": "UUb4OgID8Gk_",
        "outputId": "f1007f58-ca28-4a44-f7a8-f72a29e88c2d"
      },
      "outputs": [
        {
          "data": {
            "text/html": [
              "<div>\n",
              "<style scoped>\n",
              "    .dataframe tbody tr th:only-of-type {\n",
              "        vertical-align: middle;\n",
              "    }\n",
              "\n",
              "    .dataframe tbody tr th {\n",
              "        vertical-align: top;\n",
              "    }\n",
              "\n",
              "    .dataframe thead th {\n",
              "        text-align: right;\n",
              "    }\n",
              "</style>\n",
              "<table border=\"1\" class=\"dataframe\">\n",
              "  <thead>\n",
              "    <tr style=\"text-align: right;\">\n",
              "      <th></th>\n",
              "      <th>Perguntas</th>\n",
              "      <th>Tags</th>\n",
              "      <th>node.js</th>\n",
              "      <th>jquery</th>\n",
              "      <th>html</th>\n",
              "      <th>angular</th>\n",
              "      <th>todas_tags</th>\n",
              "    </tr>\n",
              "  </thead>\n",
              "  <tbody>\n",
              "    <tr>\n",
              "      <th>3411</th>\n",
              "      <td>Bom, eu tenho o seguinte código em javascript:...</td>\n",
              "      <td>html</td>\n",
              "      <td>0</td>\n",
              "      <td>0</td>\n",
              "      <td>1</td>\n",
              "      <td>0</td>\n",
              "      <td>(0, 0, 1, 0)</td>\n",
              "    </tr>\n",
              "    <tr>\n",
              "      <th>4384</th>\n",
              "      <td>Estou procurando uma forma de criar \"Máscaras\"...</td>\n",
              "      <td>html</td>\n",
              "      <td>0</td>\n",
              "      <td>0</td>\n",
              "      <td>1</td>\n",
              "      <td>0</td>\n",
              "      <td>(0, 0, 1, 0)</td>\n",
              "    </tr>\n",
              "    <tr>\n",
              "      <th>4333</th>\n",
              "      <td>Eae galera, estou com um probleminha para dar ...</td>\n",
              "      <td>node.js</td>\n",
              "      <td>1</td>\n",
              "      <td>0</td>\n",
              "      <td>0</td>\n",
              "      <td>0</td>\n",
              "      <td>(1, 0, 0, 0)</td>\n",
              "    </tr>\n",
              "    <tr>\n",
              "      <th>374</th>\n",
              "      <td>No back end quando faço submit ele apenas me a...</td>\n",
              "      <td>html</td>\n",
              "      <td>0</td>\n",
              "      <td>0</td>\n",
              "      <td>1</td>\n",
              "      <td>0</td>\n",
              "      <td>(0, 0, 1, 0)</td>\n",
              "    </tr>\n",
              "    <tr>\n",
              "      <th>4407</th>\n",
              "      <td>Estou usando o script skrollr.js em um site e ...</td>\n",
              "      <td>html</td>\n",
              "      <td>0</td>\n",
              "      <td>0</td>\n",
              "      <td>1</td>\n",
              "      <td>0</td>\n",
              "      <td>(0, 0, 1, 0)</td>\n",
              "    </tr>\n",
              "    <tr>\n",
              "      <th>2498</th>\n",
              "      <td>Estou consumindo uma API através de um método ...</td>\n",
              "      <td>angular</td>\n",
              "      <td>0</td>\n",
              "      <td>0</td>\n",
              "      <td>0</td>\n",
              "      <td>1</td>\n",
              "      <td>(0, 0, 0, 1)</td>\n",
              "    </tr>\n",
              "    <tr>\n",
              "      <th>3788</th>\n",
              "      <td>Estou com problemas ao adicionar a classe no m...</td>\n",
              "      <td>angular</td>\n",
              "      <td>0</td>\n",
              "      <td>0</td>\n",
              "      <td>0</td>\n",
              "      <td>1</td>\n",
              "      <td>(0, 0, 0, 1)</td>\n",
              "    </tr>\n",
              "    <tr>\n",
              "      <th>666</th>\n",
              "      <td>Tenho essa classe no meu CSS:  CODE   Ela não ...</td>\n",
              "      <td>jquery</td>\n",
              "      <td>0</td>\n",
              "      <td>1</td>\n",
              "      <td>0</td>\n",
              "      <td>0</td>\n",
              "      <td>(0, 1, 0, 0)</td>\n",
              "    </tr>\n",
              "    <tr>\n",
              "      <th>1498</th>\n",
              "      <td>Possuo uma pagina que ta dando select em php e...</td>\n",
              "      <td>jquery</td>\n",
              "      <td>0</td>\n",
              "      <td>1</td>\n",
              "      <td>0</td>\n",
              "      <td>0</td>\n",
              "      <td>(0, 1, 0, 0)</td>\n",
              "    </tr>\n",
              "    <tr>\n",
              "      <th>427</th>\n",
              "      <td>Tenho dois input date criado, e gostaria de pe...</td>\n",
              "      <td>jquery html</td>\n",
              "      <td>0</td>\n",
              "      <td>1</td>\n",
              "      <td>1</td>\n",
              "      <td>0</td>\n",
              "      <td>(0, 1, 1, 0)</td>\n",
              "    </tr>\n",
              "  </tbody>\n",
              "</table>\n",
              "</div>"
            ],
            "text/plain": [
              "                                              Perguntas  ...    todas_tags\n",
              "3411  Bom, eu tenho o seguinte código em javascript:...  ...  (0, 0, 1, 0)\n",
              "4384  Estou procurando uma forma de criar \"Máscaras\"...  ...  (0, 0, 1, 0)\n",
              "4333  Eae galera, estou com um probleminha para dar ...  ...  (1, 0, 0, 0)\n",
              "374   No back end quando faço submit ele apenas me a...  ...  (0, 0, 1, 0)\n",
              "4407  Estou usando o script skrollr.js em um site e ...  ...  (0, 0, 1, 0)\n",
              "2498  Estou consumindo uma API através de um método ...  ...  (0, 0, 0, 1)\n",
              "3788  Estou com problemas ao adicionar a classe no m...  ...  (0, 0, 0, 1)\n",
              "666   Tenho essa classe no meu CSS:  CODE   Ela não ...  ...  (0, 1, 0, 0)\n",
              "1498  Possuo uma pagina que ta dando select em php e...  ...  (0, 1, 0, 0)\n",
              "427   Tenho dois input date criado, e gostaria de pe...  ...  (0, 1, 1, 0)\n",
              "\n",
              "[10 rows x 7 columns]"
            ]
          },
          "execution_count": 8,
          "metadata": {
            "tags": []
          },
          "output_type": "execute_result"
        }
      ],
      "source": [
        "# Juntando as colunas targets dentro de uma tupla\n",
        "lista_zip_tags = list(zip(perguntas[lista_de_tags[0]],\n",
        "                        perguntas[lista_de_tags[1]],\n",
        "                        perguntas[lista_de_tags[2]],\n",
        "                        perguntas[lista_de_tags[3]]))\n",
        "\n",
        "perguntas[\"todas_tags\"] = lista_zip_tags\n",
        "perguntas.sample(10)"
      ]
    },
    {
      "cell_type": "code",
      "execution_count": null,
      "metadata": {
        "colab": {
          "base_uri": "https://localhost:8080/",
          "height": 35
        },
        "colab_type": "code",
        "id": "gfeuZ3qy9vUD",
        "outputId": "cda1b7c0-0bb8-40f5-ec2b-ba5257fff365"
      },
      "outputs": [
        {
          "data": {
            "text/plain": [
              "['node.js', 'jquery', 'html', 'angular']"
            ]
          },
          "execution_count": 9,
          "metadata": {
            "tags": []
          },
          "output_type": "execute_result"
        }
      ],
      "source": [
        "lista_de_tags"
      ]
    },
    {
      "cell_type": "code",
      "execution_count": null,
      "metadata": {
        "colab": {},
        "colab_type": "code",
        "id": "pWhQ9JVr9wvU"
      },
      "outputs": [],
      "source": [
        "from sklearn.model_selection import train_test_split\n",
        "\n",
        "perguntas_treino, perguntas_test, tags_treino, tags_teste = train_test_split(perguntas.Perguntas,perguntas.todas_tags,test_size = 0.2,random_state = 123)"
      ]
    },
    {
      "cell_type": "code",
      "execution_count": null,
      "metadata": {
        "colab": {
          "base_uri": "https://localhost:8080/",
          "height": 225
        },
        "colab_type": "code",
        "id": "Ybd92zs5DOAG",
        "outputId": "5a054461-35be-4e0e-8193-a633816bc51c"
      },
      "outputs": [
        {
          "data": {
            "text/plain": [
              "1577       array1 = [1,2,3];   array2 = [\"um\",\"dois\",\"...\n",
              "1927    Não sei se fui claro no título, mas quem é da ...\n",
              "3409    Alguém sabe me dizer qual a melhor forma de re...\n",
              "4606    Estou com problemas ao tentar validar campos d...\n",
              "5237    Preciso copiar um valor de dentro de um CODE  ...\n",
              "                              ...                        \n",
              "5218    Tenho um sisteminha, para mudar o layout da pá...\n",
              "4060    Como fazer alto scoll ao carregar a página?  E...\n",
              "1346    Explicação:  Tenho uma CODE  pai que contém du...\n",
              "3454    Estou querendo fazer um sistema onde eu iria t...\n",
              "3582    Galera eu to com um problemão, ja pesquisei ba...\n",
              "Name: Perguntas, Length: 4326, dtype: object"
            ]
          },
          "execution_count": 11,
          "metadata": {
            "tags": []
          },
          "output_type": "execute_result"
        }
      ],
      "source": [
        "perguntas_treino"
      ]
    },
    {
      "cell_type": "code",
      "execution_count": null,
      "metadata": {
        "colab": {
          "base_uri": "https://localhost:8080/",
          "height": 139
        },
        "colab_type": "code",
        "id": "92oPYJG1vRj8",
        "outputId": "c4a3aa11-90f3-43bb-a606-33d37725a024"
      },
      "outputs": [
        {
          "data": {
            "text/plain": [
              "TfidfVectorizer(analyzer='word', binary=False, decode_error='strict',\n",
              "                dtype=<class 'numpy.float64'>, encoding='utf-8',\n",
              "                input='content', lowercase=True, max_df=0.85, max_features=5000,\n",
              "                min_df=1, ngram_range=(1, 1), norm='l2', preprocessor=None,\n",
              "                smooth_idf=True, stop_words=None, strip_accents=None,\n",
              "                sublinear_tf=False, token_pattern='(?u)\\\\b\\\\w\\\\w+\\\\b',\n",
              "                tokenizer=None, use_idf=True, vocabulary=None)"
            ]
          },
          "execution_count": 12,
          "metadata": {
            "tags": []
          },
          "output_type": "execute_result"
        }
      ],
      "source": [
        "from sklearn.feature_extraction.text import TfidfVectorizer\n",
        "\n",
        "# vetor com 5000 palavras - max_df ignora palavras frequentes\n",
        "vetorizar = TfidfVectorizer(max_features=5000, max_df=0.85)\n",
        "vetorizar"
      ]
    },
    {
      "cell_type": "code",
      "execution_count": null,
      "metadata": {
        "colab": {
          "base_uri": "https://localhost:8080/",
          "height": 52
        },
        "colab_type": "code",
        "id": "vKuHvRZdxedg",
        "outputId": "34995b56-df5b-4a35-eb31-be318528cb9b"
      },
      "outputs": [
        {
          "name": "stdout",
          "output_type": "stream",
          "text": [
            "(4326, 5000)\n",
            "(1082, 5000)\n"
          ]
        }
      ],
      "source": [
        "vetorizar.fit(perguntas.Perguntas)\n",
        "perguntas_treino_tfidf = vetorizar.transform(perguntas_treino)\n",
        "perguntas_test_tfidf = vetorizar.transform(perguntas_test)\n",
        "print(perguntas_treino_tfidf.shape)\n",
        "print(perguntas_test_tfidf.shape)"
      ]
    },
    {
      "cell_type": "code",
      "execution_count": null,
      "metadata": {
        "colab": {},
        "colab_type": "code",
        "id": "a_bTxAsDCtke"
      },
      "outputs": [],
      "source": [
        "from sklearn.multiclass import OneVsRestClassifier\n",
        "from sklearn.linear_model import LogisticRegression\n",
        "\n",
        "regressao_logistica = LogisticRegression()\n",
        "classificador_onevsrest = OneVsRestClassifier(regressao_logistica)\n",
        "classificador_onevsrest.fit(perguntas_treino_tfidf, tags_treino)# formato de lista "
      ]
    },
    {
      "cell_type": "code",
      "execution_count": null,
      "metadata": {
        "colab": {
          "base_uri": "https://localhost:8080/",
          "height": 35
        },
        "colab_type": "code",
        "id": "U7VI2m4tJye9",
        "outputId": "b9e622df-af4a-4299-9398-3e27356efe39"
      },
      "outputs": [
        {
          "data": {
            "text/plain": [
              "pandas.core.series.Series"
            ]
          },
          "execution_count": 17,
          "metadata": {
            "tags": []
          },
          "output_type": "execute_result"
        }
      ],
      "source": [
        "type(tags_treino)"
      ]
    },
    {
      "cell_type": "code",
      "execution_count": null,
      "metadata": {
        "colab": {
          "base_uri": "https://localhost:8080/",
          "height": 156
        },
        "colab_type": "code",
        "id": "pOcRWKluKr7N",
        "outputId": "ad4b9f80-1901-42f4-bc0b-69d4b5285929"
      },
      "outputs": [
        {
          "name": "stdout",
          "output_type": "stream",
          "text": [
            "[[0 1 0 0]\n",
            " [0 1 0 0]\n",
            " [0 0 1 0]\n",
            " ...\n",
            " [0 1 1 0]\n",
            " [0 0 1 0]\n",
            " [0 1 1 0]]\n",
            "<class 'numpy.ndarray'>\n"
          ]
        }
      ],
      "source": [
        "import numpy as np\n",
        "\n",
        "tags_treino_array = np.asarray(list(tags_treino))\n",
        "tags_teste_array = np.asarray(list(tags_teste))\n",
        "print(tags_treino_array)\n",
        "print(type(tags_treino_array))"
      ]
    },
    {
      "cell_type": "code",
      "execution_count": null,
      "metadata": {
        "colab": {
          "base_uri": "https://localhost:8080/",
          "height": 35
        },
        "colab_type": "code",
        "id": "FGJkjr2TL9uI",
        "outputId": "62ca580e-cdcb-40fd-dea2-a484197a6a5b"
      },
      "outputs": [
        {
          "name": "stdout",
          "output_type": "stream",
          "text": [
            "Resultado  41.68%\n"
          ]
        }
      ],
      "source": [
        "from sklearn.multiclass import OneVsRestClassifier\n",
        "from sklearn.linear_model import LogisticRegression\n",
        "\n",
        "# Relevancia binaria\n",
        "\n",
        "regressao_logistica = LogisticRegression(solver = 'lbfgs')\n",
        "classificador_onevsrest = OneVsRestClassifier(regressao_logistica)\n",
        "classificador_onevsrest.fit(perguntas_treino_tfidf, tags_treino_array)\n",
        "resultado_onevsrest = classificador_onevsrest.score(perguntas_test_tfidf, tags_teste_array)\n",
        "print(\"Resultado {0: .2f}%\".format(resultado_onevsrest*100))"
      ]
    },
    {
      "cell_type": "code",
      "execution_count": null,
      "metadata": {
        "colab": {
          "base_uri": "https://localhost:8080/",
          "height": 87
        },
        "colab_type": "code",
        "id": "Q_yJqObXOAPI",
        "outputId": "960707cc-3a76-45dc-ab2e-b0fd7cdce2e3"
      },
      "outputs": [
        {
          "data": {
            "text/plain": [
              "array([(1, 0, 0, 0), (0, 1, 0, 0), (0, 0, 1, 0), (0, 0, 1, 1),\n",
              "       (0, 0, 0, 1), (0, 1, 1, 0), (1, 0, 0, 1), (0, 1, 1, 1),\n",
              "       (0, 1, 0, 1), (1, 0, 1, 0), (1, 1, 0, 0), (1, 0, 1, 1),\n",
              "       (1, 1, 1, 0)], dtype=object)"
            ]
          },
          "execution_count": 20,
          "metadata": {
            "tags": []
          },
          "output_type": "execute_result"
        }
      ],
      "source": [
        "perguntas.todas_tags.unique()"
      ]
    },
    {
      "cell_type": "code",
      "execution_count": null,
      "metadata": {
        "colab": {
          "base_uri": "https://localhost:8080/",
          "height": 35
        },
        "colab_type": "code",
        "id": "Ns5ncpYR_4-1",
        "outputId": "6c6fb37b-85d7-43ad-f7f7-5a982a10274a"
      },
      "outputs": [
        {
          "data": {
            "text/plain": [
              "13"
            ]
          },
          "execution_count": 21,
          "metadata": {
            "tags": []
          },
          "output_type": "execute_result"
        }
      ],
      "source": [
        "len(perguntas.todas_tags.unique())"
      ]
    },
    {
      "cell_type": "code",
      "execution_count": null,
      "metadata": {
        "colab": {
          "base_uri": "https://localhost:8080/",
          "height": 35
        },
        "colab_type": "code",
        "id": "tkIBKw-vAL04",
        "outputId": "860c0edf-5eda-472f-8545-e17707d646b2"
      },
      "outputs": [
        {
          "data": {
            "text/plain": [
              "0.07692307692307693"
            ]
          },
          "execution_count": 22,
          "metadata": {
            "tags": []
          },
          "output_type": "execute_result"
        }
      ],
      "source": [
        "1/13"
      ]
    },
    {
      "cell_type": "code",
      "execution_count": null,
      "metadata": {
        "colab": {
          "base_uri": "https://localhost:8080/",
          "height": 35
        },
        "colab_type": "code",
        "id": "riJ5pUNSAPqQ",
        "outputId": "3f52d191-2098-44df-e22b-b07b2085032d"
      },
      "outputs": [
        {
          "name": "stdout",
          "output_type": "stream",
          "text": [
            "Hamming Loss  0.19\n"
          ]
        }
      ],
      "source": [
        "from sklearn.metrics import hamming_loss\n",
        "\n",
        "previsao_onevsrest = classificador_onevsrest.predict(perguntas_test_tfidf)\n",
        "hamming_loss_onevsrest = hamming_loss(tags_teste_array, previsao_onevsrest)\n",
        "print(\"Hamming Loss {0: .2f}\".format(hamming_loss_onevsrest))"
      ]
    },
    {
      "cell_type": "code",
      "execution_count": null,
      "metadata": {
        "colab": {
          "base_uri": "https://localhost:8080/",
          "height": 171
        },
        "colab_type": "code",
        "id": "bg7zhEQEBh_F",
        "outputId": "7675c5c9-ea78-4375-dd12-cb6aa4c76375"
      },
      "outputs": [
        {
          "data": {
            "text/html": [
              "<div>\n",
              "<style scoped>\n",
              "    .dataframe tbody tr th:only-of-type {\n",
              "        vertical-align: middle;\n",
              "    }\n",
              "\n",
              "    .dataframe tbody tr th {\n",
              "        vertical-align: top;\n",
              "    }\n",
              "\n",
              "    .dataframe thead th {\n",
              "        text-align: right;\n",
              "    }\n",
              "</style>\n",
              "<table border=\"1\" class=\"dataframe\">\n",
              "  <thead>\n",
              "    <tr style=\"text-align: right;\">\n",
              "      <th></th>\n",
              "      <th>node.js</th>\n",
              "      <th>jquery</th>\n",
              "      <th>html</th>\n",
              "      <th>angular</th>\n",
              "    </tr>\n",
              "  </thead>\n",
              "  <tbody>\n",
              "    <tr>\n",
              "      <th>node.js</th>\n",
              "      <td>1.000000</td>\n",
              "      <td>-0.321485</td>\n",
              "      <td>-0.273523</td>\n",
              "      <td>-0.101787</td>\n",
              "    </tr>\n",
              "    <tr>\n",
              "      <th>jquery</th>\n",
              "      <td>-0.321485</td>\n",
              "      <td>1.000000</td>\n",
              "      <td>-0.253977</td>\n",
              "      <td>-0.366269</td>\n",
              "    </tr>\n",
              "    <tr>\n",
              "      <th>html</th>\n",
              "      <td>-0.273523</td>\n",
              "      <td>-0.253977</td>\n",
              "      <td>1.000000</td>\n",
              "      <td>-0.286706</td>\n",
              "    </tr>\n",
              "    <tr>\n",
              "      <th>angular</th>\n",
              "      <td>-0.101787</td>\n",
              "      <td>-0.366269</td>\n",
              "      <td>-0.286706</td>\n",
              "      <td>1.000000</td>\n",
              "    </tr>\n",
              "  </tbody>\n",
              "</table>\n",
              "</div>"
            ],
            "text/plain": [
              "          node.js    jquery      html   angular\n",
              "node.js  1.000000 -0.321485 -0.273523 -0.101787\n",
              "jquery  -0.321485  1.000000 -0.253977 -0.366269\n",
              "html    -0.273523 -0.253977  1.000000 -0.286706\n",
              "angular -0.101787 -0.366269 -0.286706  1.000000"
            ]
          },
          "execution_count": 25,
          "metadata": {
            "tags": []
          },
          "output_type": "execute_result"
        }
      ],
      "source": [
        "perguntas.corr()"
      ]
    },
    {
      "cell_type": "code",
      "execution_count": 2,
      "metadata": {
        "colab": {
          "base_uri": "https://localhost:8080/",
          "height": 124
        },
        "colab_type": "code",
        "id": "Te3KvAfPBkwu",
        "outputId": "44bc54e0-cf2d-4d70-f825-45ce0dd131ef"
      },
      "outputs": [],
      "source": [
        "# !pip install scikit-multilearn"
      ]
    },
    {
      "cell_type": "code",
      "execution_count": null,
      "metadata": {
        "colab": {
          "base_uri": "https://localhost:8080/",
          "height": 52
        },
        "colab_type": "code",
        "id": "A8DCR1TyEXla",
        "outputId": "189bd2e6-89a5-4500-bcdc-6ea93f7d25a9"
      },
      "outputs": [
        {
          "name": "stdout",
          "output_type": "stream",
          "text": [
            "Hamming Loss  0.21\n",
            "Resultado  49.82%\n"
          ]
        }
      ],
      "source": [
        "from skmultilearn.problem_transform import ClassifierChain\n",
        "\n",
        "classificador_cadeia = ClassifierChain(regressao_logistica)\n",
        "classificador_cadeia.fit(perguntas_treino_tfidf, tags_treino_array)\n",
        "resultado_cadeia = classificador_cadeia.score(perguntas_test_tfidf, tags_teste_array)\n",
        "previsao_cadeia = classificador_cadeia.predict(perguntas_test_tfidf)\n",
        "hamming_loss_cadeia = hamming_loss(tags_teste_array, previsao_cadeia)\n",
        "print(\"Hamming Loss {0: .2f}\".format(hamming_loss_cadeia))\n",
        "print(\"Resultado {0: .2f}%\".format(resultado_cadeia*100))"
      ]
    },
    {
      "cell_type": "code",
      "execution_count": null,
      "metadata": {
        "colab": {
          "base_uri": "https://localhost:8080/",
          "height": 52
        },
        "colab_type": "code",
        "id": "P7ZLzYPhNeJ6",
        "outputId": "c06b9fd9-9ede-44d9-b222-9f8555b7c160"
      },
      "outputs": [
        {
          "name": "stdout",
          "output_type": "stream",
          "text": [
            "Hamming Loss  0.19\n",
            "Resultado  41.68%\n"
          ]
        }
      ],
      "source": [
        "from skmultilearn.problem_transform import BinaryRelevance\n",
        "\n",
        "classificador_br = BinaryRelevance(regressao_logistica)\n",
        "classificador_br.fit(perguntas_treino_tfidf, tags_treino_array)\n",
        "resultado_br = classificador_br.score(perguntas_test_tfidf, tags_teste_array)\n",
        "previsao_br = classificador_br.predict(perguntas_test_tfidf)\n",
        "hamming_loss_br = hamming_loss(tags_teste_array, previsao_br)\n",
        "print(\"Hamming Loss {0: .2f}\".format(hamming_loss_br))\n",
        "print(\"Resultado {0: .2f}%\".format(resultado_br*100))"
      ]
    },
    {
      "cell_type": "code",
      "execution_count": null,
      "metadata": {
        "colab": {
          "base_uri": "https://localhost:8080/",
          "height": 52
        },
        "colab_type": "code",
        "id": "SJeXkPHn_vLl",
        "outputId": "504691b1-bae2-43b4-b96c-1f4d3d8dd402"
      },
      "outputs": [
        {
          "name": "stdout",
          "output_type": "stream",
          "text": [
            "Hamming Loss  0.21\n",
            "Resultado  32.53%\n"
          ]
        }
      ],
      "source": [
        "from skmultilearn.adapt import MLkNN\n",
        "\n",
        "classificador_mlknn = MLkNN()\n",
        "classificador_mlknn.fit(perguntas_treino_tfidf, tags_treino_array)\n",
        "resultado_mlknn = classificador_mlknn.score(perguntas_test_tfidf, tags_teste_array)\n",
        "previsao_mlknn = classificador_mlknn.predict(perguntas_test_tfidf)\n",
        "hamming_loss_mlknn = hamming_loss(tags_teste_array, previsao_cadeia)\n",
        "print(\"Hamming Loss {0: .2f}\".format(hamming_loss_mlknn))\n",
        "print(\"Resultado {0: .2f}%\".format(resultado_mlknn*100))"
      ]
    },
    {
      "cell_type": "code",
      "execution_count": null,
      "metadata": {
        "colab": {
          "base_uri": "https://localhost:8080/",
          "height": 52
        },
        "colab_type": "code",
        "id": "6f9lvzsYDF3b",
        "outputId": "919e5b9d-fea0-47e7-eec5-44c825f5973f"
      },
      "outputs": [
        {
          "name": "stdout",
          "output_type": "stream",
          "text": [
            "Hamming Loss cadeia  0.21\n",
            "Resultado cadeia  49.82%\n"
          ]
        }
      ],
      "source": [
        "print(\"Hamming Loss cadeia {0: .2f}\".format(hamming_loss_cadeia))\n",
        "print(\"Resultado cadeia {0: .2f}%\".format(resultado_cadeia*100))"
      ]
    },
    {
      "cell_type": "code",
      "execution_count": null,
      "metadata": {
        "colab": {
          "base_uri": "https://localhost:8080/",
          "height": 52
        },
        "colab_type": "code",
        "id": "_i5-oXWjEE1Z",
        "outputId": "4afb878e-7d0b-441e-cde3-4b4eb12c5dc0"
      },
      "outputs": [
        {
          "name": "stdout",
          "output_type": "stream",
          "text": [
            "Hamming Loss br  0.19\n",
            "Resultado br  41.68%\n"
          ]
        }
      ],
      "source": [
        "print(\"Hamming Loss br {0: .2f}\".format(hamming_loss_br))\n",
        "print(\"Resultado br {0: .2f}%\".format(resultado_br*100))"
      ]
    },
    {
      "cell_type": "code",
      "execution_count": null,
      "metadata": {
        "colab": {
          "base_uri": "https://localhost:8080/",
          "height": 606
        },
        "colab_type": "code",
        "id": "4vZkQplAIous",
        "outputId": "57359177-aba7-4630-e40d-ab56f76bcd1e"
      },
      "outputs": [
        {
          "data": {
            "text/html": [
              "<div>\n",
              "<style scoped>\n",
              "    .dataframe tbody tr th:only-of-type {\n",
              "        vertical-align: middle;\n",
              "    }\n",
              "\n",
              "    .dataframe tbody tr th {\n",
              "        vertical-align: top;\n",
              "    }\n",
              "\n",
              "    .dataframe thead th {\n",
              "        text-align: right;\n",
              "    }\n",
              "</style>\n",
              "<table border=\"1\" class=\"dataframe\">\n",
              "  <thead>\n",
              "    <tr style=\"text-align: right;\">\n",
              "      <th></th>\n",
              "      <th>perguntas</th>\n",
              "      <th>tags real</th>\n",
              "      <th>BR</th>\n",
              "      <th>cadeia</th>\n",
              "      <th>mlknn</th>\n",
              "    </tr>\n",
              "  </thead>\n",
              "  <tbody>\n",
              "    <tr>\n",
              "      <th>0</th>\n",
              "      <td>estou com conflito entre o  CODE   e os  CODE ...</td>\n",
              "      <td>(0, 1, 0, 0)</td>\n",
              "      <td>[0, 1, 0, 0]</td>\n",
              "      <td>[0.0, 1.0, 0.0, 0.0]</td>\n",
              "      <td>[0, 0, 0, 0]</td>\n",
              "    </tr>\n",
              "    <tr>\n",
              "      <th>1</th>\n",
              "      <td>Estou fazendo um site que eu sou obrigado a us...</td>\n",
              "      <td>(0, 0, 1, 0)</td>\n",
              "      <td>[0, 0, 1, 0]</td>\n",
              "      <td>[0.0, 0.0, 1.0, 0.0]</td>\n",
              "      <td>[0, 1, 1, 0]</td>\n",
              "    </tr>\n",
              "    <tr>\n",
              "      <th>2</th>\n",
              "      <td>Recentemente fiz um refactor do meu código par...</td>\n",
              "      <td>(1, 0, 0, 0)</td>\n",
              "      <td>[1, 0, 0, 0]</td>\n",
              "      <td>[1.0, 0.0, 0.0, 0.0]</td>\n",
              "      <td>[1, 0, 0, 0]</td>\n",
              "    </tr>\n",
              "    <tr>\n",
              "      <th>3</th>\n",
              "      <td>Eu tenho esse código em CODE  que passo valore...</td>\n",
              "      <td>(0, 1, 1, 0)</td>\n",
              "      <td>[0, 1, 0, 0]</td>\n",
              "      <td>[0.0, 1.0, 0.0, 0.0]</td>\n",
              "      <td>[0, 1, 1, 0]</td>\n",
              "    </tr>\n",
              "    <tr>\n",
              "      <th>4</th>\n",
              "      <td>Olá, em minha função tem o evento CODE  que de...</td>\n",
              "      <td>(0, 1, 1, 0)</td>\n",
              "      <td>[0, 1, 0, 0]</td>\n",
              "      <td>[0.0, 1.0, 0.0, 0.0]</td>\n",
              "      <td>[0, 1, 1, 0]</td>\n",
              "    </tr>\n",
              "    <tr>\n",
              "      <th>...</th>\n",
              "      <td>...</td>\n",
              "      <td>...</td>\n",
              "      <td>...</td>\n",
              "      <td>...</td>\n",
              "      <td>...</td>\n",
              "    </tr>\n",
              "    <tr>\n",
              "      <th>1077</th>\n",
              "      <td>Estou a desenvolver um website em jQuery. E at...</td>\n",
              "      <td>(0, 1, 0, 0)</td>\n",
              "      <td>[0, 1, 1, 0]</td>\n",
              "      <td>[0.0, 1.0, 1.0, 0.0]</td>\n",
              "      <td>[0, 0, 1, 0]</td>\n",
              "    </tr>\n",
              "    <tr>\n",
              "      <th>1078</th>\n",
              "      <td>Estou usando este plugin - jquery autocomplete...</td>\n",
              "      <td>(0, 1, 0, 0)</td>\n",
              "      <td>[0, 1, 0, 0]</td>\n",
              "      <td>[0.0, 1.0, 0.0, 0.0]</td>\n",
              "      <td>[0, 1, 0, 0]</td>\n",
              "    </tr>\n",
              "    <tr>\n",
              "      <th>1079</th>\n",
              "      <td>Tenho o seguinte jQuery:  CODE   Nisto, quanti...</td>\n",
              "      <td>(0, 1, 0, 0)</td>\n",
              "      <td>[0, 1, 0, 0]</td>\n",
              "      <td>[0.0, 1.0, 0.0, 0.0]</td>\n",
              "      <td>[0, 1, 0, 0]</td>\n",
              "    </tr>\n",
              "    <tr>\n",
              "      <th>1080</th>\n",
              "      <td>Estou usando o SimpleModal Contact Form de Eri...</td>\n",
              "      <td>(0, 1, 0, 0)</td>\n",
              "      <td>[0, 1, 0, 0]</td>\n",
              "      <td>[0.0, 1.0, 0.0, 0.0]</td>\n",
              "      <td>[0, 1, 0, 0]</td>\n",
              "    </tr>\n",
              "    <tr>\n",
              "      <th>1081</th>\n",
              "      <td>Estou tento problemas com o webpack, gostaria ...</td>\n",
              "      <td>(0, 0, 0, 1)</td>\n",
              "      <td>[0, 0, 0, 0]</td>\n",
              "      <td>[0.0, 0.0, 1.0, 0.0]</td>\n",
              "      <td>[0, 0, 1, 0]</td>\n",
              "    </tr>\n",
              "  </tbody>\n",
              "</table>\n",
              "<p>1082 rows × 5 columns</p>\n",
              "</div>"
            ],
            "text/plain": [
              "                                              perguntas  ...         mlknn\n",
              "0     estou com conflito entre o  CODE   e os  CODE ...  ...  [0, 0, 0, 0]\n",
              "1     Estou fazendo um site que eu sou obrigado a us...  ...  [0, 1, 1, 0]\n",
              "2     Recentemente fiz um refactor do meu código par...  ...  [1, 0, 0, 0]\n",
              "3     Eu tenho esse código em CODE  que passo valore...  ...  [0, 1, 1, 0]\n",
              "4     Olá, em minha função tem o evento CODE  que de...  ...  [0, 1, 1, 0]\n",
              "...                                                 ...  ...           ...\n",
              "1077  Estou a desenvolver um website em jQuery. E at...  ...  [0, 0, 1, 0]\n",
              "1078  Estou usando este plugin - jquery autocomplete...  ...  [0, 1, 0, 0]\n",
              "1079  Tenho o seguinte jQuery:  CODE   Nisto, quanti...  ...  [0, 1, 0, 0]\n",
              "1080  Estou usando o SimpleModal Contact Form de Eri...  ...  [0, 1, 0, 0]\n",
              "1081  Estou tento problemas com o webpack, gostaria ...  ...  [0, 0, 1, 0]\n",
              "\n",
              "[1082 rows x 5 columns]"
            ]
          },
          "execution_count": 63,
          "metadata": {
            "tags": []
          },
          "output_type": "execute_result"
        }
      ],
      "source": [
        "resultados_classificacao = pd.DataFrame()\n",
        "resultados_classificacao[\"perguntas\"] = perguntas_test.values\n",
        "resultados_classificacao[\"tags real\"] = list(tags_teste)\n",
        "resultados_classificacao[\"BR\"] = list(previsao_br.toarray())\n",
        "resultados_classificacao[\"cadeia\"] = list(previsao_cadeia.toarray())\n",
        "resultados_classificacao[\"mlknn\"] = list(previsao_mlknn.toarray())\n",
        "resultados_classificacao"
      ]
    },
    {
      "cell_type": "code",
      "execution_count": null,
      "metadata": {
        "colab": {
          "base_uri": "https://localhost:8080/",
          "height": 52
        },
        "colab_type": "code",
        "id": "vpPe4ZqpJnWz",
        "outputId": "40926190-9fd8-4d18-9624-b15b57b1c40d"
      },
      "outputs": [
        {
          "data": {
            "text/plain": [
              "<1082x4 sparse matrix of type '<class 'numpy.int64'>'\n",
              "\twith 965 stored elements in Compressed Sparse Column format>"
            ]
          },
          "execution_count": 52,
          "metadata": {
            "tags": []
          },
          "output_type": "execute_result"
        }
      ],
      "source": [
        "previsao_br"
      ]
    },
    {
      "cell_type": "code",
      "execution_count": null,
      "metadata": {
        "colab": {
          "base_uri": "https://localhost:8080/",
          "height": 121
        },
        "colab_type": "code",
        "id": "gV9QDxO0LZzB",
        "outputId": "9098d053-2886-48db-b792-48ccf1ef1a7e"
      },
      "outputs": [
        {
          "data": {
            "text/plain": [
              "perguntas    Estou fazendo um site que eu sou obrigado a us...\n",
              "tags real                                         (0, 0, 1, 0)\n",
              "BR                                                [0, 0, 1, 0]\n",
              "cadeia                                    [0.0, 0.0, 1.0, 0.0]\n",
              "mlknn                                             [0, 1, 1, 0]\n",
              "Name: 1, dtype: object"
            ]
          },
          "execution_count": 65,
          "metadata": {
            "tags": []
          },
          "output_type": "execute_result"
        }
      ],
      "source": [
        "resultados_classificacao.iloc[1]"
      ]
    },
    {
      "cell_type": "code",
      "execution_count": null,
      "metadata": {
        "colab": {
          "base_uri": "https://localhost:8080/",
          "height": 55
        },
        "colab_type": "code",
        "id": "gFfjGxiCLy7C",
        "outputId": "a8776c0a-0fe8-4daf-966c-427f6dfcc13c"
      },
      "outputs": [
        {
          "data": {
            "text/plain": [
              "'Estou fazendo um site que eu sou obrigado a usar HTML, CSS e JavaScript no máximo. Só que muitas coisas que eu preciso do PhP eu não posso usar. Sendo assim eu estive pesquisando por sinonimo de CODE  e encontrei o seguinte, que ajudou em partes:  CODE   Tá, mas qual é o problema? Ele cria uma barra de rolagem do lado. Eu sei como remover com CSS, mas o texto que foi inserido rola só dentro da área da CODE  e eu queria que fizesse como se o texto inserido fizesse parte da página, como funciona no CODE  do PhP. A questão é, como fazer a mecânica do JavaScript nesse caso ficar igual ao do PhP?  Print para exemplificar: https://imgur.com/a/V9AGLgB '"
            ]
          },
          "execution_count": 66,
          "metadata": {
            "tags": []
          },
          "output_type": "execute_result"
        }
      ],
      "source": [
        "resultados_classificacao.perguntas[1]"
      ]
    }
  ],
  "metadata": {
    "colab": {
      "collapsed_sections": [],
      "name": "Aula_7.ipynb",
      "provenance": []
    },
    "kernelspec": {
      "display_name": "Python 3",
      "name": "python3"
    },
    "language_info": {
      "codemirror_mode": {
        "name": "ipython",
        "version": 3
      },
      "file_extension": ".py",
      "mimetype": "text/x-python",
      "name": "python",
      "nbconvert_exporter": "python",
      "pygments_lexer": "ipython3",
      "version": "3.11.7"
    }
  },
  "nbformat": 4,
  "nbformat_minor": 0
}
